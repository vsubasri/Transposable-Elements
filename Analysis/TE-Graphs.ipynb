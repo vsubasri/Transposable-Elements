{
 "cells": [
  {
   "cell_type": "code",
   "execution_count": 1,
   "id": "ff664cb5",
   "metadata": {},
   "outputs": [],
   "source": [
    "'''\n",
    "load original df\n",
    "'''\n",
    "\n",
    "import pandas as pd\n",
    "import os\n",
    "import numpy as np\n",
    "from functions import *\n",
    "from scipy.stats import mannwhitneyu\n",
    "import seaborn as sns\n",
    "from matplotlib import pyplot as plt\n",
    "from matplotlib.cbook import boxplot_stats\n",
    "import re\n",
    "import warnings\n",
    "warnings.filterwarnings('ignore') #supresses warnings for now\n",
    "#warnings.filterwarnings(action='once') #shows warnings once\n",
    "from statannotations.Annotator import Annotator\n",
    "\n",
    "dataFilePath = os.path.join(os.getcwd(),'Data')\n",
    "\n",
    "kicsTEdf = pd.read_csv(os.path.join(dataFilePath,'kics_transposable_elements.txt'), sep = '\\t', header = 0)\n",
    "lfsTEdf = pd.read_csv(os.path.join(dataFilePath,'lfs_transposable_elements.txt'), sep = '\\t', header = 0)\n",
    "lfsClinicdf = pd.read_csv(os.path.join(dataFilePath,'lfs_clinical_main.tsv'), sep = '\\t', header = 0)\n",
    "kicsClinicdf = pd.read_csv(os.path.join(dataFilePath,'kics_clinical_edited.csv'), encoding='latin-1')"
   ]
  },
  {
   "cell_type": "code",
   "execution_count": 2,
   "id": "562d1204",
   "metadata": {
    "scrolled": false
   },
   "outputs": [],
   "source": [
    "#setting the font of the graphs\n",
    "sns.set(font_scale=1.5)"
   ]
  },
  {
   "cell_type": "code",
   "execution_count": 3,
   "id": "972b432c",
   "metadata": {},
   "outputs": [],
   "source": [
    "\"\"\"\n",
    "Kics clinic df cleaning\n",
    "\"\"\"\n",
    "#removal of these Kics ID\n",
    "listValSearch = ['63', '83', '156', '171', '219', '120', '141', '232']\n",
    "\n",
    "kicsClinicdf['KiCS ID'] = kicsClinicdf['KiCS ID'].astype(str)\n",
    "kicsClinicdf['KiCS ID'] = kicsClinicdf['KiCS ID'].str.replace(\" \", \"\")\n",
    "\n",
    "for i in listValSearch:\n",
    "    kicsClinicdf.drop(kicsClinicdf[kicsClinicdf['KiCS ID']==i].index, inplace = True)\n",
    "\n",
    "#these two lines are causing us to go from 140->90 ish samples\n",
    "#drop columns with '?' and na cancer types\n",
    "kicsClinicdf.drop(kicsClinicdf.loc[kicsClinicdf['tissue_type']=='?'].index, inplace=True)\n",
    "kicsClinicdf.drop(kicsClinicdf.loc[pd.isna(kicsClinicdf['lfs_cancer_type_diagnosis'])].index, inplace=True)\n"
   ]
  },
  {
   "cell_type": "code",
   "execution_count": 4,
   "id": "87f0c46c",
   "metadata": {},
   "outputs": [],
   "source": [
    "\"\"\"\n",
    "lfs clinic df cleaning\n",
    "\"\"\"\n",
    "#sample id cleaning\n",
    "lfsClinicdf['sample'] = lfsClinicdf['sample'].astype(str)\n",
    "lfsClinicdf['sample'] = lfsClinicdf['sample'].str.replace(\" \", \"\")\n",
    "\n",
    "for i in listValSearch:\n",
    "    lfsClinicdf.drop(lfsClinicdf[lfsClinicdf['sample']==i].index, inplace = True)\n",
    "\n",
    "#tissue type and cancer diagnosis cleaning\n",
    "lfsClinicdf.drop(lfsClinicdf.loc[lfsClinicdf['tissue_type']=='?'].index, inplace=True)\n",
    "lfsClinicdf.drop(lfsClinicdf.loc[pd.isna(lfsClinicdf['cancer_diagnosis'])].index, inplace=True)"
   ]
  },
  {
   "cell_type": "code",
   "execution_count": 5,
   "id": "742c54a4",
   "metadata": {},
   "outputs": [
    {
     "name": "stdout",
     "output_type": "stream",
     "text": [
      "ALU      90163\n",
      "LINE1     4342\n",
      "SVA       2712\n",
      "Name: ALT, dtype: int64\n"
     ]
    }
   ],
   "source": [
    "\"\"\"\n",
    "'ALT' column clean up\n",
    "\"\"\"\n",
    "\n",
    "kicsTEdf['ALT'] = kicsTEdf['ALT'].str.replace(\"<INS:ME:\",\"\")\n",
    "kicsTEdf['ALT'] = kicsTEdf['ALT'].str.replace(\">\",\"\")\n",
    "\n",
    "lfsTEdf['ALT'] = lfsTEdf['ALT'].str.replace(\"<INS:ME:\",\"\")\n",
    "lfsTEdf['ALT'] = lfsTEdf['ALT'].str.replace(\">\",\"\")\n",
    "print(lfsTEdf['ALT'].value_counts())"
   ]
  },
  {
   "cell_type": "code",
   "execution_count": 6,
   "id": "c50019ac",
   "metadata": {},
   "outputs": [],
   "source": [
    "\"\"\"\n",
    "Filtering and cleaning Samples_ID\n",
    "\"\"\"\n",
    "kicsTEF = kicsTEdf.loc[(kicsTEdf['Annotation_mode'] == 'full')]\n",
    "lfsTEF = lfsTEdf.loc[(lfsTEdf['Annotation_mode'] == 'full')]\n",
    "\n",
    "kicsTEF['SV_chrom'] = kicsTEF['SV_chrom'].astype(str)\n",
    "lfsTEF['SV_chrom'] = lfsTEF['SV_chrom'].astype(str)\n",
    "\n",
    "kicsTEF['Samples_ID'] = kicsTEF['Samples_ID'].astype(str).str.replace(\".realigned-recalibrated\",\"\")\n",
    "lfsTEF['Samples_ID'] = lfsTEdf['Samples_ID'].astype(str).str.replace('.realigned-recalibrated', '')\n",
    "\n",
    "kicsTEF.drop(kicsTEF.loc[pd.isna(kicsTEF['Samples_ID'])].index, inplace=True)\n",
    "lfsTEF.drop(lfsTEF.loc[pd.isna(lfsTEF['Samples_ID'])].index, inplace=True)\n",
    "\n",
    "kicsTEnum = kicsTEF['Samples_ID'].count()\n",
    "lfsTEnum = lfsTEF['Samples_ID'].count()\n",
    "\n",
    "listValSearch = ['291775', '298313', '315666', '320118', '18_1907']\n",
    "# searched for kID of 63, 83, 156, 171, 219 > lynch ids\n",
    "# kID 120 141 and 232 do not have any matches...\n",
    "for i in listValSearch: \n",
    "    kicsTEF.drop(kicsTEF[kicsTEF['Samples_ID'].str.contains(i)==True].index, inplace = True)\n",
    "    \n",
    "\n",
    "mergedTEdf = pd.DataFrame(data = {'kics':kicsTEF['SV_type'], 'kChrom':kicsTEF['SV_chrom'], \n",
    "                                  'kAlt':kicsTEF['ALT'], 'lAlt':lfsTEF['ALT'],\n",
    "                                  'kID':kicsTEF['Samples_ID'], 'lID': lfsTEF['Samples_ID'],\n",
    "                                  'lfs':lfsTEF['SV_type'], 'lChrom':lfsTEF['SV_chrom']})"
   ]
  },
  {
   "cell_type": "code",
   "execution_count": 7,
   "id": "a7213fe7",
   "metadata": {},
   "outputs": [
    {
     "name": "stdout",
     "output_type": "stream",
     "text": [
      "79\n"
     ]
    }
   ],
   "source": [
    "\"\"\"\n",
    "Make big k df\n",
    "\"\"\"\n",
    "\n",
    "UberbigKdf = kIdAbbv(kicsClinicdf, kicsTEF, 'CCP germline', 'Samples_ID')\n",
    "\n",
    "bigKdf = UberbigKdf[['CCP germline', 'Samples_ID', 'tumour_class','tissue_type',\n",
    "                    'lfs_cancer_type_diagnosis', 'abbv_id','diagnosis_age (days)', 'SV_type','abbv_id','ALT']]"
   ]
  },
  {
   "cell_type": "code",
   "execution_count": 8,
   "id": "93ec2fbd",
   "metadata": {},
   "outputs": [],
   "source": [
    "\"\"\"\n",
    "Make a big lfs df\n",
    "\"\"\"\n",
    "UberbigLdf = pd.merge(lfsTEF[['Samples_ID','SV_type','ALT']],\n",
    "                 lfsClinicdf,\n",
    "                 left_on = 'Samples_ID',\n",
    "                 right_on = 'sample',\n",
    "                 how='inner')\n",
    "\n",
    "bigLdf = UberbigLdf[['Samples_ID','SV_type','ALT','sample','tissue_type','cancer_diagnosis','ageofonset']]\n",
    "             \n",
    "bigKdf = bigKdf.rename(columns={'diagnosis_age (days)': 'ageofonset', 'CCP germline':'sample',\n",
    "                                'lfs_cancer_type_diagnosis':'cancer_diagnosis'})"
   ]
  },
  {
   "cell_type": "markdown",
   "id": "3069eb66",
   "metadata": {},
   "source": [
    "# RMS and Soft Tissue"
   ]
  },
  {
   "cell_type": "code",
   "execution_count": 9,
   "id": "38e3775e",
   "metadata": {},
   "outputs": [
    {
     "name": "stdout",
     "output_type": "stream",
     "text": [
      "Overall KiCS Soft Tissue Mappings\n",
      "                                                                                  0\n",
      "Samples_ID ICDO-diagnosis                           lfs_cancer_type_diagnosis      \n",
      "273308     8920/3 - Alveolar rhabdomyosarcoma       RMS                        1948\n",
      "284386     8910/3 - Embryonal Rhabdomyosarcoma, NOS RMS                        4516\n",
      "297043     8910/3 - Embryonal rhabdomyosarcoma, NOS RMS                        1073\n",
      "298866     8910/3 - Embryonal Rhabdomyosarcoma, NOS RMS                        1096\n",
      "305082     8910/3 - Embryonal rhabdomyosarcoma, NOS RMS                        2178\n",
      "\n",
      "Overall LFS Soft Tissue Mappings\n",
      "                                                                 0\n",
      "Samples_ID cancer1                        cancer_diagnosis        \n",
      "1092       Malignant fibrous histiocytoma MFH                 1079\n",
      "1355       Anaplastic ERMS                RMS                 1058\n",
      "1843       High Grade Sarcoma             High Grade Sarcoma  1080\n",
      "2085       ARMS_ERMS                      RMS                 1077\n",
      "2262       Anaplastic ERMS                RMS                 1325\n",
      "2349       Anaplastic ERMS                RMS                 1083\n",
      "2463       Leiomyosarcoma                 LMS                 1076\n",
      "3136A      Anaplastic ERMS                RMS                 1080\n",
      "3634       Myxofibrosarcoma               MFS                 1014\n",
      "3763       Anaplastic ERMS                RMS                 1050\n",
      "4227       Alveolar Rhabdomyosarcoma      RMS                 1019\n",
      "4329       Embryonal rhabdomyosarcoma     RMS                 1098\n",
      "93         Rhabdomyosarcoma               RMS                 1021\n",
      "\n",
      "Overall KiCS RMS Mappings\n",
      "                                                                    0\n",
      "Samples_ID ICDO-diagnosis                           tissue_type      \n",
      "273308     8920/3 - Alveolar rhabdomyosarcoma       Soft Tissue  1948\n",
      "284386     8910/3 - Embryonal Rhabdomyosarcoma, NOS Soft Tissue  4516\n",
      "297043     8910/3 - Embryonal rhabdomyosarcoma, NOS Soft Tissue  1073\n",
      "298866     8910/3 - Embryonal Rhabdomyosarcoma, NOS Soft Tissue  1096\n",
      "305082     8910/3 - Embryonal rhabdomyosarcoma, NOS Soft Tissue  2178\n",
      "\n",
      "Overall LFS RMS Mappings\n",
      "                                                      0\n",
      "Samples_ID cancer1                    tissue_type      \n",
      "1355       Anaplastic ERMS            Soft Tissue  1058\n",
      "2085       ARMS_ERMS                  Soft Tissue  1077\n",
      "2262       Anaplastic ERMS            Soft Tissue  1325\n",
      "2349       Anaplastic ERMS            Soft Tissue  1083\n",
      "3136A      Anaplastic ERMS            Soft Tissue  1080\n",
      "3763       Anaplastic ERMS            Soft Tissue  1050\n",
      "4227       Alveolar Rhabdomyosarcoma  Soft Tissue  1019\n",
      "4329       Embryonal rhabdomyosarcoma Soft Tissue  1098\n",
      "93         Rhabdomyosarcoma           Soft Tissue  1021\n",
      "\n"
     ]
    }
   ],
   "source": [
    "#RMS and Soft tissue breakdown\n",
    "kDf = UberbigKdf[['Samples_ID', 'ALT', 'abbv_id', 'KiCS ID', 'ICDO-diagnosis',\n",
    "       'tissue_type', 'lfs_cancer_type_diagnosis','Previous cancers', 'Germline Sample from',\n",
    "       'Germline sample type', 'CCP germline.1', 'WGS DNA germline',\n",
    "       'WGS germline', 'pathology_id', 'Sample type', 'CCP tumor', 'CCP PPID',\n",
    "       'CCP', 'WGS tumor ID', 'WGS Tumor', 'RNA ID', 'RNA',\n",
    "       'single_somatic_specimen', 'disease_state', 'sample_type',\n",
    "       'post_treatment', 'sample site', 'tumour_class', 'Sex',\n",
    "       'diagnosis_age (days)', 'no_chemo_or_xrt']]\n",
    "\n",
    "#use ICDO-diagnosis\n",
    "lDf = UberbigLdf[['Samples_ID','ALT', 'sample',\n",
    "       'tm_donor', 'tissue_type', 'cancer_diagnosis', 'active_cancer',\n",
    "       'gender', 'systemic_treatment_atdraw', 'ageofonset', 'agesamplecollection',\n",
    "       'cancer_num', 'cancer1_age_diff', 'cancer1', 'cancer1_ageofonset',\n",
    "       'cancer2', 'cancer2_ageofonset', 'cancer3', 'cancer3_ageofonset',\n",
    "       'cancer4', 'cancer4_ageofonset', 'cancer5', 'cancer5_ageofonset',\n",
    "       'cancer6', 'cancer6_ageofonset', 'cancer7', 'cancer7_ageofonset',\n",
    "       'cancer8', 'cancer8_ageofonset']]\n",
    "#use Cancer 1 as detailed cancer diagnsosis\n",
    "\n",
    "#overall diagnosis -> RMS and overall Soft Tissue tissue type <-\n",
    "kST = kDf.loc[kDf['tissue_type']=='Soft Tissue']\n",
    "kST = kST[['Samples_ID', 'ALT', 'ICDO-diagnosis', 'lfs_cancer_type_diagnosis']]\n",
    "lST = lDf.loc[lDf['tissue_type']=='Soft Tissue']\n",
    "lST = lST[['Samples_ID', 'ALT', 'cancer1', 'cancer_diagnosis']]\n",
    "\n",
    "group = kST.drop(['ALT'],axis=1).groupby(['Samples_ID','ICDO-diagnosis']).value_counts().to_frame()\n",
    "print('Overall KiCS Soft Tissue Mappings')\n",
    "print(group)\n",
    "print()\n",
    "\n",
    "group1 = lST.drop(['ALT'],axis=1).groupby(['Samples_ID','cancer1']).value_counts().to_frame()\n",
    "print('Overall LFS Soft Tissue Mappings')\n",
    "print(group1)\n",
    "print()\n",
    "\n",
    "krms = kDf.loc[kDf['lfs_cancer_type_diagnosis']=='RMS']\n",
    "krms = krms[['Samples_ID', 'ALT', 'ICDO-diagnosis', 'tissue_type']]\n",
    "lrms = lDf.loc[lDf['cancer_diagnosis']=='RMS']\n",
    "lrms = lrms[['Samples_ID', 'ALT', 'cancer1', 'tissue_type']]\n",
    "\n",
    "group2 = krms.drop(['ALT'],axis=1).groupby(['Samples_ID','ICDO-diagnosis']).value_counts().to_frame()\n",
    "print('Overall KiCS RMS Mappings')\n",
    "print(group2)\n",
    "print()\n",
    "\n",
    "group2 = lrms.drop(['ALT'],axis=1).groupby(['Samples_ID','cancer1']).value_counts().to_frame()\n",
    "print('Overall LFS RMS Mappings')\n",
    "print(group2)\n",
    "print()"
   ]
  },
  {
   "cell_type": "code",
   "execution_count": 10,
   "id": "a18a5074",
   "metadata": {},
   "outputs": [],
   "source": [
    "titles = ['kics','lfs']\n",
    "columns = titles"
   ]
  },
  {
   "cell_type": "code",
   "execution_count": 11,
   "id": "9a584f21",
   "metadata": {},
   "outputs": [],
   "source": [
    "\"\"\"\n",
    "\n",
    "1. Graph for frequency of SV types\n",
    "2. Graphs for frequency of SV types specific to chromosomes\n",
    "\n",
    "Function to graph bar graphs\n",
    "\n",
    "\"\"\"\n",
    "    \n",
    "xLabels = ['DEL','DUP','INV']\n",
    "uniqueLabels = ['1','2','3','4','5','6','7','8','9','10',\n",
    "                '11','12','13','14','15','16','17','18','19','20','21','22','X','Y']\n"
   ]
  },
  {
   "cell_type": "code",
   "execution_count": 24,
   "id": "51dc307b",
   "metadata": {},
   "outputs": [
    {
     "name": "stdout",
     "output_type": "stream",
     "text": [
      "kId       kics\n",
      "19_18442  INS     1067\n",
      "245676    INS     1030\n",
      "271113    INS     1095\n",
      "271114    INS     1086\n",
      "271115    INS     1120\n",
      "                  ... \n",
      "323274    INS     1085\n",
      "328067    INS     1181\n",
      "5510      INS     1081\n",
      "5511      INS     1107\n",
      "5547      INS     1087\n",
      "Length: 79, dtype: int64\n",
      "[1067, 1030, 1095, 1086, 1120, 1064, 1091, 974, 1082, 1059, 1336, 948, 1052, 1129, 1091, 1071, 1087, 1080, 1059, 1072, 1092, 1120, 1118, 1126, 1108, 1083, 1148, 1114, 1026, 1130, 1087, 1074, 1107, 1273, 1099, 1089, 1061, 1093, 1114, 1097, 1073, 1083, 1087, 1182, 1132, 1079, 1096, 1093, 1183, 1076, 1064, 1140, 1068, 1073, 1298, 1085, 1303, 1069, 1083, 1053, 1058, 1036, 1105, 1069, 1078, 1102, 1089, 1073, 1131, 1080, 1117, 1073, 1092, 1116, 1085, 1181, 1081, 1107, 1087]\n"
     ]
    }
   ],
   "source": [
    "\"\"\"\n",
    "Creating variables and df used to make the SV specific graphs\n",
    "\"\"\"\n",
    "#probably a better way to do this\n",
    "\n",
    "kicsSVTypedf = pd.DataFrame(data = {'kics':kicsTEF['SV_type'], \n",
    "                                  'kId':kicsTEF['Samples_ID']})\n",
    "lfsSVTypedf = pd.DataFrame(data = {'lId':lfsTEF['Samples_ID'],\n",
    "                                  'lfs':lfsTEF['SV_type']})\n",
    "\n",
    "##kics\n",
    "ktemp = kicsSVTypedf.groupby(['kId']).value_counts()\n",
    "\n",
    "##lfs\n",
    "ltemp = lfsSVTypedf.groupby(['lId']).value_counts()\n",
    "\n",
    "#get unique identifiers\n",
    "uniqueK = kicsSVTypedf['kId'].unique()\n",
    "uniqueL = lfsSVTypedf['lId'].unique()"
   ]
  },
  {
   "cell_type": "markdown",
   "id": "b148de95",
   "metadata": {},
   "source": [
    "# SV Type"
   ]
  },
  {
   "cell_type": "code",
   "execution_count": 22,
   "id": "0de9f437",
   "metadata": {},
   "outputs": [
    {
     "name": "stdout",
     "output_type": "stream",
     "text": [
      "[1116, 1073, 1117, 1091, 1120, 1030, 1108, 1080, 1114, 1107, 1102, 1132, 1064, 1131, 1074, 1303, 1083, 974, 1089, 1181, 1061, 1092, 1273, 1298, 1089, 1052, 1069, 1091, 1095, 1058, 1118, 1336, 1069, 1087, 1120, 1087, 948, 1126, 1073, 1093, 1087, 1059, 1093, 1078, 1081, 1099, 1092, 1036, 1085, 1097, 1140, 1068, 1130, 1085, 1083, 1182, 1076, 1114, 1183, 1064, 1105, 1087, 1086, 1072, 1073, 1073, 1083, 1026, 1067, 1148, 1059, 1079, 1129, 1082, 1096, 1053, 1080, 1071, 1107]\n",
      "    kics     lfs\n",
      "0   1116  1047.0\n",
      "1   1073   846.0\n",
      "2   1117  1077.0\n",
      "3   1091  1082.0\n",
      "4   1120  1079.0\n",
      "5   1030  1053.0\n",
      "6   1108  1080.0\n",
      "7   1080  1092.0\n",
      "8   1114  1081.0\n",
      "9   1107  1057.0\n",
      "10  1102  1029.0\n",
      "11  1132  1086.0\n",
      "12  1064  1096.0\n",
      "13  1131  1325.0\n",
      "14  1074  1091.0\n",
      "15  1303  1032.0\n",
      "16  1083  1064.0\n",
      "17   974  1021.0\n",
      "18  1089  1092.0\n",
      "19  1181  1099.0\n",
      "20  1061  1098.0\n",
      "21  1092  1050.0\n",
      "22  1273  1049.0\n",
      "23  1298  1083.0\n",
      "24  1089  1076.0\n",
      "25  1052  1059.0\n",
      "26  1069  1142.0\n",
      "27  1091  1055.0\n",
      "28  1095  1094.0\n",
      "29  1058  1028.0\n"
     ]
    }
   ],
   "source": [
    "kINSData = makeDataSet(uniqueK, ktemp, 'INS')\n",
    "lINSData = makeDataSet(uniqueL, ltemp, 'INS')\n",
    "tempINSDF = makeUnequalDF(kINSData, lINSData)"
   ]
  },
  {
   "cell_type": "markdown",
   "id": "22eb12ab",
   "metadata": {},
   "source": [
    "## INS"
   ]
  },
  {
   "cell_type": "code",
   "execution_count": null,
   "id": "837b32a2",
   "metadata": {},
   "outputs": [],
   "source": [
    "boxplotPoints(titles, columns, tempINSDF, 10, 10)\n",
    "\n",
    "print(tempINSDF.columns)\n",
    "print(tempINSDF.loc[tempINSDF['lfs']<200])"
   ]
  },
  {
   "cell_type": "code",
   "execution_count": null,
   "id": "556d7520",
   "metadata": {},
   "outputs": [],
   "source": [
    "\"\"\"\n",
    "Chromosome Specific\n",
    "Cleaned up\n",
    "\"\"\"\n",
    "orderList = ['1','2','3','4','5','6','7','8','9','10',\n",
    "                 '11','12','13','14','15','16','17','18','19','20','21','22','X','Y']\n",
    "\n",
    "kicsMore = pd.DataFrame(data = {'SV':kicsTEF['SV_type'], 'chrom':kicsTEF['SV_chrom'], \n",
    "                                  'id':kicsTEF['Samples_ID']})\n",
    "lfsMore = pd.DataFrame(data = {'id':lfsTEF['Samples_ID'], 'chrom':lfsTEF['SV_chrom'],\n",
    "                                  'SV':lfsTEF['SV_type']})\n",
    "\n",
    "numBPChrom = [249250621, 243199373, 198022430, 191154276, 180915260, \n",
    "              171115067, 159138663, 146364022, 141213431, 135534747,\n",
    "              135006516, 133851895, 115169878, 107349540, 102531392,\n",
    "              90354753, 81195210, 78077248, 59128983, 63025520,\n",
    "              48129895, 51304566, 155270560, 59373566]\n",
    "\n",
    "grouping = ['id', 'SV', 'chrom']"
   ]
  },
  {
   "cell_type": "code",
   "execution_count": null,
   "id": "94fa1c8a",
   "metadata": {
    "scrolled": false
   },
   "outputs": [],
   "source": [
    "\"\"\"\n",
    "ALU, LINE1, SVA\n",
    "\"\"\"\n",
    "\n",
    "kicsALT = pd.DataFrame(data={'ALT':kicsTEF['ALT'], 'id':kicsTEF['Samples_ID']})\n",
    "lfsALT = pd.DataFrame(data={'ALT':lfsTEF['ALT'],'id':lfsTEF['Samples_ID']})\n",
    "\n",
    "kicsALT = kicsALT.groupby('id')\n",
    "kicsALT = kicsALT.value_counts().to_frame()\n",
    "kicsALT = kicsALT.unstack(1)\n",
    "kicsALT.columns = kicsALT.columns.droplevel(0)\n",
    "kicsALT['dataset'] = 'kics'\n",
    "\n",
    "lfsALT = lfsALT.groupby('id')\n",
    "lfsALT = lfsALT.value_counts().to_frame()\n",
    "lfsALT = lfsALT.unstack(1)\n",
    "lfsALT.columns = lfsALT.columns.droplevel(0)\n",
    "lfsALT['dataset'] = 'lfs'\n",
    "\n",
    "mergedAlt = pd.concat([kicsALT,lfsALT])\n",
    "mergedAlt = mergedAlt.reset_index()\n",
    "\n",
    "#plotting the \"overall\" TE class boxplots\n",
    "sns.boxplot(data=mergedAlt, x='dataset', y='ALU', medianprops={\"linewidth\": 4, \"color\": 'black'})\n",
    "plt.show()\n",
    "\n",
    "print(mannwhitneyu(kicsALT['ALU'].dropna(),lfsALT['ALU'].dropna()))\n",
    "\n",
    "sns.boxplot(data=mergedAlt, x='dataset', y='LINE1', medianprops={\"linewidth\": 4, \"color\": 'black'})\n",
    "plt.show()\n",
    "\n",
    "print(mannwhitneyu(kicsALT['LINE1'].dropna(),lfsALT['LINE1'].dropna()))\n",
    "\n",
    "sns.boxplot(data=mergedAlt, x='dataset', y='SVA', medianprops={\"linewidth\": 4, \"color\": 'black'})\n",
    "plt.show()\n",
    "\n",
    "print(mannwhitneyu(kicsALT['SVA'].dropna(),lfsALT['SVA'].dropna()))"
   ]
  },
  {
   "cell_type": "code",
   "execution_count": null,
   "id": "d506b07e",
   "metadata": {
    "scrolled": false
   },
   "outputs": [],
   "source": [
    "\"\"\"\n",
    "For each TE class, create chromosome 2 specific boxplot (normalized by bp and not normalized)\n",
    "ALU\n",
    "\"\"\"\n",
    "\n",
    "kicsChromAlt = pd.DataFrame(data={'ALT':kicsTEF['ALT'], 'id':kicsTEF['Samples_ID'], 'chrom':kicsTEF['SV_chrom']})\n",
    "lfsChromAlt = pd.DataFrame(data={'ALT':lfsTEF['ALT'],'id':lfsTEF['Samples_ID'], 'chrom':lfsTEF['SV_chrom']})\n",
    "\n",
    "AltKdf, normAltKdf = formatDataFrame(kicsChromAlt, ['id','ALT','chrom'], numBPChrom, uniqueK, uniqueLabels, 'ALU')\n",
    "AltLdf, normAltLdf = formatDataFrame(lfsChromAlt, ['id','ALT','chrom'], numBPChrom, uniqueL, uniqueLabels, 'ALU')\n",
    "\n",
    "AltKdf['dataset'] = 'kics'\n",
    "AltLdf['dataset'] = 'lfs'\n",
    "normAltKdf['dataset'] = 'kics'\n",
    "normAltLdf['dataset'] = 'lfs'\n",
    "\n",
    "AltMergedDf = pd.concat([AltKdf, AltLdf])\n",
    "AltMergedDf.rename(columns = {0:'occ'}, inplace = True)\n",
    "AltMergedDf.reset_index(inplace=True)\n",
    "AltMergedDf.rename(columns = {'index':'chrom'}, inplace = True)\n",
    "\n",
    "##ALU\n",
    "\n",
    "plt.rcParams[\"figure.figsize\"] = [10, 10]\n",
    "BoxGraphMulti(AltMergedDf, 'chrom', 'occ', 'dataset',orderList)\n",
    "\n",
    "normAltDf = pd.concat([normAltKdf, normAltLdf])\n",
    "normAltDf.reset_index(inplace=True)\n",
    "\n",
    "BoxGraphMulti(normAltDf, 'chrom', 'normalized', 'dataset',orderList)\n",
    "    "
   ]
  },
  {
   "cell_type": "code",
   "execution_count": null,
   "id": "4b47f728",
   "metadata": {
    "scrolled": false
   },
   "outputs": [],
   "source": [
    "\"\"\"\n",
    "Normalised and Regular box plot chrom specific for LINE1\n",
    "\"\"\"\n",
    "\n",
    "AltKdf, normAltKdf = formatDataFrame(kicsChromAlt, ['id','ALT','chrom'], numBPChrom, uniqueK, uniqueLabels, 'LINE1')\n",
    "AltLdf, normAltLdf = formatDataFrame(lfsChromAlt, ['id','ALT','chrom'], numBPChrom, uniqueL, uniqueLabels, 'LINE1')\n",
    "\n",
    "AltKdf['dataset'] = 'kics'\n",
    "AltLdf['dataset'] = 'lfs'\n",
    "normAltKdf['dataset'] = 'kics'\n",
    "normAltLdf['dataset'] = 'lfs'\n",
    "\n",
    "AltMergedDf = pd.concat([AltKdf, AltLdf])\n",
    "AltMergedDf.rename(columns = {0:'occ'}, inplace = True)\n",
    "AltMergedDf.reset_index(inplace=True)\n",
    "AltMergedDf.rename(columns = {'index':'chrom'}, inplace = True)\n",
    "\n",
    "###LINE1\n",
    "\n",
    "BoxGraphMulti(AltMergedDf, 'chrom', 'occ', 'dataset',orderList)\n",
    "\n",
    "normAltDf = pd.concat([normAltKdf, normAltLdf])\n",
    "normAltDf.reset_index(inplace=True)\n",
    "\n",
    "BoxGraphMulti(normAltDf, 'chrom', 'normalized', 'dataset',orderList)"
   ]
  },
  {
   "cell_type": "code",
   "execution_count": null,
   "id": "c61eb5d8",
   "metadata": {
    "scrolled": true
   },
   "outputs": [],
   "source": [
    "\"\"\"\n",
    "Normalised and Regular box plot chrom specific for SVA\n",
    "\"\"\"\n",
    "\n",
    "AltKdf, normAltKdf = formatDataFrame(kicsChromAlt, ['id','ALT','chrom'], numBPChrom, uniqueK, uniqueLabels, 'SVA')\n",
    "AltLdf, normAltLdf = formatDataFrame(lfsChromAlt, ['id','ALT','chrom'], numBPChrom, uniqueL, uniqueLabels, 'SVA')\n",
    "\n",
    "AltKdf['dataset'] = 'kics'\n",
    "AltLdf['dataset'] = 'lfs'\n",
    "normAltKdf['dataset'] = 'kics'\n",
    "normAltLdf['dataset'] = 'lfs'\n",
    "\n",
    "AltMergedDf = pd.concat([AltKdf, AltLdf])\n",
    "AltMergedDf.rename(columns = {0:'occ'}, inplace = True)\n",
    "AltMergedDf.reset_index(inplace=True)\n",
    "AltMergedDf.rename(columns = {'index':'chrom'}, inplace = True)\n",
    "\n",
    "BoxGraphMulti(AltMergedDf, 'chrom', 'occ', 'dataset',orderList)\n",
    "\n",
    "normAltDf = pd.concat([normAltKdf, normAltLdf])\n",
    "normAltDf.reset_index(inplace=True)\n",
    "\n",
    "BoxGraphMulti(normAltDf, 'chrom', 'normalized', 'dataset',orderList)"
   ]
  },
  {
   "cell_type": "code",
   "execution_count": null,
   "id": "ca7149ec",
   "metadata": {
    "scrolled": true
   },
   "outputs": [],
   "source": [
    "\"\"\"\n",
    "Normalised and Regular box plot chrom specific for INS\n",
    "\"\"\"\n",
    "newKdf, normKdf = formatDataFrame(kicsMore, grouping, numBPChrom, uniqueK, uniqueLabels, 'INS')\n",
    "newLdf, normLdf = formatDataFrame(lfsMore, grouping, numBPChrom, uniqueL, uniqueLabels, 'INS')\n",
    "\n",
    "newKdf['dataset'] = 'kics'\n",
    "newLdf['dataset'] = 'lfs'\n",
    "normKdf['dataset'] = 'kics'\n",
    "normLdf['dataset'] = 'lfs'\n",
    "\n",
    "newMergedDf = pd.concat([newKdf, newLdf])\n",
    "newMergedDf.rename(columns = {0:'occ'}, inplace = True)\n",
    "newMergedDf.reset_index(inplace=True)\n",
    "newMergedDf.rename(columns = {'index':'chrom'}, inplace = True)\n",
    "\n",
    "BoxGraphMulti(newMergedDf, 'chrom', 'occ', 'dataset',orderList)\n",
    "\n",
    "normMergedDf = pd.concat([normKdf, normLdf])\n",
    "normMergedDf.reset_index(inplace=True)\n",
    "\n",
    "BoxGraphMulti(normMergedDf, 'chrom', 'normalized', 'dataset',orderList)"
   ]
  },
  {
   "cell_type": "markdown",
   "id": "4987da8e",
   "metadata": {},
   "source": [
    "# Copy and Pasted from Cancer Graphs"
   ]
  },
  {
   "cell_type": "code",
   "execution_count": null,
   "id": "96963dd0",
   "metadata": {},
   "outputs": [],
   "source": [
    "\"\"\" \n",
    "Sizing of boxplots/figures\n",
    "\"\"\"\n",
    "plt.rcParams[\"figure.figsize\"] = [20, 15]\n"
   ]
  },
  {
   "cell_type": "code",
   "execution_count": null,
   "id": "6ef1bfe6",
   "metadata": {},
   "outputs": [],
   "source": [
    "\"\"\"\n",
    "Age of Onset graphs\n",
    "\"\"\"\n",
    "lfsCancer = bigLdf[bigLdf['tissue_type']!='Unaffected'].drop(['sample', 'tissue_type',\n",
    "                                                             'cancer_diagnosis','SV_type'],axis=1)\n",
    "lfsUnaffected = bigLdf[bigLdf['tissue_type']=='Unaffected'].drop(['sample', 'tissue_type',\n",
    "                                                            'cancer_diagnosis','SV_type'],axis=1)\n",
    "\n",
    "kicsCancer = bigKdf.drop(['abbv_id', 'SV_type', 'sample', 'tumour_class',\n",
    "                          'tissue_type','cancer_diagnosis'],axis=1)\n",
    "\n",
    "kicsCancer['ageofonset']=kicsCancer['ageofonset'].astype('float')\n",
    "\n",
    "lfsCancer['age6'] = lfsCancer.apply(lambda row: ageOfOnsetLfs(row), axis=1)\n",
    "kicsCancer['age6'] = kicsCancer.apply(lambda row: ageOfOnsetKics(row), axis=1)\n",
    "lfsUnaffected['age6'] = 'Unaffected'\n",
    "\n",
    "LCAlu = lfsCancer.loc[lfsCancer['ALT'] == 'ALU']\n",
    "LUAlu = lfsUnaffected.loc[lfsUnaffected['ALT'] == 'ALU']\n",
    "KCAlu = kicsCancer.loc[kicsCancer['ALT'] == 'ALU']\n",
    "\n",
    "LCLine1 = lfsCancer.loc[lfsCancer['ALT'] == 'LINE1']\n",
    "LULine1 = lfsUnaffected.loc[lfsUnaffected['ALT'] == 'LINE1']\n",
    "KCLine1 = kicsCancer.loc[kicsCancer['ALT'] == 'LINE1']\n",
    "\n",
    "LCSva = lfsCancer.loc[lfsCancer['ALT'] == 'SVA']\n",
    "LUSva = lfsUnaffected.loc[lfsUnaffected['ALT'] == 'SVA']\n",
    "KCSva = kicsCancer.loc[kicsCancer['ALT'] == 'SVA']\n",
    "\n",
    "#create boxplot for \"overall\" cancer vs unaffected\n",
    "mergeDFs(lfsCancer,lfsUnaffected, kicsCancer)"
   ]
  },
  {
   "cell_type": "markdown",
   "id": "2a6b540b",
   "metadata": {},
   "source": [
    "# Alu"
   ]
  },
  {
   "cell_type": "code",
   "execution_count": null,
   "id": "b8a6cd22",
   "metadata": {},
   "outputs": [],
   "source": [
    "mergeDFs(LCAlu, LUAlu, KCAlu)"
   ]
  },
  {
   "cell_type": "markdown",
   "id": "2b6e03af",
   "metadata": {},
   "source": [
    "# Line1"
   ]
  },
  {
   "cell_type": "code",
   "execution_count": null,
   "id": "f121732b",
   "metadata": {},
   "outputs": [],
   "source": [
    "mergeDFs(LCLine1, LULine1, KCLine1)"
   ]
  },
  {
   "cell_type": "markdown",
   "id": "0d70e94b",
   "metadata": {},
   "source": [
    "# Sva"
   ]
  },
  {
   "cell_type": "code",
   "execution_count": null,
   "id": "04c27d4e",
   "metadata": {},
   "outputs": [],
   "source": [
    "mergeDFs(LCSva, LUSva, KCSva)"
   ]
  },
  {
   "cell_type": "code",
   "execution_count": null,
   "id": "59e68a3c",
   "metadata": {},
   "outputs": [],
   "source": [
    "\"\"\"\n",
    "Diagnosis and Tissue_Type comparisons intracohort\n",
    "\"\"\"\n",
    "#Overall\n",
    "ldf = bigLdf.drop(['sample','SV_type', 'ageofonset'], axis=1)\n",
    "kdf = bigKdf.drop(['sample','SV_type','abbv_id','ageofonset'],axis=1)\n",
    "\n",
    "ldfGenTissue = ldf.drop(['ALT','cancer_diagnosis'],axis=1)\n",
    "ldfGenTissue = ldfGenTissue.value_counts().to_frame().reset_index()\n",
    "\n",
    "graphBoxGen('tissue_type', ldfGenTissue)"
   ]
  },
  {
   "cell_type": "code",
   "execution_count": null,
   "id": "fb2a03fe",
   "metadata": {},
   "outputs": [],
   "source": [
    "ldfGenDiag = ldf.drop(['ALT','tissue_type'],axis=1)\n",
    "ldfGenDiag = ldfGenDiag.value_counts().to_frame().reset_index()\n",
    "\n",
    "graphBoxGen('cancer_diagnosis', ldfGenDiag)"
   ]
  },
  {
   "cell_type": "code",
   "execution_count": null,
   "id": "6c47f44d",
   "metadata": {},
   "outputs": [],
   "source": [
    "kdfGenTissue = kdf.drop(['ALT', 'cancer_diagnosis'], axis=1)\n",
    "kdfGenTissue = kdfGenTissue.value_counts().to_frame().reset_index()\n",
    "graphBoxGen('tissue_type', kdfGenTissue)"
   ]
  },
  {
   "cell_type": "code",
   "execution_count": null,
   "id": "ca15b131",
   "metadata": {},
   "outputs": [],
   "source": [
    "kdfGenDiag = kdf.drop(['ALT', 'tissue_type'], axis=1)\n",
    "kdfGenDiag = kdfGenDiag.value_counts().to_frame().reset_index()\n",
    "graphBoxGen('cancer_diagnosis', kdfGenDiag)"
   ]
  },
  {
   "cell_type": "code",
   "execution_count": null,
   "id": "77ea862a",
   "metadata": {
    "scrolled": false
   },
   "outputs": [],
   "source": [
    "\"\"\"\n",
    "TE class specific (ALU LINE1 SVA) Kics then Lfs\n",
    "Tissue types graphed first\n",
    "Diagnosis types graphed after\n",
    "\"\"\"\n",
    "kT = kdf.drop(['cancer_diagnosis'], axis=1).groupby(['Samples_ID', 'ALT','tissue_type']).size()\n",
    "kT = kT.unstack(1)\n",
    "lT = ldf.drop(['cancer_diagnosis'], axis=1).groupby(['Samples_ID', 'ALT', 'tissue_type']).size()\n",
    "lT = lT.unstack(1)\n",
    "\n",
    "kD = kdf.drop(['tissue_type'], axis=1).groupby(['Samples_ID', 'ALT','cancer_diagnosis']).size()\n",
    "kD = kD.unstack(1)\n",
    "lD = ldf.drop(['tissue_type'], axis=1).groupby(['Samples_ID', 'ALT','cancer_diagnosis']).size()\n",
    "lD = lD.unstack(1)\n",
    "\n",
    "graphBoxGen('tissue_type', kT.drop(['LINE1', 'SVA'], axis=1).reset_index(),'ALU')"
   ]
  },
  {
   "cell_type": "code",
   "execution_count": null,
   "id": "9e941be7",
   "metadata": {},
   "outputs": [],
   "source": [
    "graphBoxGen('tissue_type', kT.drop(['ALU', 'SVA'], axis=1).reset_index(),'LINE1')"
   ]
  },
  {
   "cell_type": "code",
   "execution_count": null,
   "id": "7c981bd6",
   "metadata": {},
   "outputs": [],
   "source": [
    "graphBoxGen('tissue_type', kT.drop(['LINE1', 'ALU'], axis=1).reset_index(),'SVA')"
   ]
  },
  {
   "cell_type": "code",
   "execution_count": null,
   "id": "421ba60a",
   "metadata": {},
   "outputs": [],
   "source": [
    "#lfs tissue\n",
    "graphBoxGen('tissue_type', lT.drop(['LINE1', 'SVA'], axis=1).reset_index(),'ALU')"
   ]
  },
  {
   "cell_type": "code",
   "execution_count": null,
   "id": "c5563be1",
   "metadata": {},
   "outputs": [],
   "source": [
    "graphBoxGen('tissue_type', lT.drop(['SVA', 'ALU'], axis=1).reset_index(),'LINE1')"
   ]
  },
  {
   "cell_type": "code",
   "execution_count": null,
   "id": "7e7342bf",
   "metadata": {},
   "outputs": [],
   "source": [
    "graphBoxGen('tissue_type', lT.drop(['LINE1', 'ALU'], axis=1).reset_index(),'SVA')"
   ]
  },
  {
   "cell_type": "code",
   "execution_count": null,
   "id": "5120a6a2",
   "metadata": {},
   "outputs": [],
   "source": [
    "#kics Diagnosis\n",
    "graphBoxGen('cancer_diagnosis', kD.drop(['LINE1', 'SVA'], axis=1).reset_index(),'ALU')"
   ]
  },
  {
   "cell_type": "code",
   "execution_count": null,
   "id": "86cb3e00",
   "metadata": {},
   "outputs": [],
   "source": [
    "graphBoxGen('cancer_diagnosis', kD.drop(['ALU', 'SVA'], axis=1).reset_index(),'LINE1')"
   ]
  },
  {
   "cell_type": "code",
   "execution_count": null,
   "id": "089c09f5",
   "metadata": {},
   "outputs": [],
   "source": [
    "graphBoxGen('cancer_diagnosis', kD.drop(['LINE1', 'ALU'], axis=1).reset_index(),'SVA')"
   ]
  },
  {
   "cell_type": "code",
   "execution_count": null,
   "id": "8d136dc3",
   "metadata": {},
   "outputs": [],
   "source": [
    "graphBoxGen('cancer_diagnosis', lD.drop(['LINE1', 'SVA'], axis=1).reset_index(),'ALU')"
   ]
  },
  {
   "cell_type": "code",
   "execution_count": null,
   "id": "79bee2be",
   "metadata": {},
   "outputs": [],
   "source": [
    "graphBoxGen('cancer_diagnosis', lD.drop(['ALU', 'SVA'], axis=1).reset_index(),'LINE1')"
   ]
  },
  {
   "cell_type": "code",
   "execution_count": null,
   "id": "3f4d314b",
   "metadata": {},
   "outputs": [],
   "source": [
    "graphBoxGen('cancer_diagnosis', lD.drop(['LINE1', 'ALU'], axis=1).reset_index(),'SVA')"
   ]
  },
  {
   "cell_type": "code",
   "execution_count": null,
   "id": "da831431",
   "metadata": {
    "scrolled": false
   },
   "outputs": [],
   "source": [
    "\"\"\"\n",
    "LFS vs Unaffected\n",
    "3 graphs for TE elements (ALU LINE1 SVA) showing \"overall\"\n",
    "\"\"\"\n",
    "#checked if unaffected tissue type is unaffected diag and vice versa -> they are\n",
    "unaffectedDf = bigLdf[bigLdf['tissue_type']=='Unaffected'].drop(['sample', 'tissue_type',\n",
    "                                                                 'cancer_diagnosis','SV_type','ageofonset'], axis=1)\n",
    "cancerDf = bigLdf[bigLdf['tissue_type']!='Unaffected'].drop(['sample', 'tissue_type',\n",
    "                                                                 'cancer_diagnosis','SV_type','ageofonset'], axis=1)\n",
    "uAll = unaffectedDf.drop(['ALT'],axis=1).value_counts().to_frame().reset_index()\n",
    "uAll = uAll.rename(columns={0:'freq'})\n",
    "uAll['dataset'] = 'unaffected'\n",
    "cAll = cancerDf.drop(['ALT'],axis=1).value_counts().to_frame().reset_index()\n",
    "cAll = cAll.rename(columns={0:'freq'})\n",
    "cAll['dataset'] = 'cancer'\n",
    "mergedAll = pd.DataFrame(data={'unaffected':uAll['freq'], 'cancer':cAll['freq']})\n",
    "print('ALL')\n",
    "outliersInDf(pd.concat([uAll,cAll]),'dataset','freq')\n",
    "\n",
    "\n",
    "uAlu = unaffectedDf[unaffectedDf['ALT'] == 'ALU'].value_counts().to_frame().reset_index()\n",
    "uAlu = uAlu.rename(columns={0:'freq'})\n",
    "uAlu['dataset'] = 'unaffected'\n",
    "\n",
    "cAlu = cancerDf[cancerDf['ALT'] == 'ALU'].value_counts().to_frame().reset_index()\n",
    "cAlu = cAlu.rename(columns={0:'freq'})\n",
    "cAlu['dataset'] = 'cancer'\n",
    "mergedAlu = pd.DataFrame(data = {'unaffected':uAlu['freq'],'cancer':cAlu['freq']})\n",
    "print('ALU')\n",
    "outliersInDf(pd.concat([uAlu,cAlu]),'dataset','freq')\n",
    "\n",
    "\n",
    "\n",
    "uLine = unaffectedDf[unaffectedDf['ALT'] == 'LINE1'].value_counts().to_frame().reset_index()\n",
    "uLine = uLine.rename(columns={0:'freq'})\n",
    "uLine['dataset'] = 'unaffected'\n",
    "cLine = cancerDf[cancerDf['ALT'] == 'LINE1'].value_counts().to_frame().reset_index()\n",
    "cLine = cLine.rename(columns={0:'freq'})\n",
    "cLine['dataset'] = 'cancer'\n",
    "mergedLine = pd.DataFrame(data = {'unaffected':uLine['freq'],'cancer':cLine['freq']})\n",
    "print('LINE1')\n",
    "outliersInDf(pd.concat([uLine,cLine]),'dataset','freq')\n",
    "\n",
    "uSva = unaffectedDf[unaffectedDf['ALT'] == 'SVA'].value_counts().to_frame().reset_index()\n",
    "uSva = uSva.rename(columns={0:'freq'})\n",
    "uSva['dataset'] = 'unaffected'\n",
    "cSva = cancerDf[cancerDf['ALT'] == 'SVA'].value_counts().to_frame().reset_index()\n",
    "cSva = cSva.rename(columns={0:'freq'})\n",
    "cSva['dataset'] = 'cancer'\n",
    "mergedSva = pd.DataFrame(data = {'unaffected':uSva['freq'],'cancer':cSva['freq']})\n",
    "print('SVA')\n",
    "outliersInDf(pd.concat([uSva,cSva]),'dataset','freq')\n",
    "\n",
    "title = ['unaffected','cancer']\n",
    "\n",
    "boxplotPoints(title, title, mergedAlu)\n",
    "print('LINE1')\n",
    "boxplotPoints(title, title, mergedLine)\n",
    "print('SVA')\n",
    "boxplotPoints(title, title, mergedSva)\n",
    "\n",
    "print('ALLL')\n",
    "boxplotPoints(title, title, mergedAll)\n"
   ]
  },
  {
   "cell_type": "code",
   "execution_count": null,
   "id": "512d8543",
   "metadata": {},
   "outputs": [],
   "source": [
    "kDiagList = pd.DataFrame(data={'diag':bigKdf['cancer_diagnosis'], 'id':bigKdf['Samples_ID']}) \n",
    "lDiagList = pd.DataFrame(data={'diag':bigLdf['cancer_diagnosis'], 'id':bigLdf['Samples_ID']})\n",
    "\n",
    "ktList = pd.DataFrame(data={'tissue_type':bigKdf['tissue_type'], 'id':bigKdf['Samples_ID']})\n",
    "ltList = pd.DataFrame(data={'tissue_type':bigLdf['tissue_type'], 'id':bigLdf['Samples_ID']})"
   ]
  },
  {
   "cell_type": "code",
   "execution_count": null,
   "id": "212708a2",
   "metadata": {},
   "outputs": [],
   "source": [
    "kicsTissue = bigKdf.drop(['SV_type','abbv_id','sample', 'tumour_class', 'cancer_diagnosis','ageofonset'], axis=1)\n",
    "kicsDiag = bigKdf.drop(['SV_type','abbv_id','sample', 'tumour_class','ageofonset', 'tissue_type'], axis=1)\n",
    "\n",
    "lfsTissue = bigLdf.drop(['cancer_diagnosis', 'sample','SV_type','ageofonset'],axis=1)\n",
    "lfsDiag = bigLdf.drop(['tissue_type', 'sample','SV_type','ageofonset'],axis=1)\n",
    "\n",
    "graphSVTissue(kicsDiag, lfsDiag, False)"
   ]
  },
  {
   "cell_type": "code",
   "execution_count": null,
   "id": "64715a79",
   "metadata": {
    "scrolled": false
   },
   "outputs": [],
   "source": [
    "graphSVTissue(kicsTissue, lfsTissue, True)"
   ]
  },
  {
   "cell_type": "code",
   "execution_count": null,
   "id": "e3063d3b",
   "metadata": {},
   "outputs": [],
   "source": [
    "\"\"\"\n",
    "Creating dfs needed for lfs vs kics tissue and diag\n",
    "\"\"\"\n",
    "kDF = bigKdf.drop(['SV_type', 'abbv_id', 'sample', 'tumour_class','ageofonset'],axis=1)\n",
    "lDF = bigLdf.drop(['SV_type','sample','ageofonset'],axis=1)\n",
    "\n",
    "kAlu = kDF.loc[kDF['ALT'] == 'ALU']\n",
    "kLine = kDF.loc[kDF['ALT'] == 'LINE1']\n",
    "kSva = kDF.loc[kDF['ALT'] == 'SVA']\n",
    "\n",
    "lAlu = lDF.loc[lDF['ALT'] == 'ALU']\n",
    "lLine = lDF.loc[lDF['ALT'] == 'LINE1']\n",
    "lSva = lDF.loc[lDF['ALT'] == 'SVA']"
   ]
  },
  {
   "cell_type": "code",
   "execution_count": null,
   "id": "0a699371",
   "metadata": {
    "scrolled": false
   },
   "outputs": [],
   "source": [
    "graphSVTissue(kAlu.drop(['cancer_diagnosis'],axis=1), lAlu.drop(['cancer_diagnosis'],axis=1), True)"
   ]
  },
  {
   "cell_type": "code",
   "execution_count": null,
   "id": "9992029b",
   "metadata": {},
   "outputs": [],
   "source": [
    "graphSVTissue(kLine.drop(['cancer_diagnosis'],axis=1), lLine.drop(['cancer_diagnosis'],axis=1), True)"
   ]
  },
  {
   "cell_type": "code",
   "execution_count": null,
   "id": "9f92652b",
   "metadata": {},
   "outputs": [],
   "source": [
    "graphSVTissue(kSva.drop(['cancer_diagnosis'],axis=1), lSva.drop(['cancer_diagnosis'],axis=1), True)"
   ]
  },
  {
   "cell_type": "code",
   "execution_count": null,
   "id": "d643852a",
   "metadata": {},
   "outputs": [],
   "source": [
    "#diagnosis\n",
    "graphSVTissue(kAlu.drop(['tissue_type'],axis=1), lAlu.drop(['tissue_type'],axis=1), False)"
   ]
  },
  {
   "cell_type": "code",
   "execution_count": null,
   "id": "35f48e50",
   "metadata": {},
   "outputs": [],
   "source": [
    "graphSVTissue(kLine.drop(['tissue_type'],axis=1), lLine.drop(['tissue_type'],axis=1), False)"
   ]
  },
  {
   "cell_type": "code",
   "execution_count": null,
   "id": "04337fa5",
   "metadata": {},
   "outputs": [],
   "source": [
    "graphSVTissue(kSva.drop(['tissue_type'],axis=1), lSva.drop(['tissue_type'],axis=1), False)"
   ]
  },
  {
   "cell_type": "code",
   "execution_count": null,
   "id": "fee50893",
   "metadata": {
    "scrolled": false
   },
   "outputs": [],
   "source": [
    "\"\"\"\n",
    "Create graph for RMS subtypes\n",
    "\"\"\"\n",
    "rmsKDf = UberbigKdf[['Samples_ID','ICDO-diagnosis','tissue_type','lfs_cancer_type_diagnosis']]\n",
    "rmsLDf = UberbigLdf[['Samples_ID','cancer1','tissue_type','cancer_diagnosis']]\n",
    "rmsKDf = rmsKDf.loc[rmsKDf['lfs_cancer_type_diagnosis']=='RMS']\n",
    "\n",
    "#rms (cancer type) and soft tissue (tissue type) in kics has the same samples\n",
    "rmsKDf = rmsKDf.drop(['tissue_type','lfs_cancer_type_diagnosis'], axis=1).groupby(['Samples_ID']).value_counts().to_frame().reset_index()\n",
    "rmsKDf['dataset']='kics'\n",
    "\n",
    "#rms and soft tissue in lfs do not have the same samples\n",
    "stLDf = rmsLDf.loc[rmsLDf['tissue_type']=='Soft Tissue']\n",
    "stLDf = stLDf.drop(['tissue_type'],axis=1).groupby(['Samples_ID','cancer_diagnosis']).value_counts().to_frame().reset_index()\n",
    "\n",
    "# graphing soft tissue mappings to cancer diagnosis column (lfs)\n",
    "ax = sns.boxplot(data=stLDf, x='cancer_diagnosis', y=0, medianprops={\"linewidth\": 4, 'color':'black'})\n",
    "    \n",
    "uniqueList = list(stLDf['cancer_diagnosis'].unique())\n",
    "listPairing = [(a,b) for x, a in enumerate(uniqueList) for b in uniqueList[x+1:]]\n",
    "        \n",
    "annot = Annotator(ax, listPairing, data=stLDf, x='cancer_diagnosis', y=0)\n",
    "annot.configure(test='Mann-Whitney',\n",
    "                    text_format='star', loc='outside', verbose=2)\n",
    "annot.apply_and_annotate()\n",
    "plt.show()\n",
    "\n",
    "rmsLDf = rmsLDf.loc[rmsLDf['cancer_diagnosis']=='RMS']\n",
    "rmsLDf = rmsLDf.drop(['tissue_type','cancer_diagnosis'], axis=1).groupby(['Samples_ID']).value_counts().to_frame().reset_index()\n",
    "rmsLDf['dataset']='lfs'\n",
    "\n",
    "rmsLDf = rmsLDf.rename(columns={'cancer1': 'type',0:'freq'})\n",
    "rmsKDf = rmsKDf.rename(columns={'ICDO-diagnosis':'type', 0:'freq'})\n",
    "\n",
    "rmsLDf['rms_type'] = rmsLDf.apply(lambda row: rmsType(row), axis=1)\n",
    "rmsKDf['rms_type'] = rmsKDf.apply(lambda row: rmsType(row), axis=1)\n",
    "\n",
    "mergedRMS = pd.concat([rmsKDf,rmsLDf])\n",
    "\n",
    "#kics vs lfs, graphing RMS subtypes \n",
    "bx = sns.boxplot(data=mergedRMS, x='rms_type', y='freq',hue = 'dataset', medianprops={\"linewidth\": 2, 'color':'black'})\n",
    "\n",
    "listPairing = [(('ERMS','kics'),('ERMS','lfs')), (('ERMS','kics'),('ARMS','lfs')),\n",
    "               (('ARMS','kics'),('ERMS','lfs')), (('ARMS','kics'),('ARMS','lfs')),\n",
    "               (('ARMS','kics'),('ERMS','kics'))]\n",
    "\n",
    "annot = Annotator(bx, listPairing, data=mergedRMS, x='rms_type', y='freq',hue = 'dataset')\n",
    "annot.configure(test='Mann-Whitney',\n",
    "                    text_format='star', loc='outside', verbose=2)\n",
    "annot.apply_and_annotate()\n",
    "plt.show()"
   ]
  }
 ],
 "metadata": {
  "kernelspec": {
   "display_name": "Python 3 (ipykernel)",
   "language": "python",
   "name": "python3"
  },
  "language_info": {
   "codemirror_mode": {
    "name": "ipython",
    "version": 3
   },
   "file_extension": ".py",
   "mimetype": "text/x-python",
   "name": "python",
   "nbconvert_exporter": "python",
   "pygments_lexer": "ipython3",
   "version": "3.9.12"
  }
 },
 "nbformat": 4,
 "nbformat_minor": 5
}
