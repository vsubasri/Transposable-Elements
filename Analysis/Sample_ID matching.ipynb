{
 "cells": [
  {
   "cell_type": "code",
   "execution_count": 1,
   "id": "1681807e",
   "metadata": {},
   "outputs": [],
   "source": [
    "import pandas as pd\n",
    "import os\n",
    "import numpy as np\n",
    "import re\n",
    "import warnings\n",
    "warnings.filterwarnings('ignore') #supresses warnings for now\n",
    "#warnings.filterwarnings(action='once') #shows warnings once\n",
    "\n",
    "dataFilePath = os.path.join(os.getcwd(),'Data')\n",
    "\n",
    "kicsSVdf = pd.read_csv(os.path.join(dataFilePath,'kics_structural_variations.txt'), sep = '\\t', header = 0)\n",
    "#kicsTEdf = pd.read_csv(os.path.join(dataFilePath,'kics_transposable_elements.txt'), sep = '\\t', header = 0)\n",
    "lfsSVdf = pd.read_csv(os.path.join(dataFilePath,'lfs_structural_variations.txt'), sep = '\\t', header = 0)\n",
    "#lfsTEdf = pd.read_csv(os.path.join(dataFilePath,'lfs_transposable_elements.txt'), sep = '\\t', header = 0)\n",
    "kicsClinicdf = pd.read_csv(os.path.join(dataFilePath,'kics_clinical_main.tsv'), sep = '\\t', header = 0)\n",
    "lfsClinicdf = pd.read_csv(os.path.join(dataFilePath,'lfs_clinical_main.tsv'), sep = '\\t', header = 0)\n"
   ]
  },
  {
   "cell_type": "code",
   "execution_count": 2,
   "id": "c4c9e677",
   "metadata": {},
   "outputs": [],
   "source": [
    "\"\"\"\n",
    "\n",
    "filter dfs\n",
    "\n",
    "\"\"\"\n",
    "def maxGDAFFilter(colName: str, df: pd.DataFrame)->pd.DataFrame:\n",
    "    temp = df[colName].str.contains(pat=',')\n",
    "    Index = list(np.where(temp == True)[0])\n",
    "    temp = df[colName].iloc[Index]\n",
    "    tempIndex = temp.index\n",
    "\n",
    "    for i in tempIndex:\n",
    "        tempList = temp[i].split(',')\n",
    "        tempList = [float(a) for a in tempList]\n",
    "        maxTemp = max(tempList)\n",
    "        df[colName][i] = maxTemp\n",
    "\n",
    "    df[colName] = df[colName].astype('float64')\n",
    "    \n",
    "    return df\n",
    "    \n",
    "kicsSVdf = maxGDAFFilter('GD_AF', kicsSVdf)\n",
    "lfsSVdf = maxGDAFFilter('GD_AF', lfsSVdf)"
   ]
  },
  {
   "cell_type": "code",
   "execution_count": 3,
   "id": "8e7737ee",
   "metadata": {},
   "outputs": [],
   "source": [
    "listValSearch = ['291775', '298313', '315666', '320118', '18_1907']\n",
    "# searched for kID of 63, 83, 156, 171, 219\n",
    "# kID 120 141 and 232 do not have any matches...\n",
    "#what would make this that much better is if it was a dict. Computationally less heavy?\n",
    "\n",
    "for i in listValSearch: \n",
    "    kicsSVdf.drop(kicsSVdf[kicsSVdf['sample_id'].str.contains(i)==True].index, inplace = True)"
   ]
  },
  {
   "cell_type": "code",
   "execution_count": 26,
   "id": "1604c6a4",
   "metadata": {},
   "outputs": [
    {
     "name": "stdout",
     "output_type": "stream",
     "text": [
      "13898     42995\n",
      "318953    35900\n",
      "13887     35345\n",
      "317052    34095\n",
      "274027    33675\n",
      "          ...  \n",
      "2697      16559\n",
      "315666    16395\n",
      "320118    16384\n",
      "298313    16384\n",
      "271113    15693\n",
      "Name: abbv_id, Length: 191, dtype: int64\n",
      "286900    4\n",
      "301002    4\n",
      "286720    4\n",
      "284386    4\n",
      "8559      3\n",
      "         ..\n",
      "316456    1\n",
      "318953    1\n",
      "318092    1\n",
      "318128    1\n",
      "1851      1\n",
      "Name: abbv_id, Length: 309, dtype: int64\n",
      "both          5018943\n",
      "left_only     1257743\n",
      "right_only        197\n",
      "Name: _merge, dtype: int64\n",
      "['5255' '313703' '312528' '332546' '1605' '320118' '315585' '319104'\n",
      " '271117' '4156' '7027' '291775' '286952' '287846' '317981' '286720'\n",
      " '328003' '5639' '296263' '321967' '315487' '331387' '315488' '316071'\n",
      " '303763' '317052' '313785' '323895' '298111' '308437' '271116' '308436'\n",
      " '291647' '301002' '297377' '330754' '1508' '273308' '305082' '328067'\n",
      " '294368' '318953' '293107' '307735' '304458' '298313' '4155' '300683'\n",
      " '294212' '284385' '318128' '301286' '284387' '1619' '313706' '312306'\n",
      " '271113' '301784' '334312' '287569' '274027' '2028' '331498' '302957'\n",
      " '318748' '291014' '271115' '307449' '307368' '318921' '285200' '274736'\n",
      " '287731' '305577' '328798' '295582' '5547' '274026' '299321' '326693'\n",
      " '315666' '315486' '303114' '2697' '271112' '316747' '5510' '293843'\n",
      " '286909' '302683' '314281' '311680' '300799' '300063' '324076' '306583'\n",
      " '300153' '318749' '317791' '290135' '323274' '301460' '320779' '297917'\n",
      " '299338' '316947' '333809' '316626' '313784' '299337' '305253' '309955'\n",
      " '325988' '328801' '299553' '302712' '297445' '271114' '318878' '315584'\n",
      " '286900' '740' '319630' '331388' '297043' '332700' '287971' '316456'\n",
      " '290133' '327864' '308089' '5256' '288283' '286737' '323141' '298369'\n",
      " '315215' '316625' '284386' '273309' '298866' '311713' '316866' '285045'\n",
      " '292600']\n"
     ]
    }
   ],
   "source": [
    "# \"\"\"\n",
    "# Create a new column for each of the df abbv id to join on that column\n",
    "\n",
    "# \"\"\"\n",
    "\n",
    "# kicsSVdf['sample_id'] = kicsSVdf['sample_id'].astype(str)\n",
    "# kicsClinicdf['CCP germline'] = kicsssClinicdf['CCP germline'].astype(str)\n",
    "\n",
    "# kicsSVdf['sample_id'] = kicsSVdf['sample_id'].str.replace(\" \", \"\")\n",
    "# kicsClinicdf['CCP germline'] = kicsClinicdf['CCP germline'].str.replace(\" \", \"\")\n",
    "\n",
    "# kicsClinicdf['abbv_id'] = kicsClinicdf['CCP germline'].map(clinDic)\n",
    "# kicsSVdf['abbv_id'] = kicsSVdf['sample_id'].map(SVDic)\n",
    "\n",
    "# #print(kicsSVdf['abbv_id'].value_counts())\n",
    "# #print(kicsClinicdf['abbv_id'].value_counts())\n",
    "\n",
    "# bigKicsDf = pd.merge(kicsSVdf[['sample_id','SV type','abbv_id']], \n",
    "#                      kicsClinicdf[['KiCS ID', 'CCP germline', 'tumour_class', 'abbv_id']],\n",
    "#                      left_on = 'abbv_id', \n",
    "#                      right_on = 'abbv_id', \n",
    "#                      how='outer', \n",
    "#                      indicator = True)\n",
    "\n",
    "# #print(len(SVDic))\n",
    "# #print(bigKicsDf['_merge'].value_counts())\n",
    "# #print(len(kicsSVdf['sample_id'].unique())) 191\n",
    "\n",
    "# bigKicsDf = pd.merge(kicsSVdf[['sample_id','SV type','abbv_id']], \n",
    "#                      kicsClinicdf[['KiCS ID', 'CCP germline', 'tumour_class', 'abbv_id']],\n",
    "#                      left_on = 'abbv_id', \n",
    "#                      right_on = 'abbv_id', \n",
    "#                      how='inner')\n",
    "# #print(bigKicsDf['abbv_id'].unique()) #total 145, dropped 46 samples\n"
   ]
  },
  {
   "cell_type": "code",
   "execution_count": 50,
   "id": "22e9dbf9",
   "metadata": {},
   "outputs": [],
   "source": [
    "\"\"\"\n",
    "Do the same for LFS\n",
    "\"\"\"\n",
    "\n",
    "def kIdAbbv(clinicDf, svDf, clinicCol, svCol):\n",
    "    \n",
    "    clinicDf.drop(clinicDf[clinicDf[clinicCol]=='Not applicable'].index, inplace = True)\n",
    "    \n",
    "    svDf[svCol] = svDf[svCol].astype(str)\n",
    "    clinicDf[clinicCol] = clinicDf[clinicCol].astype(str)\n",
    "    svDf[svCol] =  svDf[svCol].str.replace(\" \", \"\")\n",
    "    clinicDf[clinicCol] = clinicDf[clinicCol].str.replace(\" \", \"\")\n",
    "    \n",
    "    list1 = svDf[svCol].unique()\n",
    "    list2 = clinicDf[clinicCol].unique()\n",
    "    \n",
    "    svDict = dict()\n",
    "    clinicDict = dict()\n",
    "    \n",
    "    for i in range (len(list1)):\n",
    "        tempList = re.findall('\\d{3,}', list1[i])\n",
    "\n",
    "        #if empty, take the second one\n",
    "        if not tempList:\n",
    "            tempList = re.findall('\\d+', list1[i])\n",
    "            svDict[list1[i]] = tempList[1]\n",
    "\n",
    "        #if not empty \n",
    "        else:\n",
    "            svDict[list1[i]] = tempList[0]\n",
    "\n",
    "\n",
    "    for i in range (len(list2)):    \n",
    "        tempList = re.findall('\\d{3,}', list2[i])\n",
    "    \n",
    "        #if empty, take the second one\n",
    "        if not tempList:\n",
    "            tempList = re.findall('\\d+', list2[i])\n",
    "            clinicDict[list2[i]] = tempList[1]\n",
    "\n",
    "        #if not empty \n",
    "        else:\n",
    "            clinicDict[list2[i]] = tempList[0]\n",
    "    \n",
    "\n",
    "    clinicDf['abbv_id'] = clinicDf[clinicCol].map(clinicDict)\n",
    "    svDf['abbv_id'] = svDf[svCol].map(svDict)\n",
    "    \n",
    "    print(len(svDf[svCol].unique()))\n",
    "    \n",
    "    df = pd.merge(svDf[[svCol,'SV type','abbv_id']], \n",
    "                     clinicDf[[clinicCol, 'tumour_class', 'abbv_id']],\n",
    "                     left_on = 'abbv_id', \n",
    "                     right_on = 'abbv_id', \n",
    "                     how='inner')\n",
    "\n",
    "    return df"
   ]
  },
  {
   "cell_type": "code",
   "execution_count": 51,
   "id": "df99c2f7",
   "metadata": {},
   "outputs": [
    {
     "name": "stdout",
     "output_type": "stream",
     "text": [
      "191\n",
      "145\n"
     ]
    }
   ],
   "source": [
    "bigDf = kIdAbbv(kicsClinicdf, kicsSVdf, 'CCP germline', 'sample_id')\n",
    "print(len(bigDf['abbv_id'].unique()))"
   ]
  },
  {
   "cell_type": "code",
   "execution_count": 52,
   "id": "cb814794",
   "metadata": {},
   "outputs": [
    {
     "name": "stdout",
     "output_type": "stream",
     "text": [
      "        sample_id SV type abbv_id     CCP germline       tumour_class\n",
      "0         18_5255     DUP    5255  18-5255-A-02-00       SOLID TUMORS\n",
      "1         18_5255     DUP    5255  18-5255-A-02-00       SOLID TUMORS\n",
      "2         18_5255     DUP    5255  18-5255-A-02-00       SOLID TUMORS\n",
      "3         18_5255     DUP    5255  18-5255-A-02-00       SOLID TUMORS\n",
      "4         18_5255     DUP    5255  18-5255-A-02-00       SOLID TUMORS\n",
      "...           ...     ...     ...              ...                ...\n",
      "5018938    292600     DEL  292600           292600  LEUKEMIA/LYMPHOMA\n",
      "5018939    292600     DUP  292600           292600  LEUKEMIA/LYMPHOMA\n",
      "5018940    292600     DUP  292600           292600  LEUKEMIA/LYMPHOMA\n",
      "5018941    292600     DEL  292600           292600  LEUKEMIA/LYMPHOMA\n",
      "5018942    292600     DEL  292600           292600  LEUKEMIA/LYMPHOMA\n",
      "\n",
      "[5018943 rows x 5 columns]\n"
     ]
    }
   ],
   "source": [
    "print(bigDf)\n"
   ]
  },
  {
   "cell_type": "code",
   "execution_count": null,
   "id": "2a044d9e",
   "metadata": {},
   "outputs": [],
   "source": []
  },
  {
   "cell_type": "code",
   "execution_count": null,
   "id": "285f6a60",
   "metadata": {},
   "outputs": [],
   "source": []
  },
  {
   "cell_type": "code",
   "execution_count": null,
   "id": "3cc6dbea",
   "metadata": {},
   "outputs": [],
   "source": []
  },
  {
   "cell_type": "code",
   "execution_count": null,
   "id": "81119bb1",
   "metadata": {},
   "outputs": [],
   "source": []
  },
  {
   "cell_type": "code",
   "execution_count": null,
   "id": "b5f32d9b",
   "metadata": {},
   "outputs": [],
   "source": []
  },
  {
   "cell_type": "code",
   "execution_count": null,
   "id": "31b9e60e",
   "metadata": {},
   "outputs": [],
   "source": []
  },
  {
   "cell_type": "code",
   "execution_count": null,
   "id": "9f4c15bc",
   "metadata": {},
   "outputs": [],
   "source": []
  },
  {
   "cell_type": "code",
   "execution_count": null,
   "id": "06199e4d",
   "metadata": {},
   "outputs": [],
   "source": []
  },
  {
   "cell_type": "code",
   "execution_count": 38,
   "id": "b6f82ebe",
   "metadata": {},
   "outputs": [
    {
     "name": "stdout",
     "output_type": "stream",
     "text": [
      "85\n",
      "[4257 '4257' 'SJACT008_G' '808' 808 2085 1087 1092 3805 '3805' '3136A'\n",
      " '4033' 4033 2447 353 3806 4854 1478 2262 4028 2957 3688 93 1357 2565 4329\n",
      " '4329' '4535_S1' '3298A' '2349' 2349 2446 3473 5567 3273 3885 3432 1843\n",
      " 3763 3503 '3503' 'PD13489b' '2463' 2463 '2760A' '3643' 3643 'SJACT001_G'\n",
      " '4227' 4227 5537 3367 '3367' 'SJACT002_G' '2815' 2815 5536 3634 1476\n",
      " '1476' 'SJACT005_G' '3425' 3425 3365 2413 '2413' 'SJACT007_G' '3356' 3356\n",
      " 3361 '3361' '3687_2' '3332' 3332 94 1355 2784 2465 3319 '3319' 'PD7195b'\n",
      " '3334' 3334 352 2765]\n"
     ]
    }
   ],
   "source": [
    "print(len(lfsSVdf['sample_id'].unique())) #only 85 to begin with D:\n",
    "print(lfsSVdf['sample_id'].unique())"
   ]
  },
  {
   "cell_type": "code",
   "execution_count": 37,
   "id": "fd7548de",
   "metadata": {},
   "outputs": [
    {
     "name": "stdout",
     "output_type": "stream",
     "text": [
      "Index(['sample', 'meth_id', 'p53', 'tm_donor', 'tissue_type',\n",
      "       'cancer_diagnosis', 'active_cancer', 'gender', 'cancer_atdraw',\n",
      "       'cancer_atdraw_y5', 'cancer_atdraw_y1', 'firstcancer_atdraw',\n",
      "       'age_diff_closest_cancer', 'systemic_treatment_atdraw', 'ageofonset',\n",
      "       'agesamplecollection', 'cancer_num', 'cancer1_age_diff', 'cancer1',\n",
      "       'cancer1_ageofonset', 'cancer2', 'cancer2_ageofonset', 'cancer3',\n",
      "       'cancer3_ageofonset', 'cancer4', 'cancer4_ageofonset', 'cancer5',\n",
      "       'cancer5_ageofonset', 'cancer6', 'cancer6_ageofonset', 'cancer7',\n",
      "       'cancer7_ageofonset', 'cancer8', 'cancer8_ageofonset', 'protein',\n",
      "       'family', 'mdm2', 'gdna.exon.intron', 'gdna.transcript', 'gdna.start',\n",
      "       'gdna.end', 'gdna.genomic.notation', 'gdna.change', 'cdna.base.change',\n",
      "       'cdna.codon', 'cdna.transcript', 'cdna.codon.notation',\n",
      "       'protein.codon.change', 'protein.codon.num', 'Variant_Classification',\n",
      "       'Variant_Type', 'alleles', 'MRN', 'EXT#', 'WGS', 'Meth', 'LCD', 'DOD',\n",
      "       'DOB', 'Current Age', 'Age at Death', 'Censored Survival Age',\n",
      "       'Censored Survival', 'Ethnicity', 'Relationship', 'Collection Date',\n",
      "       'Hospital', 'Contact', 'Pedigree', 'Related Samples', 'Amount Leftover',\n",
      "       'Actionable_Drug', 'P_SNV_AD', 'P_SNV_AR', 'P_SNV_TS', 'P_SNV_Kinase',\n",
      "       'P_SNV_OtherCancerGene', 'P_SNV_nonCPG', 'VUS_SNV_AD', 'VUS_SNV_AR',\n",
      "       'VUS_SNV_TS', 'VUS_SNV_Kinase', 'VUS_SNV_OtherCancerGene',\n",
      "       'CancerOnly_P_SNV_nonCPG', 'CancerOnly_VUS_AD', 'CancerOnly_VUS_AR',\n",
      "       'CancerOnly_VUS_TS', 'CancerOnly_VUS_Kinase',\n",
      "       'CancerOnly_VUS_OtherCancerGene', 'CancerOnly_VUS_nonCPG', 'SV_nonCPG',\n",
      "       'SV_CPG', 'CancerOnly_Candidate_P_nonCPG', 'Protective_Candidates',\n",
      "       'MSK_Actionable_1', 'MSK_Actionable_2', 'MSK_Actionable_3',\n",
      "       'MSK_Actionable_4', 'MSK_Actionable_R1', 'MSK_Actionable_R2'],\n",
      "      dtype='object')\n"
     ]
    }
   ],
   "source": [
    "print(lfsClinicdf.columns)\n",
    "\n",
    "\"\"\"\n",
    "drop unaffected? and NA? \n",
    "Which column do i use for id\n",
    "\"\"\"\n",
    "\n"
   ]
  },
  {
   "cell_type": "code",
   "execution_count": null,
   "id": "524b921d",
   "metadata": {},
   "outputs": [],
   "source": [
    "\"\"\"\n",
    "Apply on TE\n",
    "Apply on Filtered Prelim Graphs\n",
    "\"\"\"\n",
    "\n"
   ]
  },
  {
   "cell_type": "code",
   "execution_count": null,
   "id": "d5c96e46",
   "metadata": {},
   "outputs": [],
   "source": []
  },
  {
   "cell_type": "code",
   "execution_count": null,
   "id": "26436920",
   "metadata": {},
   "outputs": [],
   "source": []
  }
 ],
 "metadata": {
  "kernelspec": {
   "display_name": "Python 3 (ipykernel)",
   "language": "python",
   "name": "python3"
  },
  "language_info": {
   "codemirror_mode": {
    "name": "ipython",
    "version": 3
   },
   "file_extension": ".py",
   "mimetype": "text/x-python",
   "name": "python",
   "nbconvert_exporter": "python",
   "pygments_lexer": "ipython3",
   "version": "3.9.12"
  }
 },
 "nbformat": 4,
 "nbformat_minor": 5
}
