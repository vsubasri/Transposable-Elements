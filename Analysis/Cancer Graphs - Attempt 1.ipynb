{
 "cells": [
  {
   "cell_type": "code",
   "execution_count": 1,
   "id": "e300e261",
   "metadata": {},
   "outputs": [
    {
     "name": "stderr",
     "output_type": "stream",
     "text": [
      "/var/folders/86/098268q515zd4ckwjjr0xbdh0000gp/T/ipykernel_53511/1525248673.py:16: DtypeWarning: Columns (1,35,50,51,52,53,54,60,61,62,63,64,81,86) have mixed types. Specify dtype option on import or set low_memory=False.\n",
      "  kicsSVdf = pd.read_csv(os.path.join(dataFilePath,'kics_structural_variations.txt'), sep = '\\t', header = 0)\n",
      "/var/folders/86/098268q515zd4ckwjjr0xbdh0000gp/T/ipykernel_53511/1525248673.py:18: DtypeWarning: Columns (1,53,54,58,59,62,63,86) have mixed types. Specify dtype option on import or set low_memory=False.\n",
      "  lfsSVdf = pd.read_csv(os.path.join(dataFilePath,'lfs_structural_variations.txt'), sep = '\\t', header = 0)\n"
     ]
    }
   ],
   "source": [
    "import pandas as pd\n",
    "import os\n",
    "import numpy as np\n",
    "from scipy.stats import mannwhitneyu\n",
    "import seaborn as sns\n",
    "from matplotlib import pyplot as plt\n",
    "import re\n",
    "import warnings\n",
    "warnings.filterwarnings('ignore') #supresses warnings for now\n",
    "#warnings.filterwarnings(action='once') #shows warnings once\n",
    "from statannotations.Annotator import Annotator\n",
    "\n",
    "\n",
    "dataFilePath = os.path.join(os.getcwd(),'Data')\n",
    "\n",
    "kicsSVdf = pd.read_csv(os.path.join(dataFilePath,'kics_structural_variations.txt'), sep = '\\t', header = 0)\n",
    "#kicsTEdf = pd.read_csv(os.path.join(dataFilePath,'kics_transposable_elements.txt'), sep = '\\t', header = 0)\n",
    "lfsSVdf = pd.read_csv(os.path.join(dataFilePath,'lfs_structural_variations.txt'), sep = '\\t', header = 0)\n",
    "#lfsTEdf = pd.read_csv(os.path.join(dataFilePath,'lfs_transposable_elements.txt'), sep = '\\t', header = 0)\n",
    "#kicsClinicdf = pd.read_csv(os.path.join(dataFilePath,'kics_clinical_edited.csv'), encoding='latin-1')\n",
    "lfsClinicdf = pd.read_csv(os.path.join(dataFilePath,'lfs_clinical_main.tsv'), sep = '\\t', header = 0)\n",
    "kicsClinicdf = pd.read_csv(os.path.join(dataFilePath,'kics_clinical_edited.csv'), encoding='latin-1')\n",
    "\n"
   ]
  },
  {
   "cell_type": "code",
   "execution_count": 2,
   "id": "0d4bb2d4",
   "metadata": {},
   "outputs": [],
   "source": [
    "\"\"\"\n",
    "full filter\n",
    "\"\"\"\n",
    "\n",
    "kicsSVdf = kicsSVdf.loc[(kicsSVdf['AnnotSV type'] == 'full')] #& (kicsSVdf['GD_AF'] < 0.01) & (kicsSVdf['GD_AF'] >=0)]\n",
    "lfsSVdf = lfsSVdf.loc[(lfsSVdf['AnnotSV type'] == 'full')] #& (lfsSVdf['GD_AF'] < 0.01) & (lfsSVdf['GD_AF'] >=0)]\n",
    "\n",
    "kicsSVdf['SV chrom'] = kicsSVdf['SV chrom'].astype(str)\n",
    "lfsSVdf['SV chrom'] = lfsSVdf['SV chrom'].astype(str)\n",
    "\n",
    "#kicsSVnum = kicsSVF['sample_id'].count()\n",
    "#lfsSVnum = lfsSVF['sample_id'].count()\n"
   ]
  },
  {
   "cell_type": "code",
   "execution_count": 3,
   "id": "3bf0c43d",
   "metadata": {},
   "outputs": [
    {
     "name": "stdout",
     "output_type": "stream",
     "text": [
      "['CNS' 'Colon' 'Bone' 'Blood' 'Thyroid' 'Soft Tissue' 'US' 'Other' 'Liver'\n",
      " 'Breast' 'Adrenal' 'Ovaries' 'Skin' 'GI']\n",
      "['Glioma' 'Colon' 'Chordoma' 'OS' 'Meningioma' 'AML/DS' 'Thyroid' 'B-ALL'\n",
      " 'RMS' 'Undifferentiated sarcoma' 'CML/B-ALL' 'AL' 'PNET' 'Other' 'T-LL'\n",
      " 'T-NHL' 'MPAL' 'Liver' 'AMKL' 'Breast' 'ACC' 'AML' 'B-NHL' 'Ovaries'\n",
      " 'Skin' 'GI' 'CPC']\n"
     ]
    }
   ],
   "source": [
    "\"\"\"\n",
    "Kics df cleaning\n",
    "\"\"\"\n",
    "#listValSearch = ['291775', '298313', '315666', '320118', '18_1907']\n",
    "listValSearch = ['63', '83', '156', '171', '219', '120', '141', '232']\n",
    "# searched for kID of 63, 83, 156, 171, 219\n",
    "# kID 120 141 and 232 do not have any matches...\n",
    "#what would make this that much better is if it was a dict. Computationally less heavy?\n",
    "#print(kicsClinicdf.columns)\n",
    "\n",
    "kicsClinicdf['KiCS ID'] = kicsClinicdf['KiCS ID'].astype(str)\n",
    "kicsClinicdf['KiCS ID'] = kicsClinicdf['KiCS ID'].str.replace(\" \", \"\")\n",
    "\n",
    "for i in listValSearch:\n",
    "    kicsClinicdf.drop(kicsClinicdf[kicsClinicdf['KiCS ID']==i].index, inplace = True)\n",
    "\n",
    "kicsClinicdf.drop(kicsClinicdf.loc[kicsClinicdf['tissue_type']=='?'].index, inplace=True)\n",
    "kicsClinicdf.drop(kicsClinicdf.loc[pd.isna(kicsClinicdf['lfs_cancer_type_diagnosis'])].index, inplace=True)\n",
    "\n",
    "kUniqueTissue = kicsClinicdf['tissue_type'].unique()\n",
    "kUniqueDiag = kicsClinicdf['lfs_cancer_type_diagnosis'].unique()\n",
    "\n",
    "print(kUniqueTissue)\n",
    "print(kUniqueDiag)"
   ]
  },
  {
   "cell_type": "code",
   "execution_count": 4,
   "id": "c0e85580",
   "metadata": {},
   "outputs": [
    {
     "name": "stdout",
     "output_type": "stream",
     "text": [
      "['Soft Tissue' 'Breast' 'Adrenal' 'CNS' 'Unaffected' 'Blood' 'Bone'\n",
      " 'Sarcoma' 'Thyroid' 'Cervix' 'Placenta' 'Skin' 'Lung' 'Colon'\n",
      " 'Angiosarcoma' 'Parathyroid' 'Renal' 'Stromal sarcoma' 'Vulva/Anus'\n",
      " 'Sebaceous adenocarcinoma']\n",
      "['RMS' 'Breast' 'ACC' 'Glioma' 'Unaffected' 'ALL' 'AA' 'MFH' 'CPC'\n",
      " 'High Grade Sarcoma' 'CSA' 'MM' 'PNET' 'LMS' 'OS' 'Sarcoma' 'MFS'\n",
      " 'Thyroid' 'Cervix' 'NHL' 'Choriocarcinoma' 'Skin' 'Lung' 'Colon'\n",
      " 'Chordoma' 'GCT' 'Neurilemoma' 'Angiosarcoma' 'Meningioma' 'Parathyroid'\n",
      " 'Renal' 'FS' 'CTCL' 'Stromal sarcoma' 'DFS' 'Vulva/Anus'\n",
      " 'Sebaceous adenocarcinoma' 'Spindle cell sarcoma'\n",
      " 'Undifferentiated sarcoma' 'DLBCL' 'T-LGL']\n"
     ]
    }
   ],
   "source": [
    "\"\"\"\n",
    "lfs df cleaning\n",
    "\"\"\"\n",
    "lfsClinicdf['sample'] = lfsClinicdf['sample'].astype(str)\n",
    "lfsClinicdf['sample'] = lfsClinicdf['sample'].str.replace(\" \", \"\")\n",
    "\n",
    "for i in listValSearch:\n",
    "    lfsClinicdf.drop(lfsClinicdf[lfsClinicdf['sample']==i].index, inplace = True)\n",
    "\n",
    "lfsClinicdf.drop(lfsClinicdf.loc[lfsClinicdf['tissue_type']=='?'].index, inplace=True)\n",
    "lfsClinicdf.drop(lfsClinicdf.loc[pd.isna(lfsClinicdf['cancer_diagnosis'])].index, inplace=True)\n",
    "\n",
    "lUniqueTissue = lfsClinicdf['tissue_type'].unique()\n",
    "lUniqueDiag = lfsClinicdf['cancer_diagnosis'].unique()\n",
    "\n",
    "print(lUniqueTissue)\n",
    "print(lUniqueDiag)"
   ]
  },
  {
   "cell_type": "code",
   "execution_count": 5,
   "id": "4f38fec4",
   "metadata": {},
   "outputs": [
    {
     "name": "stdout",
     "output_type": "stream",
     "text": [
      "['Placenta', 'Sarcoma', 'Vulva/Anus', 'Parathyroid', 'Cervix', 'Renal', 'Stromal sarcoma', 'GI', 'Sebaceous adenocarcinoma', 'Ovaries', 'Other', 'Unaffected', 'US', 'Liver', 'Lung', 'Angiosarcoma']\n",
      "['GCT', 'MPAL', 'Choriocarcinoma', 'AML/DS', 'AMKL', 'B-NHL', 'AML', 'AA', 'Lung', 'MFS', 'T-NHL', 'AL', 'Parathyroid', 'CSA', 'ALL', 'Renal', 'Stromal sarcoma', 'Neurilemoma', 'Ovaries', 'Liver', 'DLBCL', 'Angiosarcoma', 'T-LL', 'MFH', 'LMS', 'Sarcoma', 'High Grade Sarcoma', 'Cervix', 'CML/B-ALL', 'MM', 'Other', 'Vulva/Anus', 'T-LGL', 'NHL', 'B-ALL', 'FS', 'Spindle cell sarcoma', 'GI', 'CTCL', 'Unaffected', 'DFS', 'Sebaceous adenocarcinoma']\n"
     ]
    }
   ],
   "source": [
    "\"\"\"\n",
    "Difference between the unique tissues and unique diagnosis in kics vs lfs\n",
    "\"\"\"\n",
    "\n",
    "tissueDiff = list(set(lUniqueTissue).symmetric_difference(set(kUniqueTissue)))\n",
    "diagDiff = list(set(lUniqueDiag).symmetric_difference(set(kUniqueDiag)))\n",
    "\n",
    "\n",
    "print(tissueDiff)\n",
    "print(diagDiff)\n",
    "\n",
    "# count = 0\n",
    "# print(len(lUniqueDiag))\n",
    "# for i in lUniqueDiag:\n",
    "#     if i in diagDiff:\n",
    "#         count = count+1\n",
    "        \n",
    "# print(count)"
   ]
  },
  {
   "cell_type": "code",
   "execution_count": 28,
   "id": "59786af8",
   "metadata": {},
   "outputs": [
    {
     "name": "stdout",
     "output_type": "stream",
     "text": [
      "['CNS' 'Colon' 'Bone' 'Blood' 'Thyroid' 'Soft Tissue' 'Breast' 'Adrenal'\n",
      " 'Skin']\n",
      "['Soft Tissue' 'Breast' 'Adrenal' 'CNS' 'Blood' 'Bone' 'Thyroid' 'Skin'\n",
      " 'Colon']\n"
     ]
    }
   ],
   "source": [
    "\"\"\"\n",
    "Drop the rows that are in the diff\n",
    "\"\"\"\n",
    "\n",
    "lfsTissue = lfsClinicdf[~lfsClinicdf['tissue_type'].isin(tissueDiff)]\n",
    "kicsTissue = kicsClinicdf[~kicsClinicdf['tissue_type'].isin(tissueDiff)]\n",
    "\n",
    "lfsDiag = lfsClinicdf[~lfsClinicdf['cancer_diagnosis'].isin(diagDiff)]\n",
    "kicsDiag = kicsClinicdf[~kicsClinicdf['lfs_cancer_type_diagnosis'].isin(diagDiff)]\n",
    "\n",
    "#print(kicsTissue.columns)\n",
    "\n",
    "kicsTissue = pd.DataFrame(data = {'tissue_type':kicsTissue['tissue_type'], 'id':kicsTissue['KiCS ID'], \n",
    "                                  'ccp':kicsTissue['CCP germline']})\n",
    "kicsT = kicsTissue\n",
    "\n",
    "lfsTissue = pd.DataFrame(data = {'tissue_type':lfsTissue['tissue_type'], 'id':lfsTissue['sample']})\n",
    "lfsT = lfsTissue\n",
    "\n",
    "groupedTissue = pd.DataFrame(data={'ktissue':kicsTissue['tissue_type'], 'ltissue':lfsTissue['tissue_type']})\n",
    "\n",
    "lfsDiag = pd.DataFrame(data = {'diag':lfsDiag['cancer_diagnosis'], 'id':lfsDiag['sample']})\n",
    "lfsD = lfsDiag\n",
    "kicsDiag = pd.DataFrame(data = {'diag':kicsDiag['lfs_cancer_type_diagnosis'], 'id':kicsDiag['KiCS ID'],\n",
    "                                'ccp':kicsDiag['CCP germline']})\n",
    "kicsD = kicsDiag\n",
    "\n",
    "groupedDiag = pd.DataFrame(data={'kdiag':kicsDiag['diag'],'ldiag': lfsDiag['diag']})\n",
    "\n",
    "kicsTidList = kicsDiag['id'].unique()\n",
    "lfsTidList = lfsDiag['id'].unique()\n",
    "kicsDiagList = kicsDiag['diag'].unique()\n",
    "\n",
    "kicsIdList = kicsTissue['id'].unique()\n",
    "kicsTissueList = kicsTissue['tissue_type'].unique()\n",
    "#lfsTissueList = lfsTissue['tissue_type'].unique()\n",
    "lfsIdList = lfsTissue['id'].unique()\n",
    "\n",
    "print(kicsTissue['tissue_type'].unique())\n",
    "print(lfsTissue['tissue_type'].unique())\n",
    "#print(lfsTissue.columns)\n",
    "#print(lfsTissueList)\n",
    "\n",
    "\n"
   ]
  },
  {
   "cell_type": "code",
   "execution_count": 7,
   "id": "cc38c4a6",
   "metadata": {},
   "outputs": [],
   "source": [
    "def BoxGraphMulti(df: pd.DataFrame, xCol, yCol, compCol, orderList):\n",
    "    plt.rcParams[\"figure.figsize\"] = [15, 15]\n",
    "    ax = sns.boxplot(data=df, x=xCol, y=yCol, hue=compCol, medianprops={\"linewidth\": 4, 'color':'black'})\n",
    "    ax.set_xticks(ax.get_xticks(), ax.get_xticklabels(), rotation=45, ha='right')\n",
    "    \n",
    "    #add statistical test here\n",
    "    listPairing = []\n",
    "    #pairings for multi correction\n",
    "    for i in orderList:\n",
    "        p1 = (i, 'kics')\n",
    "        p2 = (i, 'lfs')\n",
    "        p = (p1,p2)\n",
    "        listPairing.append(p)\n",
    "        \n",
    "    annot = Annotator(ax, listPairing, data=df, x=xCol, y=yCol, hue=compCol)\n",
    "    annot.configure(test='Mann-Whitney', text_format='star', loc='outside', verbose=2)\n",
    "    annot.apply_and_annotate()\n",
    "\n",
    "    plt.show()\n",
    "\n",
    "    plt.show()"
   ]
  },
  {
   "cell_type": "code",
   "execution_count": 8,
   "id": "472072c5",
   "metadata": {},
   "outputs": [
    {
     "name": "stdout",
     "output_type": "stream",
     "text": [
      "p-value annotation legend:\n",
      "      ns: p <= 1.00e+00\n",
      "       *: 1.00e-02 < p <= 5.00e-02\n",
      "      **: 1.00e-03 < p <= 1.00e-02\n",
      "     ***: 1.00e-04 < p <= 1.00e-03\n",
      "    ****: p <= 1.00e-04\n",
      "\n",
      "Thyroid_kics vs. Thyroid_lfs: Mann-Whitney-Wilcoxon test two-sided, P_val:1.774e-01 U_stat=2.288e+04\n",
      "Blood_kics vs. Blood_lfs: Mann-Whitney-Wilcoxon test two-sided, P_val:5.980e-12 U_stat=2.720e+04\n",
      "Adrenal_kics vs. Adrenal_lfs: Mann-Whitney-Wilcoxon test two-sided, P_val:8.841e-08 U_stat=1.838e+04\n"
     ]
    },
    {
     "name": "stderr",
     "output_type": "stream",
     "text": [
      "/Users/katherineqin/opt/anaconda3/lib/python3.9/site-packages/seaborn/categorical.py:381: DeprecationWarning: distutils Version classes are deprecated. Use packaging.version instead.\n",
      "  if LooseVersion(mpl.__version__) < \"3.0\":\n",
      "/Users/katherineqin/opt/anaconda3/lib/python3.9/site-packages/setuptools/_distutils/version.py:351: DeprecationWarning: distutils Version classes are deprecated. Use packaging.version instead.\n",
      "  other = LooseVersion(other)\n"
     ]
    },
    {
     "name": "stdout",
     "output_type": "stream",
     "text": [
      "Bone_kics vs. Bone_lfs: Mann-Whitney-Wilcoxon test two-sided, P_val:6.968e-01 U_stat=2.277e+04\n",
      "CNS_kics vs. CNS_lfs: Mann-Whitney-Wilcoxon test two-sided, P_val:7.313e-08 U_stat=2.764e+04\n",
      "Colon_kics vs. Colon_lfs: Mann-Whitney-Wilcoxon test two-sided, P_val:9.923e-01 U_stat=2.250e+04\n",
      "Soft Tissue_kics vs. Soft Tissue_lfs: Mann-Whitney-Wilcoxon test two-sided, P_val:8.137e-01 U_stat=2.270e+04\n",
      "Breast_kics vs. Breast_lfs: Mann-Whitney-Wilcoxon test two-sided, P_val:3.701e-10 U_stat=1.695e+04\n",
      "Skin_kics vs. Skin_lfs: Mann-Whitney-Wilcoxon test two-sided, P_val:8.480e-02 U_stat=2.190e+04\n"
     ]
    },
    {
     "data": {
      "image/png": "[encoded data removed]",
      "text/plain": [
       "<Figure size 1080x1080 with 1 Axes>"
      ]
     },
     "metadata": {
      "needs_background": "light"
     },
     "output_type": "display_data"
    }
   ],
   "source": [
    "\"\"\"\n",
    "get it into the form wanted\n",
    "\"\"\"\n",
    "\n",
    "kicsTissue = kicsTissue.groupby(['id','tissue_type']).size().unstack(fill_value=0)\n",
    "kicsTissue = kicsTissue.stack().unstack(1)\n",
    "kicsTissue = kicsTissue.reset_index()\n",
    "#print(kicsTissue)\n",
    "#print(kicsTissue.columns)\n",
    "\n",
    "df = kicsTissue.drop(['id'], axis=1)\n",
    "df = df.stack(0)\n",
    "df = df.reset_index().drop(['level_0'],axis=1)\n",
    "df['dataset'] = 'kics'\n",
    "#print(df.head(50))\n",
    "\n",
    "lfsTissue = lfsTissue.groupby(['id','tissue_type']).size().unstack(fill_value=0)\n",
    "lfsTissue = lfsTissue.stack().unstack(1).reset_index()\n",
    "dfL = lfsTissue.drop(['id'], axis=1).stack(0).reset_index().drop(['level_0'],axis=1)\n",
    "dfL['dataset']='lfs'\n",
    "#print(dfL.head(50))\n",
    "\n",
    "mergedTissue = pd.concat([df, dfL])\n",
    "mergedTissue.rename(columns = {0:'occ'}, inplace=True)\n",
    "\n",
    "#print(mergedTissue.head(30))\n",
    "\n",
    "\n",
    "\n",
    "BoxGraphMulti(mergedTissue, 'tissue_type', 'occ', 'dataset', kicsTissueList)"
   ]
  },
  {
   "cell_type": "code",
   "execution_count": 10,
   "id": "18aa53fb",
   "metadata": {},
   "outputs": [
    {
     "ename": "KeyError",
     "evalue": "'diag'",
     "output_type": "error",
     "traceback": [
      "\u001b[0;31m---------------------------------------------------------------------------\u001b[0m",
      "\u001b[0;31mKeyError\u001b[0m                                  Traceback (most recent call last)",
      "Input \u001b[0;32mIn [10]\u001b[0m, in \u001b[0;36m<cell line: 1>\u001b[0;34m()\u001b[0m\n\u001b[0;32m----> 1\u001b[0m kicsDiag \u001b[38;5;241m=\u001b[39m \u001b[43mkicsDiag\u001b[49m\u001b[38;5;241;43m.\u001b[39;49m\u001b[43mgroupby\u001b[49m\u001b[43m(\u001b[49m\u001b[43m[\u001b[49m\u001b[38;5;124;43m'\u001b[39;49m\u001b[38;5;124;43mid\u001b[39;49m\u001b[38;5;124;43m'\u001b[39;49m\u001b[43m,\u001b[49m\u001b[38;5;124;43m'\u001b[39;49m\u001b[38;5;124;43mdiag\u001b[39;49m\u001b[38;5;124;43m'\u001b[39;49m\u001b[43m]\u001b[49m\u001b[43m)\u001b[49m\u001b[38;5;241m.\u001b[39msize()\u001b[38;5;241m.\u001b[39munstack(fill_value\u001b[38;5;241m=\u001b[39m\u001b[38;5;241m0\u001b[39m)\n\u001b[1;32m      2\u001b[0m kicsDiag \u001b[38;5;241m=\u001b[39m kicsDiag\u001b[38;5;241m.\u001b[39mstack()\u001b[38;5;241m.\u001b[39munstack(\u001b[38;5;241m1\u001b[39m)\n\u001b[1;32m      3\u001b[0m kicsDiag \u001b[38;5;241m=\u001b[39m kicsDiag\u001b[38;5;241m.\u001b[39mreset_index()\n",
      "File \u001b[0;32m~/opt/anaconda3/lib/python3.9/site-packages/pandas/core/frame.py:7712\u001b[0m, in \u001b[0;36mDataFrame.groupby\u001b[0;34m(self, by, axis, level, as_index, sort, group_keys, squeeze, observed, dropna)\u001b[0m\n\u001b[1;32m   7707\u001b[0m axis \u001b[38;5;241m=\u001b[39m \u001b[38;5;28mself\u001b[39m\u001b[38;5;241m.\u001b[39m_get_axis_number(axis)\n\u001b[1;32m   7709\u001b[0m \u001b[38;5;66;03m# https://github.com/python/mypy/issues/7642\u001b[39;00m\n\u001b[1;32m   7710\u001b[0m \u001b[38;5;66;03m# error: Argument \"squeeze\" to \"DataFrameGroupBy\" has incompatible type\u001b[39;00m\n\u001b[1;32m   7711\u001b[0m \u001b[38;5;66;03m# \"Union[bool, NoDefault]\"; expected \"bool\"\u001b[39;00m\n\u001b[0;32m-> 7712\u001b[0m \u001b[38;5;28;01mreturn\u001b[39;00m \u001b[43mDataFrameGroupBy\u001b[49m\u001b[43m(\u001b[49m\n\u001b[1;32m   7713\u001b[0m \u001b[43m    \u001b[49m\u001b[43mobj\u001b[49m\u001b[38;5;241;43m=\u001b[39;49m\u001b[38;5;28;43mself\u001b[39;49m\u001b[43m,\u001b[49m\n\u001b[1;32m   7714\u001b[0m \u001b[43m    \u001b[49m\u001b[43mkeys\u001b[49m\u001b[38;5;241;43m=\u001b[39;49m\u001b[43mby\u001b[49m\u001b[43m,\u001b[49m\n\u001b[1;32m   7715\u001b[0m \u001b[43m    \u001b[49m\u001b[43maxis\u001b[49m\u001b[38;5;241;43m=\u001b[39;49m\u001b[43maxis\u001b[49m\u001b[43m,\u001b[49m\n\u001b[1;32m   7716\u001b[0m \u001b[43m    \u001b[49m\u001b[43mlevel\u001b[49m\u001b[38;5;241;43m=\u001b[39;49m\u001b[43mlevel\u001b[49m\u001b[43m,\u001b[49m\n\u001b[1;32m   7717\u001b[0m \u001b[43m    \u001b[49m\u001b[43mas_index\u001b[49m\u001b[38;5;241;43m=\u001b[39;49m\u001b[43mas_index\u001b[49m\u001b[43m,\u001b[49m\n\u001b[1;32m   7718\u001b[0m \u001b[43m    \u001b[49m\u001b[43msort\u001b[49m\u001b[38;5;241;43m=\u001b[39;49m\u001b[43msort\u001b[49m\u001b[43m,\u001b[49m\n\u001b[1;32m   7719\u001b[0m \u001b[43m    \u001b[49m\u001b[43mgroup_keys\u001b[49m\u001b[38;5;241;43m=\u001b[39;49m\u001b[43mgroup_keys\u001b[49m\u001b[43m,\u001b[49m\n\u001b[1;32m   7720\u001b[0m \u001b[43m    \u001b[49m\u001b[43msqueeze\u001b[49m\u001b[38;5;241;43m=\u001b[39;49m\u001b[43msqueeze\u001b[49m\u001b[43m,\u001b[49m\u001b[43m  \u001b[49m\u001b[38;5;66;43;03m# type: ignore[arg-type]\u001b[39;49;00m\n\u001b[1;32m   7721\u001b[0m \u001b[43m    \u001b[49m\u001b[43mobserved\u001b[49m\u001b[38;5;241;43m=\u001b[39;49m\u001b[43mobserved\u001b[49m\u001b[43m,\u001b[49m\n\u001b[1;32m   7722\u001b[0m \u001b[43m    \u001b[49m\u001b[43mdropna\u001b[49m\u001b[38;5;241;43m=\u001b[39;49m\u001b[43mdropna\u001b[49m\u001b[43m,\u001b[49m\n\u001b[1;32m   7723\u001b[0m \u001b[43m\u001b[49m\u001b[43m)\u001b[49m\n",
      "File \u001b[0;32m~/opt/anaconda3/lib/python3.9/site-packages/pandas/core/groupby/groupby.py:882\u001b[0m, in \u001b[0;36mGroupBy.__init__\u001b[0;34m(self, obj, keys, axis, level, grouper, exclusions, selection, as_index, sort, group_keys, squeeze, observed, mutated, dropna)\u001b[0m\n\u001b[1;32m    879\u001b[0m \u001b[38;5;28;01mif\u001b[39;00m grouper \u001b[38;5;129;01mis\u001b[39;00m \u001b[38;5;28;01mNone\u001b[39;00m:\n\u001b[1;32m    880\u001b[0m     \u001b[38;5;28;01mfrom\u001b[39;00m \u001b[38;5;21;01mpandas\u001b[39;00m\u001b[38;5;21;01m.\u001b[39;00m\u001b[38;5;21;01mcore\u001b[39;00m\u001b[38;5;21;01m.\u001b[39;00m\u001b[38;5;21;01mgroupby\u001b[39;00m\u001b[38;5;21;01m.\u001b[39;00m\u001b[38;5;21;01mgrouper\u001b[39;00m \u001b[38;5;28;01mimport\u001b[39;00m get_grouper\n\u001b[0;32m--> 882\u001b[0m     grouper, exclusions, obj \u001b[38;5;241m=\u001b[39m \u001b[43mget_grouper\u001b[49m\u001b[43m(\u001b[49m\n\u001b[1;32m    883\u001b[0m \u001b[43m        \u001b[49m\u001b[43mobj\u001b[49m\u001b[43m,\u001b[49m\n\u001b[1;32m    884\u001b[0m \u001b[43m        \u001b[49m\u001b[43mkeys\u001b[49m\u001b[43m,\u001b[49m\n\u001b[1;32m    885\u001b[0m \u001b[43m        \u001b[49m\u001b[43maxis\u001b[49m\u001b[38;5;241;43m=\u001b[39;49m\u001b[43maxis\u001b[49m\u001b[43m,\u001b[49m\n\u001b[1;32m    886\u001b[0m \u001b[43m        \u001b[49m\u001b[43mlevel\u001b[49m\u001b[38;5;241;43m=\u001b[39;49m\u001b[43mlevel\u001b[49m\u001b[43m,\u001b[49m\n\u001b[1;32m    887\u001b[0m \u001b[43m        \u001b[49m\u001b[43msort\u001b[49m\u001b[38;5;241;43m=\u001b[39;49m\u001b[43msort\u001b[49m\u001b[43m,\u001b[49m\n\u001b[1;32m    888\u001b[0m \u001b[43m        \u001b[49m\u001b[43mobserved\u001b[49m\u001b[38;5;241;43m=\u001b[39;49m\u001b[43mobserved\u001b[49m\u001b[43m,\u001b[49m\n\u001b[1;32m    889\u001b[0m \u001b[43m        \u001b[49m\u001b[43mmutated\u001b[49m\u001b[38;5;241;43m=\u001b[39;49m\u001b[38;5;28;43mself\u001b[39;49m\u001b[38;5;241;43m.\u001b[39;49m\u001b[43mmutated\u001b[49m\u001b[43m,\u001b[49m\n\u001b[1;32m    890\u001b[0m \u001b[43m        \u001b[49m\u001b[43mdropna\u001b[49m\u001b[38;5;241;43m=\u001b[39;49m\u001b[38;5;28;43mself\u001b[39;49m\u001b[38;5;241;43m.\u001b[39;49m\u001b[43mdropna\u001b[49m\u001b[43m,\u001b[49m\n\u001b[1;32m    891\u001b[0m \u001b[43m    \u001b[49m\u001b[43m)\u001b[49m\n\u001b[1;32m    893\u001b[0m \u001b[38;5;28mself\u001b[39m\u001b[38;5;241m.\u001b[39mobj \u001b[38;5;241m=\u001b[39m obj\n\u001b[1;32m    894\u001b[0m \u001b[38;5;28mself\u001b[39m\u001b[38;5;241m.\u001b[39maxis \u001b[38;5;241m=\u001b[39m obj\u001b[38;5;241m.\u001b[39m_get_axis_number(axis)\n",
      "File \u001b[0;32m~/opt/anaconda3/lib/python3.9/site-packages/pandas/core/groupby/grouper.py:882\u001b[0m, in \u001b[0;36mget_grouper\u001b[0;34m(obj, key, axis, level, sort, observed, mutated, validate, dropna)\u001b[0m\n\u001b[1;32m    880\u001b[0m         in_axis, level, gpr \u001b[38;5;241m=\u001b[39m \u001b[38;5;28;01mFalse\u001b[39;00m, gpr, \u001b[38;5;28;01mNone\u001b[39;00m\n\u001b[1;32m    881\u001b[0m     \u001b[38;5;28;01melse\u001b[39;00m:\n\u001b[0;32m--> 882\u001b[0m         \u001b[38;5;28;01mraise\u001b[39;00m \u001b[38;5;167;01mKeyError\u001b[39;00m(gpr)\n\u001b[1;32m    883\u001b[0m \u001b[38;5;28;01melif\u001b[39;00m \u001b[38;5;28misinstance\u001b[39m(gpr, Grouper) \u001b[38;5;129;01mand\u001b[39;00m gpr\u001b[38;5;241m.\u001b[39mkey \u001b[38;5;129;01mis\u001b[39;00m \u001b[38;5;129;01mnot\u001b[39;00m \u001b[38;5;28;01mNone\u001b[39;00m:\n\u001b[1;32m    884\u001b[0m     \u001b[38;5;66;03m# Add key to exclusions\u001b[39;00m\n\u001b[1;32m    885\u001b[0m     exclusions\u001b[38;5;241m.\u001b[39madd(gpr\u001b[38;5;241m.\u001b[39mkey)\n",
      "\u001b[0;31mKeyError\u001b[0m: 'diag'"
     ]
    }
   ],
   "source": [
    "kicsDiag = kicsDiag.groupby(['id','diag']).size().unstack(fill_value=0)\n",
    "kicsDiag = kicsDiag.stack().unstack(1)\n",
    "kicsDiag = kicsDiag.reset_index()\n",
    "#print(kicsTissue)\n",
    "#print(kicsTissue.columns)\n",
    "\n",
    "df = kicsDiag.drop(['id'], axis=1)\n",
    "df = df.stack(0)\n",
    "df = df.reset_index().drop(['level_0'],axis=1)\n",
    "df['dataset'] = 'kics'\n",
    "#print(df.head(50))\n",
    "\n",
    "lfsDiag = lfsDiag.groupby(['id','diag']).size().unstack(fill_value=0)\n",
    "lfsDiag = lfsDiag.stack().unstack(1).reset_index()\n",
    "dfL = lfsDiag.drop(['id'], axis=1).stack(0).reset_index().drop(['level_0'],axis=1)\n",
    "dfL['dataset']='lfs'\n",
    "#print(dfL.head(50))\n",
    "\n",
    "mergedDiag = pd.concat([df, dfL])\n",
    "mergedDiag.rename(columns = {0:'occ'}, inplace=True)\n",
    "\n",
    "#print(mergedDiag.head(30))\n",
    "\n",
    "BoxGraphMulti(mergedDiag, 'diag', 'occ', 'dataset', kicsDiagList)"
   ]
  },
  {
   "cell_type": "code",
   "execution_count": 11,
   "id": "f745e09c",
   "metadata": {},
   "outputs": [],
   "source": [
    "def BarGraphNormalized(label1: str, label2:str, df: pd.DataFrame, col1: str, col2: str,\n",
    "                        xTitle: str, yTitle: str, divisor1: float, divisor2: float,\n",
    "                        labels: list):\n",
    "    #'kics', 'lfs', invdf, 'kchrom', 'lchrom', 'Chromosomes','Frequency','Graph2-INV',kicsSVnum, lfsSVnum\n",
    "\n",
    "    title = label1 + \" \" + label2\n",
    "    count1 = df[col1].value_counts()\n",
    "    count2 = df[col2].value_counts()\n",
    "    \n",
    "    x_axis = np.arange(len(labels))\n",
    "        \n",
    "    for i in labels:\n",
    "        if (not(i in count1)):\n",
    "            add = pd.Series([0], index=[i])\n",
    "            count1 = count1.append(add)\n",
    "        if (not(i in count2)):\n",
    "            add = pd.Series([0], index=[i])\n",
    "            count2 = count2.append(add)\n",
    "            \n",
    "    \n",
    "    plt.bar(x_axis - 0.2, [count1[a]/divisor1 for a in labels], 0.4, label = label1)\n",
    "    plt.bar(x_axis + 0.2, [count2[a]/divisor2 for a in labels], 0.4, label = label2)\n",
    "\n",
    "    plt.tick_params(labelrotation=45)\n",
    "    plt.xticks(x_axis, labels)\n",
    "    plt.xlabel(xTitle)\n",
    "    plt.ylabel(yTitle)\n",
    "    plt.title(title)\n",
    "    plt.legend()\n",
    "    plt.show()\n"
   ]
  },
  {
   "cell_type": "markdown",
   "id": "e275b8a1",
   "metadata": {},
   "source": [
    "# Tissue Type"
   ]
  },
  {
   "cell_type": "code",
   "execution_count": 12,
   "id": "1b7629da",
   "metadata": {},
   "outputs": [
    {
     "data": {
      "image/png": "[encoded data removed]",
      "text/plain": [
       "<Figure size 1080x1080 with 1 Axes>"
      ]
     },
     "metadata": {
      "needs_background": "light"
     },
     "output_type": "display_data"
    },
    {
     "data": {
      "image/png": "[encoded data removed]",
      "text/plain": [
       "<Figure size 1080x1080 with 1 Axes>"
      ]
     },
     "metadata": {
      "needs_background": "light"
     },
     "output_type": "display_data"
    }
   ],
   "source": [
    "BarGraphNormalized('kics', 'lfs', groupedTissue, 'ktissue', 'ltissue', 'tissue_type','Frequency',\n",
    "                   1.0,1.0, kicsTissueList)\n",
    "\n",
    "BarGraphNormalized('kics', 'lfs', groupedTissue, 'ktissue', 'ltissue', 'tissue_type', 'Frequency/num',\n",
    "                  len(kicsIdList), len(lfsIdList), kicsTissueList)"
   ]
  },
  {
   "cell_type": "markdown",
   "id": "fcc1613c",
   "metadata": {},
   "source": [
    "# Diagnosis Type"
   ]
  },
  {
   "cell_type": "code",
   "execution_count": 13,
   "id": "afa90076",
   "metadata": {
    "scrolled": true
   },
   "outputs": [
    {
     "data": {
      "image/png": "[encoded data removed]",
      "text/plain": [
       "<Figure size 1080x1080 with 1 Axes>"
      ]
     },
     "metadata": {
      "needs_background": "light"
     },
     "output_type": "display_data"
    },
    {
     "data": {
      "image/png": "[encoded data removed]",
      "text/plain": [
       "<Figure size 1080x1080 with 1 Axes>"
      ]
     },
     "metadata": {
      "needs_background": "light"
     },
     "output_type": "display_data"
    }
   ],
   "source": [
    "BarGraphNormalized('kics', 'lfs', groupedDiag, 'kdiag', 'ldiag', 'diagnosis_type', 'Frequency', 1.0,1.0, kicsDiagList)\n",
    "    \n",
    "BarGraphNormalized('kics', 'lfs', groupedDiag, 'kdiag', 'ldiag', 'diagnosis_type','Frequency/num',\n",
    "                   len(kicsTidList), len(lfsTidList), kicsDiagList)"
   ]
  },
  {
   "cell_type": "code",
   "execution_count": 14,
   "id": "7e8c13a6",
   "metadata": {},
   "outputs": [
    {
     "name": "stderr",
     "output_type": "stream",
     "text": [
      "/var/folders/86/098268q515zd4ckwjjr0xbdh0000gp/T/ipykernel_53511/537495065.py:14: SettingWithCopyWarning: \n",
      "A value is trying to be set on a copy of a slice from a DataFrame\n",
      "\n",
      "See the caveats in the documentation: https://pandas.pydata.org/pandas-docs/stable/user_guide/indexing.html#returning-a-view-versus-a-copy\n",
      "  df[colName][i] = maxTemp\n"
     ]
    }
   ],
   "source": [
    "\"\"\"\n",
    "SV clean up\n",
    "\"\"\"\n",
    "def maxGDAFFilter(colName: str, df: pd.DataFrame)->pd.DataFrame:\n",
    "    temp = df[colName].str.contains(pat=',')\n",
    "    Index = list(np.where(temp == True)[0])\n",
    "    temp = df[colName].iloc[Index]\n",
    "    tempIndex = temp.index\n",
    "\n",
    "    for i in tempIndex:\n",
    "        tempList = temp[i].split(',')\n",
    "        tempList = [float(a) for a in tempList]\n",
    "        maxTemp = max(tempList)\n",
    "        df[colName][i] = maxTemp\n",
    "\n",
    "    df[colName] = df[colName].astype('float64')\n",
    "    \n",
    "    return df\n",
    "    \n",
    "kicsSVdf = maxGDAFFilter('GD_AF', kicsSVdf)\n",
    "lfsSVdf = maxGDAFFilter('GD_AF', lfsSVdf)\n",
    "\n",
    "listValSearch = ['291775', '298313', '315666', '320118', '18_1907']\n",
    "# searched for kID of 63, 83, 156, 171, 219\n",
    "# kID 120 141 and 232 do not have any matches...\n",
    "#what would make this that much better is if it was a dict. Computationally less heavy?\n",
    "\n",
    "for i in listValSearch: \n",
    "    kicsSVdf.drop(kicsSVdf[kicsSVdf['sample_id'].str.contains(i)==True].index, inplace = True)"
   ]
  },
  {
   "cell_type": "code",
   "execution_count": 15,
   "id": "96435b43",
   "metadata": {},
   "outputs": [
    {
     "name": "stderr",
     "output_type": "stream",
     "text": [
      "<>:17: DeprecationWarning: invalid escape sequence \\d\n"
     ]
    }
   ],
   "source": [
    "def kIdAbbv(clinicDf, svDf, clinicCol, svCol, svColList, clinicColList):\n",
    "    \n",
    "    clinicDf.drop(clinicDf[clinicDf[clinicCol]=='Not applicable'].index, inplace = True)\n",
    "    \n",
    "    svDf[svCol] = svDf[svCol].astype(str)\n",
    "    clinicDf[clinicCol] = clinicDf[clinicCol].astype(str)\n",
    "    svDf[svCol] =  svDf[svCol].str.replace(\" \", \"\")\n",
    "    clinicDf[clinicCol] = clinicDf[clinicCol].str.replace(\" \", \"\")\n",
    "    \n",
    "    list1 = svDf[svCol].unique()\n",
    "    list2 = clinicDf[clinicCol].unique()\n",
    "    \n",
    "    svDict = dict()\n",
    "    clinicDict = dict()\n",
    "    \n",
    "    for i in range (len(list1)):\n",
    "        tempList = re.findall('\\d{3,}', list1[i])\n",
    "\n",
    "        #if empty, take the second one\n",
    "        if not tempList:\n",
    "            tempList = re.findall('\\d+', list1[i])\n",
    "            svDict[list1[i]] = tempList[1]\n",
    "\n",
    "        #if not empty \n",
    "        else:\n",
    "            svDict[list1[i]] = tempList[0]\n",
    "\n",
    "\n",
    "    for i in range (len(list2)):    \n",
    "        tempList = re.findall('\\d{3,}', list2[i])\n",
    "    \n",
    "        #if empty, take the second one\n",
    "        if not tempList:\n",
    "            tempList = re.findall('\\d+', list2[i])\n",
    "            clinicDict[list2[i]] = tempList[1]\n",
    "\n",
    "        #if not empty \n",
    "        else:\n",
    "            clinicDict[list2[i]] = tempList[0]\n",
    "    \n",
    "\n",
    "    clinicDf['abbv_id'] = clinicDf[clinicCol].map(clinicDict)\n",
    "    svDf['abbv_id'] = svDf[svCol].map(svDict)\n",
    "    \n",
    "    print(len(svDf[svCol].unique()))\n",
    "    \n",
    "    svColList.extend(('abbv_id',svCol))\n",
    "    clinicColList.extend(('abbv_id',clinicCol))\n",
    "    \n",
    "    df = pd.merge(svDf[svColList], clinicDf[clinicColList],\n",
    "#                      svDf[[svCol,'SV type','abbv_id']],                   \n",
    "                     #clinicDf[[clinicCol, 'tumour_class','tissue_type','lfs_cancer_type_diagnosis', 'abbv_id']],\n",
    "                     \n",
    "                     left_on = 'abbv_id', \n",
    "                     right_on = 'abbv_id', \n",
    "                     how='inner')\n",
    "\n",
    "    return df"
   ]
  },
  {
   "cell_type": "code",
   "execution_count": 16,
   "id": "46c02915",
   "metadata": {},
   "outputs": [
    {
     "name": "stdout",
     "output_type": "stream",
     "text": [
      "Index(['id', 'Adrenal', 'Blood', 'Bone', 'Breast', 'CNS', 'Colon', 'Skin',\n",
      "       'Soft Tissue', 'Thyroid'],\n",
      "      dtype='object', name='tissue_type')\n",
      "191\n",
      "   SV type abbv_id sample_id tissue_type     ccp\n",
      "0      DEL  313703    313703         CNS  313703\n",
      "1      DEL  313703    313703         CNS  313703\n",
      "2      DEL  313703    313703         CNS  313703\n",
      "3      DEL  313703    313703         CNS  313703\n",
      "4      DEL  313703    313703         CNS  313703\n",
      "5      DEL  313703    313703         CNS  313703\n",
      "6      DEL  313703    313703         CNS  313703\n",
      "7      DEL  313703    313703         CNS  313703\n",
      "8      DEL  313703    313703         CNS  313703\n",
      "9      DEL  313703    313703         CNS  313703\n",
      "10     DEL  313703    313703         CNS  313703\n",
      "11     DUP  313703    313703         CNS  313703\n",
      "12     DEL  313703    313703         CNS  313703\n",
      "13     DEL  313703    313703         CNS  313703\n",
      "14     DEL  313703    313703         CNS  313703\n",
      "15     DEL  313703    313703         CNS  313703\n",
      "16     DEL  313703    313703         CNS  313703\n",
      "17     DEL  313703    313703         CNS  313703\n",
      "18     DEL  313703    313703         CNS  313703\n",
      "19     DEL  313703    313703         CNS  313703\n",
      "20     DEL  313703    313703         CNS  313703\n",
      "21     DEL  313703    313703         CNS  313703\n",
      "22     DEL  313703    313703         CNS  313703\n",
      "23     DEL  313703    313703         CNS  313703\n",
      "24     DEL  313703    313703         CNS  313703\n",
      "25     DEL  313703    313703         CNS  313703\n",
      "26     DEL  313703    313703         CNS  313703\n",
      "27     DEL  313703    313703         CNS  313703\n",
      "28     DEL  313703    313703         CNS  313703\n",
      "29     DEL  313703    313703         CNS  313703\n",
      "72\n"
     ]
    }
   ],
   "source": [
    "print(kicsTissue.columns)\n",
    "\n",
    "bigKDfTissue = kIdAbbv(kicsT, kicsSVdf, 'ccp', 'sample_id',['SV type'], ['tissue_type'])\n",
    "print(bigKDfTissue.head(30))\n",
    "print(len(bigKDfTissue['abbv_id'].unique()))\n",
    "#prints out how many we had before the id matching and how many we have left after the id matching"
   ]
  },
  {
   "cell_type": "code",
   "execution_count": 17,
   "id": "195a66e6",
   "metadata": {},
   "outputs": [
    {
     "name": "stdout",
     "output_type": "stream",
     "text": [
      "      SV type abbv_id sample_id tissue_type     ccp\n",
      "0         DEL  313703    313703         CNS  313703\n",
      "1         DEL  313703    313703         CNS  313703\n",
      "2         DEL  313703    313703         CNS  313703\n",
      "3         DEL  313703    313703         CNS  313703\n",
      "4         DEL  313703    313703         CNS  313703\n",
      "...       ...     ...       ...         ...     ...\n",
      "21112     INV  292600    292600       Blood  292600\n",
      "21113     DEL  292600    292600       Blood  292600\n",
      "21114     DEL  292600    292600       Blood  292600\n",
      "21115     DEL  292600    292600       Blood  292600\n",
      "21116     DEL  292600    292600       Blood  292600\n",
      "\n",
      "[21117 rows x 5 columns]\n"
     ]
    }
   ],
   "source": [
    "print(bigKDfTissue)"
   ]
  },
  {
   "cell_type": "code",
   "execution_count": 18,
   "id": "c988dc4b",
   "metadata": {},
   "outputs": [
    {
     "name": "stdout",
     "output_type": "stream",
     "text": [
      "72\n"
     ]
    }
   ],
   "source": [
    "\"\"\"Filter the ? and the nan\"\"\"\n",
    "\n",
    "#print(bigKDf['tissue_type'].unique())\n",
    "bigKDfTissue.drop(bigKDfTissue.loc[bigKDfTissue['tissue_type']=='?'].index, inplace=True)\n",
    "\n",
    "#bigKDfDiag.drop(bigKDf.loc[pd.isna(bigKDf['lfs_cancer_type_diagnosis'])].index, inplace=True)\n",
    "print(len(bigKDfTissue['abbv_id'].unique()))\n",
    "#print(kicsClinicdf['tissue_type'].value_counts())"
   ]
  },
  {
   "cell_type": "code",
   "execution_count": 19,
   "id": "dc28547e",
   "metadata": {},
   "outputs": [],
   "source": [
    "lfsSVdf['sample_id'] = lfsSVdf['sample_id'].astype(str)\n",
    "lfsClinicdf['sample'] = lfsClinicdf['sample'].astype(str)"
   ]
  },
  {
   "cell_type": "code",
   "execution_count": 20,
   "id": "f5403dba",
   "metadata": {},
   "outputs": [
    {
     "name": "stdout",
     "output_type": "stream",
     "text": [
      "65\n",
      "['4257' 'SJACT008_G' '808' '2085' '1087' '1092' '3805' '3136A' '4033'\n",
      " '2447' '353' '3806' '4854' '1478' '2262' '4028' '2957' '3688' '93' '1357'\n",
      " '2565' '4329' '4535_S1' '3298A' '2349' '2446' '3473' '5567' '3273' '3885'\n",
      " '3432' '1843' '3763' '3503' 'PD13489b' '2463' '2760A' '3643' 'SJACT001_G'\n",
      " '4227' '5537' '3367' 'SJACT002_G' '2815' '5536' '3634' '1476'\n",
      " 'SJACT005_G' '3425' '3365' '2413' 'SJACT007_G' '3356' '3361' '3687_2'\n",
      " '3332' '94' '1355' '2784' '2465' '3319' 'PD7195b' '3334' '352' '2765']\n",
      "460\n"
     ]
    }
   ],
   "source": [
    "print(len(lfsSVdf['sample_id'].unique())) #only 65 to begin with D:\n",
    "print(lfsSVdf['sample_id'].unique())\n",
    "\n",
    "print(len(lfsClinicdf['sample'].unique()))"
   ]
  },
  {
   "cell_type": "code",
   "execution_count": 21,
   "id": "eecde725",
   "metadata": {},
   "outputs": [
    {
     "data": {
      "text/plain": [
       "'\\ndrop unaffected? and NA? \\n- Keeping unaffected and NA\\nWhich column do i use for id\\n- sample\\n'"
      ]
     },
     "execution_count": 21,
     "metadata": {},
     "output_type": "execute_result"
    }
   ],
   "source": [
    "#print(lfsClinicdf.columns)\n",
    "\n",
    "#print(lfsSVdf.columns)\n",
    "\n",
    "\"\"\"\n",
    "drop unaffected? and NA? \n",
    "- Keeping unaffected and NA\n",
    "Which column do i use for id\n",
    "- sample\n",
    "\"\"\"\n",
    "#print(set(lfsSVdf['sample_id']).difference(set(lfsClinicdf['sample'])))"
   ]
  },
  {
   "cell_type": "code",
   "execution_count": 22,
   "id": "af144e5c",
   "metadata": {},
   "outputs": [],
   "source": [
    "\"\"\"\n",
    "Can directly map the two\n",
    "Apply on Filtered Prelim Graphs\n",
    "\"\"\"\n",
    "\n",
    "#print(lfsSVdf.columns)\n",
    "# bigLDf = pd.merge(lfsSVdf[['sample_id','SV chrom','GD_AF', 'SV type']], \n",
    "#                      lfsClinicdf[['sample','tissue_type', 'cancer_diagnosis', 'active_cancer', 'gender']],\n",
    "#                      left_on = 'sample_id', \n",
    "#                      right_on = 'sample', d\n",
    "#                      how='inner')\n",
    "\n",
    "#print(lfsTissue.columns)\n",
    "\n",
    "bigLDfTissue = pd.merge(lfsSVdf[['sample_id','SV chrom','GD_AF', 'SV type']],\n",
    "                 lfsT[['id','tissue_type']],\n",
    "                 left_on = 'sample_id',\n",
    "                 right_on = 'id',\n",
    "                 how='inner')\n",
    "\n",
    "#print(bigLDf)\n",
    "#print(len(bigLDf['sample_id'].unique()))\n"
   ]
  },
  {
   "cell_type": "code",
   "execution_count": 23,
   "id": "5b8b0772",
   "metadata": {},
   "outputs": [
    {
     "name": "stdout",
     "output_type": "stream",
     "text": [
      "   SV type abbv_id sample_id tissue_type     ccp\n",
      "0      DEL  313703    313703         CNS  313703\n",
      "1      DEL  313703    313703         CNS  313703\n",
      "2      DEL  313703    313703         CNS  313703\n",
      "3      DEL  313703    313703         CNS  313703\n",
      "4      DEL  313703    313703         CNS  313703\n",
      "5      DEL  313703    313703         CNS  313703\n",
      "6      DEL  313703    313703         CNS  313703\n",
      "7      DEL  313703    313703         CNS  313703\n",
      "8      DEL  313703    313703         CNS  313703\n",
      "9      DEL  313703    313703         CNS  313703\n",
      "10     DEL  313703    313703         CNS  313703\n",
      "12     DEL  313703    313703         CNS  313703\n",
      "13     DEL  313703    313703         CNS  313703\n",
      "14     DEL  313703    313703         CNS  313703\n",
      "15     DEL  313703    313703         CNS  313703\n",
      "16     DEL  313703    313703         CNS  313703\n",
      "17     DEL  313703    313703         CNS  313703\n",
      "18     DEL  313703    313703         CNS  313703\n",
      "19     DEL  313703    313703         CNS  313703\n",
      "20     DEL  313703    313703         CNS  313703\n",
      "21     DEL  313703    313703         CNS  313703\n",
      "22     DEL  313703    313703         CNS  313703\n",
      "23     DEL  313703    313703         CNS  313703\n",
      "24     DEL  313703    313703         CNS  313703\n",
      "25     DEL  313703    313703         CNS  313703\n",
      "26     DEL  313703    313703         CNS  313703\n",
      "27     DEL  313703    313703         CNS  313703\n",
      "28     DEL  313703    313703         CNS  313703\n",
      "29     DEL  313703    313703         CNS  313703\n",
      "30     DEL  313703    313703         CNS  313703\n"
     ]
    }
   ],
   "source": [
    "#bigLDf and bigKDf\n",
    "\n",
    "#print(bigLDf.columns)\n",
    "#print(bigKDf.head(30))\n",
    "\n",
    "kDel = bigKDfTissue.loc[bigKDfTissue['SV type'] == 'DEL']\n",
    "kDup = bigKDfTissue.loc[bigKDfTissue['SV type'] == 'DUP']\n",
    "kInv = bigKDfTissue.loc[bigKDfTissue['SV type'] == 'INV']\n",
    "\n",
    "lDel = bigLDfTissue.loc[bigLDfTissue['SV type'] == 'DEL']\n",
    "lDup = bigLDfTissue.loc[bigLDfTissue['SV type'] == 'DUP']\n",
    "lInv = bigLDfTissue.loc[bigLDfTissue['SV type'] == 'INV']\n",
    "\n",
    "print(kDel.head(30))\n",
    "\n",
    "#print(kDel.value)"
   ]
  },
  {
   "cell_type": "code",
   "execution_count": 24,
   "id": "a8312733",
   "metadata": {},
   "outputs": [],
   "source": [
    "# kdeldf = kDel.drop(['sample_id', 'ccp', 'SV type'], axis=1)\n",
    "\n",
    "# #print(kdeldf.head(30))\n",
    "# kdeldf = kdeldf.groupby(['abbv_id']).value_counts()#.to_frame()#.size()#.unstack()\n",
    "# kdeldf = kdeldf.to_frame().reset_index()\n",
    "\n",
    "# kdeldf.rename(columns = {0:'freq'}, inplace = True)\n",
    "\n",
    "# #print(kdeldf)\n",
    "\n",
    "# kdeldf = pd.melt(kdeldf, id_vars=['tissue_type'], value_vars=['freq'])\n",
    "\n",
    "# #print(kdeldf.head(30))\n",
    "# # kdeldf = kdeldf.stack()#.unstack(1)\n",
    "# # kdeldf = kdeldf.reset_index()\n",
    "# # kdeldf = kdeldf.drop(['abbv_id'],axis=1)\n",
    "# kdeldf['dataset'] = 'kics'\n",
    "\n",
    "# #print(lDel.columns)\n",
    "\n",
    "# ldeldf = lDel.drop(['SV chrom', 'GD_AF',\n",
    "#                     'SV type', 'sample_id'], axis=1)\n",
    "\n",
    "# ldeldf = ldeldf.groupby(['id']).value_counts()#size().unstack(fill_value=0)\n",
    "# ldeldf = ldeldf.to_frame().reset_index()\n",
    "# ldeldf.rename(columns = {0:'freq'}, inplace = True)\n",
    "\n",
    "# ldeldf = pd.melt(ldeldf, id_vars=['tissue_type'], value_vars=['freq'])\n",
    "# ldeldf['dataset'] = 'lfs'\n",
    "\n",
    "# # ldeldf = ldeldf.reset_index()\n",
    "# # ldeldf = ldeldf.drop(['sample'],axis=1)\n",
    "# # ldeldf['dataset'] = 'lfs'\n",
    "# # #print(ldeldf.head(30))\n",
    "\n",
    "# delMergedDf = pd.concat([ldeldf, kdeldf])\n",
    "# #print(delMergedDf)\n",
    "\n",
    "# BoxGraphMulti(delMergedDf,'tissue_type', 'value', 'dataset')\n"
   ]
  },
  {
   "cell_type": "code",
   "execution_count": 25,
   "id": "a7da42f6",
   "metadata": {},
   "outputs": [],
   "source": [
    "def graphSVTissue(kdf, ldf, listTissue):\n",
    "    kdf = kdf.drop(['sample_id', 'ccp', 'SV type'], axis=1)\n",
    "    kdf = kdf.groupby(['abbv_id']).value_counts()\n",
    "    kdf = kdf.to_frame().reset_index()\n",
    "\n",
    "    kdf.rename(columns = {0:'freq'}, inplace = True)\n",
    "    kdf = pd.melt(kdf, id_vars=['tissue_type'], value_vars=['freq'])\n",
    "    kdf['dataset'] = 'kics'\n",
    "\n",
    "    ldf = ldf.drop(['SV chrom', 'GD_AF',\n",
    "                        'SV type', 'sample_id'], axis=1)\n",
    "    ldf = ldf.groupby(['id']).value_counts()\n",
    "    ldf = ldf.to_frame().reset_index()\n",
    "    ldf.rename(columns = {0:'freq'}, inplace = True)\n",
    "\n",
    "    ldf = pd.melt(ldf, id_vars=['tissue_type'], value_vars=['freq'])\n",
    "    ldf['dataset'] = 'lfs'\n",
    "\n",
    "    mergedDf = pd.concat([ldf, kdf])\n",
    "    \n",
    "    BoxGraphMulti(mergedDf,'tissue_type', 'value', 'dataset', listTissue) "
   ]
  },
  {
   "cell_type": "markdown",
   "id": "ed12b984",
   "metadata": {},
   "source": [
    "## DEL"
   ]
  },
  {
   "cell_type": "code",
   "execution_count": 32,
   "id": "50862032",
   "metadata": {},
   "outputs": [
    {
     "name": "stdout",
     "output_type": "stream",
     "text": [
      "['CNS' 'Soft Tissue' 'Blood' 'Bone' 'Thyroid' 'Breast' 'Colon' 'Adrenal']\n",
      "['Breast' 'Adrenal' 'Soft Tissue' 'Blood' 'Bone' 'CNS' 'Colon']\n"
     ]
    },
    {
     "name": "stderr",
     "output_type": "stream",
     "text": [
      "/Users/katherineqin/opt/anaconda3/lib/python3.9/site-packages/seaborn/categorical.py:381: DeprecationWarning: distutils Version classes are deprecated. Use packaging.version instead.\n",
      "  if LooseVersion(mpl.__version__) < \"3.0\":\n",
      "/Users/katherineqin/opt/anaconda3/lib/python3.9/site-packages/setuptools/_distutils/version.py:351: DeprecationWarning: distutils Version classes are deprecated. Use packaging.version instead.\n",
      "  other = LooseVersion(other)\n"
     ]
    },
    {
     "ename": "ValueError",
     "evalue": "Missing group value `Skin` in tissue_type (specified in `pairs`)",
     "output_type": "error",
     "traceback": [
      "\u001b[0;31m---------------------------------------------------------------------------\u001b[0m",
      "\u001b[0;31mValueError\u001b[0m                                Traceback (most recent call last)",
      "Input \u001b[0;32mIn [32]\u001b[0m, in \u001b[0;36m<cell line: 3>\u001b[0;34m()\u001b[0m\n\u001b[1;32m      1\u001b[0m \u001b[38;5;28mprint\u001b[39m(kDel[\u001b[38;5;124m'\u001b[39m\u001b[38;5;124mtissue_type\u001b[39m\u001b[38;5;124m'\u001b[39m]\u001b[38;5;241m.\u001b[39munique())\n\u001b[1;32m      2\u001b[0m \u001b[38;5;28mprint\u001b[39m(lDel[\u001b[38;5;124m'\u001b[39m\u001b[38;5;124mtissue_type\u001b[39m\u001b[38;5;124m'\u001b[39m]\u001b[38;5;241m.\u001b[39munique())\n\u001b[0;32m----> 3\u001b[0m \u001b[43mgraphSVTissue\u001b[49m\u001b[43m(\u001b[49m\u001b[43mkDel\u001b[49m\u001b[43m,\u001b[49m\u001b[43m \u001b[49m\u001b[43mlDel\u001b[49m\u001b[43m,\u001b[49m\u001b[43m \u001b[49m\u001b[43mkicsTissueList\u001b[49m\u001b[43m)\u001b[49m\n",
      "Input \u001b[0;32mIn [25]\u001b[0m, in \u001b[0;36mgraphSVTissue\u001b[0;34m(kdf, ldf, listTissue)\u001b[0m\n\u001b[1;32m     17\u001b[0m ldf[\u001b[38;5;124m'\u001b[39m\u001b[38;5;124mdataset\u001b[39m\u001b[38;5;124m'\u001b[39m] \u001b[38;5;241m=\u001b[39m \u001b[38;5;124m'\u001b[39m\u001b[38;5;124mlfs\u001b[39m\u001b[38;5;124m'\u001b[39m\n\u001b[1;32m     19\u001b[0m mergedDf \u001b[38;5;241m=\u001b[39m pd\u001b[38;5;241m.\u001b[39mconcat([ldf, kdf])\n\u001b[0;32m---> 21\u001b[0m \u001b[43mBoxGraphMulti\u001b[49m\u001b[43m(\u001b[49m\u001b[43mmergedDf\u001b[49m\u001b[43m,\u001b[49m\u001b[38;5;124;43m'\u001b[39;49m\u001b[38;5;124;43mtissue_type\u001b[39;49m\u001b[38;5;124;43m'\u001b[39;49m\u001b[43m,\u001b[49m\u001b[43m \u001b[49m\u001b[38;5;124;43m'\u001b[39;49m\u001b[38;5;124;43mvalue\u001b[39;49m\u001b[38;5;124;43m'\u001b[39;49m\u001b[43m,\u001b[49m\u001b[43m \u001b[49m\u001b[38;5;124;43m'\u001b[39;49m\u001b[38;5;124;43mdataset\u001b[39;49m\u001b[38;5;124;43m'\u001b[39;49m\u001b[43m,\u001b[49m\u001b[43m \u001b[49m\u001b[43mlistTissue\u001b[49m\u001b[43m)\u001b[49m\n",
      "Input \u001b[0;32mIn [7]\u001b[0m, in \u001b[0;36mBoxGraphMulti\u001b[0;34m(df, xCol, yCol, compCol, orderList)\u001b[0m\n\u001b[1;32m     12\u001b[0m     p \u001b[38;5;241m=\u001b[39m (p1,p2)\n\u001b[1;32m     13\u001b[0m     listPairing\u001b[38;5;241m.\u001b[39mappend(p)\n\u001b[0;32m---> 15\u001b[0m annot \u001b[38;5;241m=\u001b[39m \u001b[43mAnnotator\u001b[49m\u001b[43m(\u001b[49m\u001b[43max\u001b[49m\u001b[43m,\u001b[49m\u001b[43m \u001b[49m\u001b[43mlistPairing\u001b[49m\u001b[43m,\u001b[49m\u001b[43m \u001b[49m\u001b[43mdata\u001b[49m\u001b[38;5;241;43m=\u001b[39;49m\u001b[43mdf\u001b[49m\u001b[43m,\u001b[49m\u001b[43m \u001b[49m\u001b[43mx\u001b[49m\u001b[38;5;241;43m=\u001b[39;49m\u001b[43mxCol\u001b[49m\u001b[43m,\u001b[49m\u001b[43m \u001b[49m\u001b[43my\u001b[49m\u001b[38;5;241;43m=\u001b[39;49m\u001b[43myCol\u001b[49m\u001b[43m,\u001b[49m\u001b[43m \u001b[49m\u001b[43mhue\u001b[49m\u001b[38;5;241;43m=\u001b[39;49m\u001b[43mcompCol\u001b[49m\u001b[43m)\u001b[49m\n\u001b[1;32m     16\u001b[0m annot\u001b[38;5;241m.\u001b[39mconfigure(test\u001b[38;5;241m=\u001b[39m\u001b[38;5;124m'\u001b[39m\u001b[38;5;124mMann-Whitney\u001b[39m\u001b[38;5;124m'\u001b[39m, text_format\u001b[38;5;241m=\u001b[39m\u001b[38;5;124m'\u001b[39m\u001b[38;5;124mstar\u001b[39m\u001b[38;5;124m'\u001b[39m, loc\u001b[38;5;241m=\u001b[39m\u001b[38;5;124m'\u001b[39m\u001b[38;5;124moutside\u001b[39m\u001b[38;5;124m'\u001b[39m, verbose\u001b[38;5;241m=\u001b[39m\u001b[38;5;241m2\u001b[39m)\n\u001b[1;32m     17\u001b[0m annot\u001b[38;5;241m.\u001b[39mapply_and_annotate()\n",
      "File \u001b[0;32m~/opt/anaconda3/lib/python3.9/site-packages/statannotations/Annotator.py:106\u001b[0m, in \u001b[0;36mAnnotator.__init__\u001b[0;34m(self, ax, pairs, plot, data, x, y, hue, order, hue_order, engine, verbose, **plot_params)\u001b[0m\n\u001b[1;32m    104\u001b[0m     \u001b[38;5;28mself\u001b[39m\u001b[38;5;241m.\u001b[39m_plotter \u001b[38;5;241m=\u001b[39m \u001b[38;5;28;01mNone\u001b[39;00m\n\u001b[1;32m    105\u001b[0m \u001b[38;5;28;01melse\u001b[39;00m:\n\u001b[0;32m--> 106\u001b[0m     \u001b[38;5;28mself\u001b[39m\u001b[38;5;241m.\u001b[39m_plotter \u001b[38;5;241m=\u001b[39m \u001b[38;5;28;43mself\u001b[39;49m\u001b[38;5;241;43m.\u001b[39;49m\u001b[43m_get_plotter\u001b[49m\u001b[43m(\u001b[49m\u001b[43mengine\u001b[49m\u001b[43m,\u001b[49m\u001b[43m \u001b[49m\u001b[43max\u001b[49m\u001b[43m,\u001b[49m\u001b[43m \u001b[49m\u001b[43mpairs\u001b[49m\u001b[43m,\u001b[49m\u001b[43m \u001b[49m\u001b[43mplot\u001b[49m\u001b[43m,\u001b[49m\u001b[43m \u001b[49m\u001b[43mdata\u001b[49m\u001b[43m,\u001b[49m\n\u001b[1;32m    107\u001b[0m \u001b[43m                                      \u001b[49m\u001b[43mx\u001b[49m\u001b[43m,\u001b[49m\u001b[43m \u001b[49m\u001b[43my\u001b[49m\u001b[43m,\u001b[49m\u001b[43m \u001b[49m\u001b[43mhue\u001b[49m\u001b[43m,\u001b[49m\u001b[43m \u001b[49m\u001b[43morder\u001b[49m\u001b[43m,\u001b[49m\u001b[43m \u001b[49m\u001b[43mhue_order\u001b[49m\u001b[43m,\u001b[49m\n\u001b[1;32m    108\u001b[0m \u001b[43m                                      \u001b[49m\u001b[43mverbose\u001b[49m\u001b[38;5;241;43m=\u001b[39;49m\u001b[43mverbose\u001b[49m\u001b[43m,\u001b[49m\u001b[43m \u001b[49m\u001b[38;5;241;43m*\u001b[39;49m\u001b[38;5;241;43m*\u001b[39;49m\u001b[43mplot_params\u001b[49m\u001b[43m)\u001b[49m\n\u001b[1;32m    110\u001b[0m \u001b[38;5;28mself\u001b[39m\u001b[38;5;241m.\u001b[39m_test \u001b[38;5;241m=\u001b[39m \u001b[38;5;28;01mNone\u001b[39;00m\n\u001b[1;32m    111\u001b[0m \u001b[38;5;28mself\u001b[39m\u001b[38;5;241m.\u001b[39mperform_stat_test \u001b[38;5;241m=\u001b[39m \u001b[38;5;28;01mNone\u001b[39;00m\n",
      "File \u001b[0;32m~/opt/anaconda3/lib/python3.9/site-packages/statannotations/Annotator.py:776\u001b[0m, in \u001b[0;36mAnnotator._get_plotter\u001b[0;34m(engine, *args, **kwargs)\u001b[0m\n\u001b[1;32m    774\u001b[0m \u001b[38;5;28;01mif\u001b[39;00m engine_plotter \u001b[38;5;129;01mis\u001b[39;00m \u001b[38;5;28;01mNone\u001b[39;00m:\n\u001b[1;32m    775\u001b[0m     \u001b[38;5;28;01mraise\u001b[39;00m \u001b[38;5;167;01mNotImplementedError\u001b[39;00m(\u001b[38;5;124mf\u001b[39m\u001b[38;5;124m\"\u001b[39m\u001b[38;5;132;01m{\u001b[39;00mengine\u001b[38;5;132;01m}\u001b[39;00m\u001b[38;5;124m engine not implemented.\u001b[39m\u001b[38;5;124m\"\u001b[39m)\n\u001b[0;32m--> 776\u001b[0m \u001b[38;5;28;01mreturn\u001b[39;00m \u001b[43mengine_plotter\u001b[49m\u001b[43m(\u001b[49m\u001b[38;5;241;43m*\u001b[39;49m\u001b[43margs\u001b[49m\u001b[43m,\u001b[49m\u001b[43m \u001b[49m\u001b[38;5;241;43m*\u001b[39;49m\u001b[38;5;241;43m*\u001b[39;49m\u001b[43mkwargs\u001b[49m\u001b[43m)\u001b[49m\n",
      "File \u001b[0;32m~/opt/anaconda3/lib/python3.9/site-packages/statannotations/_Plotter.py:82\u001b[0m, in \u001b[0;36m_SeabornPlotter.__init__\u001b[0;34m(self, ax, pairs, plot, data, x, y, hue, order, hue_order, verbose, **plot_params)\u001b[0m\n\u001b[1;32m     78\u001b[0m \u001b[38;5;28;01mdef\u001b[39;00m \u001b[38;5;21m__init__\u001b[39m(\u001b[38;5;28mself\u001b[39m, ax, pairs, plot\u001b[38;5;241m=\u001b[39m\u001b[38;5;124m'\u001b[39m\u001b[38;5;124mboxplot\u001b[39m\u001b[38;5;124m'\u001b[39m, data\u001b[38;5;241m=\u001b[39m\u001b[38;5;28;01mNone\u001b[39;00m, x\u001b[38;5;241m=\u001b[39m\u001b[38;5;28;01mNone\u001b[39;00m,\n\u001b[1;32m     79\u001b[0m              y\u001b[38;5;241m=\u001b[39m\u001b[38;5;28;01mNone\u001b[39;00m, hue\u001b[38;5;241m=\u001b[39m\u001b[38;5;28;01mNone\u001b[39;00m, order\u001b[38;5;241m=\u001b[39m\u001b[38;5;28;01mNone\u001b[39;00m, hue_order\u001b[38;5;241m=\u001b[39m\u001b[38;5;28;01mNone\u001b[39;00m, verbose\u001b[38;5;241m=\u001b[39m\u001b[38;5;28;01mFalse\u001b[39;00m,\n\u001b[1;32m     80\u001b[0m              \u001b[38;5;241m*\u001b[39m\u001b[38;5;241m*\u001b[39mplot_params):\n\u001b[0;32m---> 82\u001b[0m     \u001b[43m_Plotter\u001b[49m\u001b[38;5;241;43m.\u001b[39;49m\u001b[38;5;21;43m__init__\u001b[39;49m\u001b[43m(\u001b[49m\u001b[38;5;28;43mself\u001b[39;49m\u001b[43m,\u001b[49m\u001b[43m \u001b[49m\u001b[43max\u001b[49m\u001b[43m,\u001b[49m\u001b[43m \u001b[49m\u001b[43mpairs\u001b[49m\u001b[43m,\u001b[49m\u001b[43m \u001b[49m\u001b[43mdata\u001b[49m\u001b[43m,\u001b[49m\u001b[43m \u001b[49m\u001b[43mx\u001b[49m\u001b[43m,\u001b[49m\u001b[43m \u001b[49m\u001b[43my\u001b[49m\u001b[43m,\u001b[49m\u001b[43m \u001b[49m\u001b[43mhue\u001b[49m\u001b[43m,\u001b[49m\u001b[43m \u001b[49m\u001b[43morder\u001b[49m\u001b[43m,\u001b[49m\u001b[43m \u001b[49m\u001b[43mhue_order\u001b[49m\u001b[43m,\u001b[49m\n\u001b[1;32m     83\u001b[0m \u001b[43m                      \u001b[49m\u001b[43mverbose\u001b[49m\u001b[43m,\u001b[49m\u001b[43m \u001b[49m\u001b[38;5;241;43m*\u001b[39;49m\u001b[38;5;241;43m*\u001b[39;49m\u001b[43mplot_params\u001b[49m\u001b[43m)\u001b[49m\n\u001b[1;32m     85\u001b[0m     \u001b[38;5;28mself\u001b[39m\u001b[38;5;241m.\u001b[39mcheck_plot_is_implemented(plot)\n\u001b[1;32m     86\u001b[0m     \u001b[38;5;28mself\u001b[39m\u001b[38;5;241m.\u001b[39mplot \u001b[38;5;241m=\u001b[39m plot\n",
      "File \u001b[0;32m~/opt/anaconda3/lib/python3.9/site-packages/statannotations/_Plotter.py:28\u001b[0m, in \u001b[0;36m_Plotter.__init__\u001b[0;34m(self, ax, pairs, data, x, y, hue, order, hue_order, verbose, **plot_params)\u001b[0m\n\u001b[1;32m     26\u001b[0m group_coord \u001b[38;5;241m=\u001b[39m y \u001b[38;5;28;01mif\u001b[39;00m plot_params\u001b[38;5;241m.\u001b[39mget(\u001b[38;5;124m\"\u001b[39m\u001b[38;5;124morient\u001b[39m\u001b[38;5;124m\"\u001b[39m) \u001b[38;5;241m==\u001b[39m \u001b[38;5;124m\"\u001b[39m\u001b[38;5;124mh\u001b[39m\u001b[38;5;124m\"\u001b[39m \u001b[38;5;28;01melse\u001b[39;00m x\n\u001b[1;32m     27\u001b[0m check_order_in_data(data, group_coord, order)\n\u001b[0;32m---> 28\u001b[0m \u001b[43mcheck_pairs_in_data\u001b[49m\u001b[43m(\u001b[49m\u001b[43mpairs\u001b[49m\u001b[43m,\u001b[49m\u001b[43m \u001b[49m\u001b[43mdata\u001b[49m\u001b[43m,\u001b[49m\u001b[43m \u001b[49m\u001b[43mgroup_coord\u001b[49m\u001b[43m,\u001b[49m\u001b[43m \u001b[49m\u001b[43mhue\u001b[49m\u001b[43m,\u001b[49m\u001b[43m \u001b[49m\u001b[43mhue_order\u001b[49m\u001b[43m)\u001b[49m\n\u001b[1;32m     29\u001b[0m \u001b[38;5;28mself\u001b[39m\u001b[38;5;241m.\u001b[39mpairs \u001b[38;5;241m=\u001b[39m pairs\n\u001b[1;32m     30\u001b[0m \u001b[38;5;28mself\u001b[39m\u001b[38;5;241m.\u001b[39m_struct_pairs \u001b[38;5;241m=\u001b[39m \u001b[38;5;28;01mNone\u001b[39;00m\n",
      "File \u001b[0;32m~/opt/anaconda3/lib/python3.9/site-packages/statannotations/utils.py:132\u001b[0m, in \u001b[0;36mcheck_pairs_in_data\u001b[0;34m(pairs, data, coord, hue, hue_order)\u001b[0m\n\u001b[1;32m    130\u001b[0m     _check_pairs_in_data_no_hue(pairs, data, coord)\n\u001b[1;32m    131\u001b[0m \u001b[38;5;28;01melse\u001b[39;00m:\n\u001b[0;32m--> 132\u001b[0m     hue_values \u001b[38;5;241m=\u001b[39m \u001b[43m_check_pairs_in_data_with_hue\u001b[49m\u001b[43m(\u001b[49m\u001b[43mpairs\u001b[49m\u001b[43m,\u001b[49m\u001b[43m \u001b[49m\u001b[43mdata\u001b[49m\u001b[43m,\u001b[49m\u001b[43m \u001b[49m\u001b[43mcoord\u001b[49m\u001b[43m,\u001b[49m\u001b[43m \u001b[49m\u001b[43mhue\u001b[49m\u001b[43m)\u001b[49m\n\u001b[1;32m    133\u001b[0m     _check_hue_order_in_data(hue, hue_values, hue_order)\n",
      "File \u001b[0;32m~/opt/anaconda3/lib/python3.9/site-packages/statannotations/utils.py:98\u001b[0m, in \u001b[0;36m_check_pairs_in_data_with_hue\u001b[0;34m(pairs, data, group_coord, hue)\u001b[0m\n\u001b[1;32m     96\u001b[0m \u001b[38;5;28;01mfor\u001b[39;00m group_value, hue_value \u001b[38;5;129;01min\u001b[39;00m itertools\u001b[38;5;241m.\u001b[39mchain(itertools\u001b[38;5;241m.\u001b[39mchain(\u001b[38;5;241m*\u001b[39mpairs)):\n\u001b[1;32m     97\u001b[0m     \u001b[38;5;28;01mif\u001b[39;00m group_value \u001b[38;5;129;01mnot\u001b[39;00m \u001b[38;5;129;01min\u001b[39;00m seen_group_values \u001b[38;5;129;01mand\u001b[39;00m group_value \u001b[38;5;129;01mnot\u001b[39;00m \u001b[38;5;129;01min\u001b[39;00m x_values:\n\u001b[0;32m---> 98\u001b[0m         \u001b[38;5;28;01mraise\u001b[39;00m \u001b[38;5;167;01mValueError\u001b[39;00m(\n\u001b[1;32m     99\u001b[0m             \u001b[38;5;124mf\u001b[39m\u001b[38;5;124m\"\u001b[39m\u001b[38;5;124mMissing group value `\u001b[39m\u001b[38;5;132;01m{\u001b[39;00mgroup_value\u001b[38;5;132;01m}\u001b[39;00m\u001b[38;5;124m` in \u001b[39m\u001b[38;5;132;01m{\u001b[39;00mgroup_coord\u001b[38;5;132;01m}\u001b[39;00m\u001b[38;5;124m\"\u001b[39m\n\u001b[1;32m    100\u001b[0m             \u001b[38;5;124mf\u001b[39m\u001b[38;5;124m\"\u001b[39m\u001b[38;5;124m (specified in `pairs`)\u001b[39m\u001b[38;5;124m\"\u001b[39m)\n\u001b[1;32m    101\u001b[0m     seen_group_values\u001b[38;5;241m.\u001b[39madd(group_value)\n\u001b[1;32m    103\u001b[0m     \u001b[38;5;28;01mif\u001b[39;00m hue_value \u001b[38;5;129;01mnot\u001b[39;00m \u001b[38;5;129;01min\u001b[39;00m hue_values:\n",
      "\u001b[0;31mValueError\u001b[0m: Missing group value `Skin` in tissue_type (specified in `pairs`)"
     ]
    },
    {
     "data": {
      "image/png": "[encoded data removed]",
      "text/plain": [
       "<Figure size 1080x1080 with 1 Axes>"
      ]
     },
     "metadata": {
      "needs_background": "light"
     },
     "output_type": "display_data"
    }
   ],
   "source": [
    "print(kDel['tissue_type'].unique())\n",
    "print(lDel['tissue_type'].unique())\n",
    "graphSVTissue(kDel, lDel, kicsTissueList)\n"
   ]
  },
  {
   "cell_type": "markdown",
   "id": "97df4259",
   "metadata": {},
   "source": [
    "## DUP"
   ]
  },
  {
   "cell_type": "code",
   "execution_count": 27,
   "id": "e35245ad",
   "metadata": {},
   "outputs": [
    {
     "name": "stdout",
     "output_type": "stream",
     "text": [
      "['CNS' 'Colon' 'Bone' 'Blood' 'Thyroid' 'Soft Tissue' 'Breast' 'Adrenal'\n",
      " 'Skin']\n"
     ]
    },
    {
     "ename": "TypeError",
     "evalue": "graphSVTissue() missing 1 required positional argument: 'listTissue'",
     "output_type": "error",
     "traceback": [
      "\u001b[0;31m---------------------------------------------------------------------------\u001b[0m",
      "\u001b[0;31mTypeError\u001b[0m                                 Traceback (most recent call last)",
      "Input \u001b[0;32mIn [27]\u001b[0m, in \u001b[0;36m<cell line: 2>\u001b[0;34m()\u001b[0m\n\u001b[1;32m      1\u001b[0m \u001b[38;5;28mprint\u001b[39m(kicsTissueList)\n\u001b[0;32m----> 2\u001b[0m \u001b[43mgraphSVTissue\u001b[49m\u001b[43m(\u001b[49m\u001b[43mkDup\u001b[49m\u001b[43m,\u001b[49m\u001b[43m \u001b[49m\u001b[43mlDup\u001b[49m\u001b[43m)\u001b[49m\n",
      "\u001b[0;31mTypeError\u001b[0m: graphSVTissue() missing 1 required positional argument: 'listTissue'"
     ]
    }
   ],
   "source": [
    "print(kicsTissueList)\n",
    "graphSVTissue(kDup, lDup)\n"
   ]
  },
  {
   "cell_type": "markdown",
   "id": "c38b37de",
   "metadata": {},
   "source": [
    "## INV"
   ]
  },
  {
   "cell_type": "code",
   "execution_count": null,
   "id": "3ed2cb7d",
   "metadata": {},
   "outputs": [],
   "source": [
    "graphSVTissue(kInv, lInv, kicsTissueList)"
   ]
  },
  {
   "cell_type": "code",
   "execution_count": null,
   "id": "eb8baa5f",
   "metadata": {},
   "outputs": [],
   "source": [
    "\"\"\"\n",
    "rare variants first\n",
    "LFS vs Kics for Diagnosis type\n",
    "LFS vs unaffected\n",
    "\"\"\"\n",
    "\n"
   ]
  },
  {
   "cell_type": "code",
   "execution_count": null,
   "id": "718ac75e",
   "metadata": {},
   "outputs": [],
   "source": []
  }
 ],
 "metadata": {
  "kernelspec": {
   "display_name": "Python 3 (ipykernel)",
   "language": "python",
   "name": "python3"
  },
  "language_info": {
   "codemirror_mode": {
    "name": "ipython",
    "version": 3
   },
   "file_extension": ".py",
   "mimetype": "text/x-python",
   "name": "python",
   "nbconvert_exporter": "python",
   "pygments_lexer": "ipython3",
   "version": "3.9.12"
  }
 },
 "nbformat": 4,
 "nbformat_minor": 5
}
