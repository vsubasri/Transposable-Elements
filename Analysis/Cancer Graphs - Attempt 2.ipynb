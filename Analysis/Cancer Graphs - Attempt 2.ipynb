{
 "cells": [
  {
   "cell_type": "code",
   "execution_count": 1,
   "id": "e300e261",
   "metadata": {},
   "outputs": [],
   "source": [
    "import pandas as pd\n",
    "import os\n",
    "import numpy as np\n",
    "from scipy.stats import mannwhitneyu\n",
    "import seaborn as sns\n",
    "from matplotlib import pyplot as plt\n",
    "import re\n",
    "import warnings\n",
    "warnings.filterwarnings('ignore') #supresses warnings for now\n",
    "#warnings.filterwarnings(action='once') #shows warnings once\n",
    "from statannotations.Annotator import Annotator\n",
    "\n",
    "\n",
    "dataFilePath = os.path.join(os.getcwd(),'Data')\n",
    "\n",
    "kicsSVdf = pd.read_csv(os.path.join(dataFilePath,'kics_structural_variations.txt'), sep = '\\t', header = 0)\n",
    "#kicsTEdf = pd.read_csv(os.path.join(dataFilePath,'kics_transposable_elements.txt'), sep = '\\t', header = 0)\n",
    "lfsSVdf = pd.read_csv(os.path.join(dataFilePath,'lfs_structural_variations.txt'), sep = '\\t', header = 0)\n",
    "#lfsTEdf = pd.read_csv(os.path.join(dataFilePath,'lfs_transposable_elements.txt'), sep = '\\t', header = 0)\n",
    "lfsClinicdf = pd.read_csv(os.path.join(dataFilePath,'lfs_clinical_main.tsv'), sep = '\\t', header = 0)\n",
    "kicsClinicdf = pd.read_csv(os.path.join(dataFilePath,'kics_clinical_edited.csv'), encoding='latin-1')"
   ]
  },
  {
   "cell_type": "code",
   "execution_count": 2,
   "id": "994cc03f",
   "metadata": {},
   "outputs": [],
   "source": [
    "\"\"\"\n",
    "full filter and rare\n",
    "\"\"\"\n",
    "\n",
    "kicsSVdf = kicsSVdf.loc[(kicsSVdf['AnnotSV type'] == 'full')] #& (kicsSVdf['GD_AF'] < 0.01) & (kicsSVdf['GD_AF'] >=0)]\n",
    "lfsSVdf = lfsSVdf.loc[(lfsSVdf['AnnotSV type'] == 'full')] #& (lfsSVdf['GD_AF'] < 0.01) & (lfsSVdf['GD_AF'] >=0)]\n",
    "\n",
    "kicsSVdf['SV chrom'] = kicsSVdf['SV chrom'].astype(str)\n",
    "lfsSVdf['SV chrom'] = lfsSVdf['SV chrom'].astype(str)\n",
    "\n",
    "kicsSVdf['sample_id'] = kicsSVdf['sample_id'].astype(str)\n",
    "lfsSVdf['sample_id'] = lfsSVdf['sample_id'].astype(str)\n",
    "\n",
    "kicsSVdf['sample_id'] = kicsSVdf['sample_id'].str.replace(\" \", \"\")\n",
    "lfsSVdf['sample_id'] = lfsSVdf['sample_id'].str.replace(\" \", \"\")\n",
    "\n",
    "#kicsSVnum = kicsSVF['sample_id'].count()\n",
    "#lfsSVnum = lfsSVF['sample_id'].count()\n"
   ]
  },
  {
   "cell_type": "code",
   "execution_count": 3,
   "id": "3bf0c43d",
   "metadata": {},
   "outputs": [],
   "source": [
    "\"\"\"\n",
    "Kics clinic df cleaning\n",
    "\"\"\"\n",
    "#listValSearch = ['291775', '298313', '315666', '320118', '18_1907']\n",
    "listValSearch = ['63', '83', '156', '171', '219', '120', '141', '232']\n",
    "# searched for kID of 63, 83, 156, 171, 219\n",
    "# kID 120 141 and 232 do not have any matches...\n",
    "\n",
    "kicsClinicdf['KiCS ID'] = kicsClinicdf['KiCS ID'].astype(str)\n",
    "kicsClinicdf['KiCS ID'] = kicsClinicdf['KiCS ID'].str.replace(\" \", \"\")\n",
    "\n",
    "for i in listValSearch:\n",
    "    kicsClinicdf.drop(kicsClinicdf[kicsClinicdf['KiCS ID']==i].index, inplace = True)\n",
    "\n",
    "#these two lines are causing us to go from 140->90 ish samples    \n",
    "kicsClinicdf.drop(kicsClinicdf.loc[kicsClinicdf['tissue_type']=='?'].index, inplace=True)\n",
    "kicsClinicdf.drop(kicsClinicdf.loc[pd.isna(kicsClinicdf['lfs_cancer_type_diagnosis'])].index, inplace=True)\n",
    "\n",
    "\n",
    "# # intial tissue types and diagnosis types\n",
    "# kUniqueTissue = kicsClinicdf['tissue_type'].unique()\n",
    "# kUniqueDiag = kicsClinicdf['lfs_cancer_type_diagnosis'].unique()\n",
    "\n",
    "# print(kUniqueTissue)\n",
    "# print(kUniqueDiag)"
   ]
  },
  {
   "cell_type": "code",
   "execution_count": 4,
   "id": "b26c62f7",
   "metadata": {},
   "outputs": [],
   "source": [
    "\"\"\"\n",
    "lfs clinic df cleaning\n",
    "\"\"\"\n",
    "lfsClinicdf['sample'] = lfsClinicdf['sample'].astype(str)\n",
    "lfsClinicdf['sample'] = lfsClinicdf['sample'].str.replace(\" \", \"\")\n",
    "\n",
    "for i in listValSearch:\n",
    "    lfsClinicdf.drop(lfsClinicdf[lfsClinicdf['sample']==i].index, inplace = True)\n",
    "    \n",
    "\n",
    "#print(lfsClinicdf[lfsClinicdf['tissue_type']=='CNS']) #more than 1 patient\n",
    "    \n",
    "lfsClinicdf.drop(lfsClinicdf.loc[lfsClinicdf['tissue_type']=='?'].index, inplace=True)\n",
    "lfsClinicdf.drop(lfsClinicdf.loc[pd.isna(lfsClinicdf['cancer_diagnosis'])].index, inplace=True)\n",
    "\n",
    "\n",
    "#print(lfsClinicdf[lfsClinicdf['tissue_type']=='CNS']) #more than 1 patient\n",
    "\n",
    "# lUniqueTissue = lfsClinicdf['tissue_type'].unique()\n",
    "# lUniqueDiag = lfsClinicdf['cancer_diagnosis'].unique()\n",
    "\n",
    "# print(lUniqueTissue)\n",
    "# print(lUniqueDiag)"
   ]
  },
  {
   "cell_type": "code",
   "execution_count": 5,
   "id": "9870ea04",
   "metadata": {},
   "outputs": [],
   "source": [
    "def BoxGraphMulti(df: pd.DataFrame, xCol, yCol, compCol, orderList):\n",
    "    plt.rcParams[\"figure.figsize\"] = [15, 15]\n",
    "    ax = sns.boxplot(data=df, x=xCol, y=yCol, hue=compCol, medianprops={\"linewidth\": 4, 'color':'black'})\n",
    "    ax.set_xticks(ax.get_xticks(), ax.get_xticklabels(), rotation=45, ha='right')\n",
    "    \n",
    "    #add statistical test here\n",
    "    listPairing = []\n",
    "    #pairings for multi correction\n",
    "    for i in orderList:\n",
    "        p1 = (i, 'kics')\n",
    "        p2 = (i, 'lfs')\n",
    "        p = (p1,p2)\n",
    "        listPairing.append(p)\n",
    "        \n",
    "    annot = Annotator(ax, listPairing, data=df, x=xCol, y=yCol, hue=compCol)\n",
    "    annot.configure(test='Mann-Whitney', text_format='star', loc='outside', verbose=2)\n",
    "    annot.apply_and_annotate()\n",
    "\n",
    "    plt.show()\n",
    "\n",
    "    plt.show()"
   ]
  },
  {
   "cell_type": "code",
   "execution_count": 6,
   "id": "cc20c848",
   "metadata": {},
   "outputs": [],
   "source": [
    "def BarGraphNormalized(label1: str, label2:str, df: pd.DataFrame, col1: str, col2: str,\n",
    "                        xTitle: str, yTitle: str, divisor1: float, divisor2: float,\n",
    "                        labels: list):\n",
    "    #'kics', 'lfs', invdf, 'kchrom', 'lchrom', 'Chromosomes','Frequency','Graph2-INV',kicsSVnum, lfsSVnum\n",
    "\n",
    "    title = label1 + \" \" + label2\n",
    "    count1 = df[col1].value_counts()\n",
    "    count2 = df[col2].value_counts()\n",
    "    \n",
    "    x_axis = np.arange(len(labels))\n",
    "        \n",
    "    for i in labels:\n",
    "        if (not(i in count1)):\n",
    "            add = pd.Series([0], index=[i])\n",
    "            count1 = count1.append(add)\n",
    "        if (not(i in count2)):\n",
    "            add = pd.Series([0], index=[i])\n",
    "            count2 = count2.append(add)\n",
    "            \n",
    "    \n",
    "    plt.bar(x_axis - 0.2, [count1[a]/divisor1 for a in labels], 0.4, label = label1)\n",
    "    plt.bar(x_axis + 0.2, [count2[a]/divisor2 for a in labels], 0.4, label = label2)\n",
    "\n",
    "    plt.tick_params(labelrotation=45)\n",
    "    plt.xticks(x_axis, labels)\n",
    "    plt.xlabel(xTitle)\n",
    "    plt.ylabel(yTitle)\n",
    "    plt.title(title)\n",
    "    plt.legend()\n",
    "    plt.show()\n"
   ]
  },
  {
   "cell_type": "code",
   "execution_count": 7,
   "id": "0182f7f2",
   "metadata": {},
   "outputs": [],
   "source": [
    "\"\"\"\n",
    "SV clean up\n",
    "\"\"\"\n",
    "def maxGDAFFilter(colName: str, df: pd.DataFrame)->pd.DataFrame:\n",
    "    temp = df[colName].str.contains(pat=',')\n",
    "    Index = list(np.where(temp == True)[0])\n",
    "    temp = df[colName].iloc[Index]\n",
    "    tempIndex = temp.index\n",
    "\n",
    "    for i in tempIndex:\n",
    "        tempList = temp[i].split(',')\n",
    "        tempList = [float(a) for a in tempList]\n",
    "        maxTemp = max(tempList)\n",
    "        df[colName][i] = maxTemp\n",
    "\n",
    "    df[colName] = df[colName].astype('float64')\n",
    "    \n",
    "    return df\n",
    "    \n",
    "kicsSVdf = maxGDAFFilter('GD_AF', kicsSVdf)\n",
    "lfsSVdf = maxGDAFFilter('GD_AF', lfsSVdf)\n",
    "\n",
    "listValSearch = ['291775', '298313', '315666', '320118', '18_1907']\n",
    "# searched for kID of 63, 83, 156, 171, 219\n",
    "# kID 120 141 and 232 do not have any matches...\n",
    "#what would make this that much better is if it was a dict. Computationally less heavy?\n",
    "\n",
    "for i in listValSearch: \n",
    "    kicsSVdf.drop(kicsSVdf[kicsSVdf['sample_id'].str.contains(i)==True].index, inplace = True)"
   ]
  },
  {
   "cell_type": "code",
   "execution_count": 8,
   "id": "96435b43",
   "metadata": {},
   "outputs": [],
   "source": [
    "\"\"\"\n",
    "kics matching between SV and Clinical\n",
    "\"\"\"\n",
    "\n",
    "def kIdAbbv(clinicDf, svDf, clinicCol, svCol):\n",
    "    \n",
    "    clinicDf.drop(clinicDf[clinicDf[clinicCol]=='Not applicable'].index, inplace = True)\n",
    "    \n",
    "    svDf[svCol] = svDf[svCol].astype(str)\n",
    "    clinicDf[clinicCol] = clinicDf[clinicCol].astype(str)\n",
    "    svDf[svCol] =  svDf[svCol].str.replace(\" \", \"\")\n",
    "    clinicDf[clinicCol] = clinicDf[clinicCol].str.replace(\" \", \"\")\n",
    "    \n",
    "    list1 = svDf[svCol].unique()\n",
    "    list2 = clinicDf[clinicCol].unique()\n",
    "    \n",
    "    svDict = dict()\n",
    "    clinicDict = dict()\n",
    "    \n",
    "    for i in range (len(list1)):\n",
    "        tempList = re.findall('\\d{3,}', list1[i])\n",
    "\n",
    "        #if empty, take the second one\n",
    "        if not tempList:\n",
    "            tempList = re.findall('\\d+', list1[i])\n",
    "            svDict[list1[i]] = tempList[1]\n",
    "\n",
    "        #if not empty \n",
    "        else:\n",
    "            svDict[list1[i]] = tempList[0]\n",
    "\n",
    "\n",
    "    for i in range (len(list2)):    \n",
    "        tempList = re.findall('\\d{3,}', list2[i])\n",
    "    \n",
    "        #if empty, take the second one\n",
    "        if not tempList:\n",
    "            tempList = re.findall('\\d+', list2[i])\n",
    "            clinicDict[list2[i]] = tempList[1]\n",
    "\n",
    "        #if not empty \n",
    "        else:\n",
    "            clinicDict[list2[i]] = tempList[0]\n",
    "    \n",
    "\n",
    "    clinicDf['abbv_id'] = clinicDf[clinicCol].map(clinicDict)\n",
    "    svDf['abbv_id'] = svDf[svCol].map(svDict)\n",
    "    \n",
    "    print(len(svDf[svCol].unique()))\n",
    "#     print(svDf[svCol].unique())\n",
    "    \n",
    "    df = pd.merge(svDf[[svCol,'SV type','abbv_id']],                   \n",
    "                     clinicDf[[clinicCol, 'tumour_class','tissue_type','lfs_cancer_type_diagnosis', 'abbv_id']],\n",
    "                     left_on = 'abbv_id', \n",
    "                     right_on = 'abbv_id', \n",
    "                     how='inner')\n",
    "\n",
    "    return df"
   ]
  },
  {
   "cell_type": "code",
   "execution_count": 9,
   "id": "46c02915",
   "metadata": {},
   "outputs": [
    {
     "name": "stdout",
     "output_type": "stream",
     "text": [
      "187\n",
      "93\n"
     ]
    }
   ],
   "source": [
    "bigKDf = kIdAbbv(kicsClinicdf, kicsSVdf, 'CCP germline', 'sample_id',)\n",
    "print(len(bigKDf['abbv_id'].unique()))\n",
    "# print(bigKDf['sample_id'].unique())\n",
    "# print(len(kicsSVdf['sample_id'].unique()))\n",
    "# print(len(kicsClinicdf['CCP germline'].unique()))\n",
    "#prints out how many we had before the id matching and how many we have left after the id matching"
   ]
  },
  {
   "cell_type": "code",
   "execution_count": 10,
   "id": "195a66e6",
   "metadata": {},
   "outputs": [
    {
     "name": "stdout",
     "output_type": "stream",
     "text": [
      "      sample_id SV type abbv_id CCP germline       tumour_class tissue_type  \\\n",
      "0        313703     DEL  313703       313703         CNS TUMORS         CNS   \n",
      "1        313703     DEL  313703       313703         CNS TUMORS         CNS   \n",
      "2        313703     DEL  313703       313703         CNS TUMORS         CNS   \n",
      "3        313703     DEL  313703       313703         CNS TUMORS         CNS   \n",
      "4        313703     DEL  313703       313703         CNS TUMORS         CNS   \n",
      "...         ...     ...     ...          ...                ...         ...   \n",
      "27585    292600     INV  292600       292600  LEUKEMIA/LYMPHOMA       Blood   \n",
      "27586    292600     DEL  292600       292600  LEUKEMIA/LYMPHOMA       Blood   \n",
      "27587    292600     DEL  292600       292600  LEUKEMIA/LYMPHOMA       Blood   \n",
      "27588    292600     DEL  292600       292600  LEUKEMIA/LYMPHOMA       Blood   \n",
      "27589    292600     DEL  292600       292600  LEUKEMIA/LYMPHOMA       Blood   \n",
      "\n",
      "      lfs_cancer_type_diagnosis  \n",
      "0                        Glioma  \n",
      "1                        Glioma  \n",
      "2                        Glioma  \n",
      "3                        Glioma  \n",
      "4                        Glioma  \n",
      "...                         ...  \n",
      "27585                     B-ALL  \n",
      "27586                     B-ALL  \n",
      "27587                     B-ALL  \n",
      "27588                     B-ALL  \n",
      "27589                     B-ALL  \n",
      "\n",
      "[27590 rows x 7 columns]\n"
     ]
    }
   ],
   "source": [
    "print(bigKDf)"
   ]
  },
  {
   "cell_type": "code",
   "execution_count": 11,
   "id": "c988dc4b",
   "metadata": {},
   "outputs": [
    {
     "name": "stdout",
     "output_type": "stream",
     "text": [
      "93\n"
     ]
    }
   ],
   "source": [
    "\"\"\"Filter the ? and the nan\"\"\"\n",
    "#print(bigKDf['tissue_type'].unique())\n",
    "bigKDf.drop(bigKDf.loc[bigKDf['tissue_type']=='?'].index, inplace=True)\n",
    "\n",
    "#bigKDfDiag.drop(bigKDf.loc[pd.isna(bigKDf['lfs_cancer_type_diagnosis'])].index, inplace=True)\n",
    "print(len(bigKDf['abbv_id'].unique()))\n",
    "#print(kicsClinicdf['tissue_type'].value_counts())"
   ]
  },
  {
   "cell_type": "code",
   "execution_count": 12,
   "id": "dc28547e",
   "metadata": {},
   "outputs": [],
   "source": [
    "lfsSVdf['sample_id'] = lfsSVdf['sample_id'].astype(str)\n",
    "lfsClinicdf['sample'] = lfsClinicdf['sample'].astype(str)"
   ]
  },
  {
   "cell_type": "code",
   "execution_count": 13,
   "id": "f5403dba",
   "metadata": {},
   "outputs": [
    {
     "name": "stdout",
     "output_type": "stream",
     "text": [
      "65\n",
      "['4257' 'SJACT008_G' '808' '2085' '1087' '1092' '3805' '3136A' '4033'\n",
      " '2447' '353' '3806' '4854' '1478' '2262' '4028' '2957' '3688' '93' '1357'\n",
      " '2565' '4329' '4535_S1' '3298A' '2349' '2446' '3473' '5567' '3273' '3885'\n",
      " '3432' '1843' '3763' '3503' 'PD13489b' '2463' '2760A' '3643' 'SJACT001_G'\n",
      " '4227' '5537' '3367' 'SJACT002_G' '2815' '5536' '3634' '1476'\n",
      " 'SJACT005_G' '3425' '3365' '2413' 'SJACT007_G' '3356' '3361' '3687_2'\n",
      " '3332' '94' '1355' '2784' '2465' '3319' 'PD7195b' '3334' '352' '2765']\n",
      "460\n"
     ]
    }
   ],
   "source": [
    "print(len(lfsSVdf['sample_id'].unique())) #only 65 to begin with D:\n",
    "print(lfsSVdf['sample_id'].unique())\n",
    "\n",
    "print(len(lfsClinicdf['sample'].unique()))"
   ]
  },
  {
   "cell_type": "code",
   "execution_count": 14,
   "id": "af144e5c",
   "metadata": {},
   "outputs": [],
   "source": [
    "\"\"\"\n",
    "Can directly map the two\n",
    "Apply on Filtered Prelim Graphs\n",
    "\"\"\"\n",
    "\n",
    "bigLDf = pd.merge(lfsSVdf[['sample_id','SV chrom','GD_AF', 'SV type']],\n",
    "                 lfsClinicdf[['sample','tissue_type','cancer_diagnosis']],\n",
    "                 left_on = 'sample_id',\n",
    "                 right_on = 'sample',\n",
    "                 how='inner')"
   ]
  },
  {
   "cell_type": "code",
   "execution_count": 15,
   "id": "266a6c20",
   "metadata": {},
   "outputs": [
    {
     "name": "stdout",
     "output_type": "stream",
     "text": [
      "['Unaffected', 'Other', 'Thyroid', 'Sarcoma', 'Ovaries', 'US']\n",
      "['AL', 'AMKL', 'LMS', 'Other', 'CSA', 'Meningioma', 'Sarcoma', 'MFS', 'Undifferentiated sarcoma', 'PNET', 'MFH', 'AML', 'Unaffected', 'ALL', 'T-NHL', 'AA', 'Thyroid', 'B-ALL', 'CPC', 'MPAL', 'T-LL', 'Ovaries', 'High Grade Sarcoma']\n"
     ]
    }
   ],
   "source": [
    "\"\"\"\n",
    "Difference between the unique tissues and unique diagnosis in kics vs lfs\n",
    "\"\"\"\n",
    "\n",
    "tissueDiff = list(set(bigLDf['tissue_type']).symmetric_difference(set(bigKDf['tissue_type'])))\n",
    "diagDiff = list(set(bigLDf['cancer_diagnosis']).symmetric_difference(set(bigKDf['lfs_cancer_type_diagnosis'])))\n",
    "\n",
    "print(tissueDiff)\n",
    "print(diagDiff)"
   ]
  },
  {
   "cell_type": "code",
   "execution_count": 16,
   "id": "32412213",
   "metadata": {},
   "outputs": [
    {
     "name": "stdout",
     "output_type": "stream",
     "text": [
      "['CNS' 'Soft Tissue' 'Blood' 'Bone' 'Other' 'US' 'Thyroid' 'Breast'\n",
      " 'Colon' 'Adrenal' 'Ovaries']\n",
      "['Breast' 'Adrenal' 'Soft Tissue' 'Unaffected' 'Blood' 'Bone' 'Sarcoma'\n",
      " 'CNS' 'Colon']\n"
     ]
    }
   ],
   "source": [
    "\"\"\"\n",
    "Drop the rows that are in the diff\n",
    "\"\"\"\n",
    "\n",
    "####YOU DROPPED TOO MANY, Don't drop any\n",
    "#bigLDf.drop(bigLDf[bigLDf['tissue_type'].isin(tissueDiff)].index, inplace = True)\n",
    "#bigKDf.drop(bigKDf[bigKDf['tissue_type'].isin(tissueDiff)].index, inplace = True)\n",
    "\n",
    "#bigLDf.drop(bigLDf[bigLDf['cancer_diagnosis'].isin(diagDiff)].index, inplace = True)\n",
    "#bigKDf.drop(bigKDf[bigKDf['lfs_cancer_type_diagnosis'].isin(diagDiff)].index, inplace = True)\n",
    "\n",
    "#print(bigKDf.columns)\n",
    "#print(bigLDf.columns)\n",
    "\n",
    "\n",
    "kicsTissue = pd.DataFrame(data = {'tissue_type':bigKDf['tissue_type'], 'id':bigKDf['sample_id']})\n",
    "kicsT = kicsTissue\n",
    "\n",
    "lfsTissue = pd.DataFrame(data = {'tissue_type':bigLDf['tissue_type'], 'id':bigLDf['sample']})\n",
    "lfsT = lfsTissue\n",
    "\n",
    "groupedTissue = pd.DataFrame(data={'ktissue':kicsTissue['tissue_type'], 'ltissue':lfsTissue['tissue_type']})\n",
    "\n",
    "lfsDiag = pd.DataFrame(data = {'diag':bigLDf['cancer_diagnosis'], 'id':bigLDf['sample']})\n",
    "lfsD = lfsDiag\n",
    "kicsDiag = pd.DataFrame(data = {'diag':bigKDf['lfs_cancer_type_diagnosis'], 'id':bigKDf['sample_id']})\n",
    "kicsD = kicsDiag\n",
    "\n",
    "groupedDiag = pd.DataFrame(data={'kdiag':kicsDiag['diag'],'ldiag': lfsDiag['diag']})\n",
    "\n",
    "kicsTidList = kicsDiag['id'].unique()\n",
    "lfsTidList = lfsDiag['id'].unique()\n",
    "kicsDiagList = kicsDiag['diag'].unique()\n",
    "\n",
    "kicsIdList = kicsTissue['id'].unique()\n",
    "kicsTissueList = kicsTissue['tissue_type'].unique()\n",
    "lfsIdList = lfsTissue['id'].unique()\n",
    "\n",
    "print(kicsTissue['tissue_type'].unique())\n",
    "print(lfsTissue['tissue_type'].unique())\n"
   ]
  },
  {
   "cell_type": "markdown",
   "id": "c4e8df75",
   "metadata": {},
   "source": [
    "# Diagnosis Type"
   ]
  },
  {
   "cell_type": "code",
   "execution_count": 17,
   "id": "1f6229a3",
   "metadata": {
    "scrolled": true
   },
   "outputs": [
    {
     "data": {
      "image/png": "[encoded data removed]",
      "text/plain": [
       "<Figure size 432x288 with 1 Axes>"
      ]
     },
     "metadata": {
      "needs_background": "light"
     },
     "output_type": "display_data"
    },
    {
     "data": {
      "image/png": "[encoded data removed]",
      "text/plain": [
       "<Figure size 432x288 with 1 Axes>"
      ]
     },
     "metadata": {
      "needs_background": "light"
     },
     "output_type": "display_data"
    }
   ],
   "source": [
    "BarGraphNormalized('kics', 'lfs', groupedDiag, 'kdiag', 'ldiag', 'diagnosis_type', 'Frequency', 1.0,1.0, kicsDiagList)\n",
    "    \n",
    "BarGraphNormalized('kics', 'lfs', groupedDiag, 'kdiag', 'ldiag', 'diagnosis_type','Frequency/num',\n",
    "                   len(kicsTidList), len(lfsTidList), kicsDiagList)"
   ]
  },
  {
   "cell_type": "markdown",
   "id": "e3d2783c",
   "metadata": {},
   "source": [
    "# Tissue Type"
   ]
  },
  {
   "cell_type": "code",
   "execution_count": 18,
   "id": "4650d07b",
   "metadata": {},
   "outputs": [
    {
     "data": {
      "image/png": "[encoded data removed]",
      "text/plain": [
       "<Figure size 432x288 with 1 Axes>"
      ]
     },
     "metadata": {
      "needs_background": "light"
     },
     "output_type": "display_data"
    },
    {
     "data": {
      "image/png": "[encoded data removed]",
      "text/plain": [
       "<Figure size 432x288 with 1 Axes>"
      ]
     },
     "metadata": {
      "needs_background": "light"
     },
     "output_type": "display_data"
    }
   ],
   "source": [
    "BarGraphNormalized('kics', 'lfs', groupedTissue, 'ktissue', 'ltissue', 'tissue_type','Frequency',\n",
    "                   1.0,1.0, kicsTissueList)\n",
    "\n",
    "BarGraphNormalized('kics', 'lfs', groupedTissue, 'ktissue', 'ltissue', 'tissue_type', 'Frequency/num',\n",
    "                  len(kicsIdList), len(lfsIdList), kicsTissueList)"
   ]
  },
  {
   "cell_type": "code",
   "execution_count": 19,
   "id": "5b8b0772",
   "metadata": {},
   "outputs": [],
   "source": [
    "kDel = bigKDf.loc[bigKDf['SV type'] == 'DEL']\n",
    "kDup = bigKDf.loc[bigKDf['SV type'] == 'DUP']\n",
    "kInv = bigKDf.loc[bigKDf['SV type'] == 'INV']\n",
    "\n",
    "lDel = bigLDf.loc[bigLDf['SV type'] == 'DEL']\n",
    "lDup = bigLDf.loc[bigLDf['SV type'] == 'DUP']\n",
    "lInv = bigLDf.loc[bigLDf['SV type'] == 'INV']\n",
    "\n",
    "#print(kDel.head(30))"
   ]
  },
  {
   "cell_type": "code",
   "execution_count": 20,
   "id": "6ba6a64e",
   "metadata": {},
   "outputs": [],
   "source": [
    "def graphSVTissue(kdf, ldf, listTissue):\n",
    "    kdf = kdf.drop(['sample_id', 'SV type'], axis=1)\n",
    "    kdf = kdf.groupby(['abbv_id']).value_counts()\n",
    "    kdf = kdf.to_frame().reset_index()\n",
    "\n",
    "    kdf.rename(columns = {0:'freq'}, inplace = True)\n",
    "    kdf = pd.melt(kdf, id_vars=['tissue_type'], value_vars=['freq'])\n",
    "    kdf['dataset'] = 'kics'\n",
    "\n",
    "    ldf = ldf.drop(['SV chrom', 'GD_AF',\n",
    "                        'SV type'], axis=1)\n",
    "    ldf = ldf.groupby(['sample_id']).value_counts()\n",
    "    ldf = ldf.to_frame().reset_index()\n",
    "    ldf.rename(columns = {0:'freq'}, inplace = True)\n",
    "\n",
    "    ldf = pd.melt(ldf, id_vars=['tissue_type'], value_vars=['freq'])\n",
    "    ldf['dataset'] = 'lfs'\n",
    "\n",
    "    mergedDf = pd.concat([ldf, kdf])\n",
    "    \n",
    "    BoxGraphMulti(mergedDf,'tissue_type', 'value', 'dataset', listTissue) "
   ]
  },
  {
   "cell_type": "markdown",
   "id": "08b241f3",
   "metadata": {},
   "source": [
    "## DEL"
   ]
  },
  {
   "cell_type": "code",
   "execution_count": 21,
   "id": "c944cae8",
   "metadata": {},
   "outputs": [
    {
     "name": "stdout",
     "output_type": "stream",
     "text": [
      "['CNS' 'Soft Tissue' 'Blood' 'Bone' 'Other' 'US' 'Thyroid' 'Breast'\n",
      " 'Colon' 'Adrenal' 'Ovaries']\n",
      "['Breast' 'Adrenal' 'Soft Tissue' 'Unaffected' 'Blood' 'Bone' 'Sarcoma'\n",
      " 'CNS' 'Colon']\n"
     ]
    },
    {
     "ename": "ValueError",
     "evalue": "`x` and `y` must be of nonzero size.",
     "output_type": "error",
     "traceback": [
      "\u001b[0;31m---------------------------------------------------------------------------\u001b[0m",
      "\u001b[0;31mValueError\u001b[0m                                Traceback (most recent call last)",
      "Input \u001b[0;32mIn [21]\u001b[0m, in \u001b[0;36m<cell line: 3>\u001b[0;34m()\u001b[0m\n\u001b[1;32m      1\u001b[0m \u001b[38;5;28mprint\u001b[39m(kDel[\u001b[38;5;124m'\u001b[39m\u001b[38;5;124mtissue_type\u001b[39m\u001b[38;5;124m'\u001b[39m]\u001b[38;5;241m.\u001b[39munique())\n\u001b[1;32m      2\u001b[0m \u001b[38;5;28mprint\u001b[39m(lDel[\u001b[38;5;124m'\u001b[39m\u001b[38;5;124mtissue_type\u001b[39m\u001b[38;5;124m'\u001b[39m]\u001b[38;5;241m.\u001b[39munique())\n\u001b[0;32m----> 3\u001b[0m \u001b[43mgraphSVTissue\u001b[49m\u001b[43m(\u001b[49m\u001b[43mkDel\u001b[49m\u001b[43m,\u001b[49m\u001b[43m \u001b[49m\u001b[43mlDel\u001b[49m\u001b[43m,\u001b[49m\u001b[43m \u001b[49m\u001b[43mkicsTissueList\u001b[49m\u001b[43m)\u001b[49m\n",
      "Input \u001b[0;32mIn [20]\u001b[0m, in \u001b[0;36mgraphSVTissue\u001b[0;34m(kdf, ldf, listTissue)\u001b[0m\n\u001b[1;32m     17\u001b[0m ldf[\u001b[38;5;124m'\u001b[39m\u001b[38;5;124mdataset\u001b[39m\u001b[38;5;124m'\u001b[39m] \u001b[38;5;241m=\u001b[39m \u001b[38;5;124m'\u001b[39m\u001b[38;5;124mlfs\u001b[39m\u001b[38;5;124m'\u001b[39m\n\u001b[1;32m     19\u001b[0m mergedDf \u001b[38;5;241m=\u001b[39m pd\u001b[38;5;241m.\u001b[39mconcat([ldf, kdf])\n\u001b[0;32m---> 21\u001b[0m \u001b[43mBoxGraphMulti\u001b[49m\u001b[43m(\u001b[49m\u001b[43mmergedDf\u001b[49m\u001b[43m,\u001b[49m\u001b[38;5;124;43m'\u001b[39;49m\u001b[38;5;124;43mtissue_type\u001b[39;49m\u001b[38;5;124;43m'\u001b[39;49m\u001b[43m,\u001b[49m\u001b[43m \u001b[49m\u001b[38;5;124;43m'\u001b[39;49m\u001b[38;5;124;43mvalue\u001b[39;49m\u001b[38;5;124;43m'\u001b[39;49m\u001b[43m,\u001b[49m\u001b[43m \u001b[49m\u001b[38;5;124;43m'\u001b[39;49m\u001b[38;5;124;43mdataset\u001b[39;49m\u001b[38;5;124;43m'\u001b[39;49m\u001b[43m,\u001b[49m\u001b[43m \u001b[49m\u001b[43mlistTissue\u001b[49m\u001b[43m)\u001b[49m\n",
      "Input \u001b[0;32mIn [5]\u001b[0m, in \u001b[0;36mBoxGraphMulti\u001b[0;34m(df, xCol, yCol, compCol, orderList)\u001b[0m\n\u001b[1;32m     15\u001b[0m annot \u001b[38;5;241m=\u001b[39m Annotator(ax, listPairing, data\u001b[38;5;241m=\u001b[39mdf, x\u001b[38;5;241m=\u001b[39mxCol, y\u001b[38;5;241m=\u001b[39myCol, hue\u001b[38;5;241m=\u001b[39mcompCol)\n\u001b[1;32m     16\u001b[0m annot\u001b[38;5;241m.\u001b[39mconfigure(test\u001b[38;5;241m=\u001b[39m\u001b[38;5;124m'\u001b[39m\u001b[38;5;124mMann-Whitney\u001b[39m\u001b[38;5;124m'\u001b[39m, text_format\u001b[38;5;241m=\u001b[39m\u001b[38;5;124m'\u001b[39m\u001b[38;5;124mstar\u001b[39m\u001b[38;5;124m'\u001b[39m, loc\u001b[38;5;241m=\u001b[39m\u001b[38;5;124m'\u001b[39m\u001b[38;5;124moutside\u001b[39m\u001b[38;5;124m'\u001b[39m, verbose\u001b[38;5;241m=\u001b[39m\u001b[38;5;241m2\u001b[39m)\n\u001b[0;32m---> 17\u001b[0m \u001b[43mannot\u001b[49m\u001b[38;5;241;43m.\u001b[39;49m\u001b[43mapply_and_annotate\u001b[49m\u001b[43m(\u001b[49m\u001b[43m)\u001b[49m\n\u001b[1;32m     19\u001b[0m plt\u001b[38;5;241m.\u001b[39mshow()\n\u001b[1;32m     21\u001b[0m plt\u001b[38;5;241m.\u001b[39mshow()\n",
      "File \u001b[0;32m~/opt/anaconda3/lib/python3.9/site-packages/statannotations/Annotator.py:246\u001b[0m, in \u001b[0;36mAnnotator.apply_and_annotate\u001b[0;34m(self)\u001b[0m\n\u001b[1;32m    243\u001b[0m \u001b[38;5;28;01mdef\u001b[39;00m \u001b[38;5;21mapply_and_annotate\u001b[39m(\u001b[38;5;28mself\u001b[39m):\n\u001b[1;32m    244\u001b[0m     \u001b[38;5;124;03m\"\"\"Applies a configured statistical test and annotates the plot\"\"\"\u001b[39;00m\n\u001b[0;32m--> 246\u001b[0m     \u001b[38;5;28;43mself\u001b[39;49m\u001b[38;5;241;43m.\u001b[39;49m\u001b[43mapply_test\u001b[49m\u001b[43m(\u001b[49m\u001b[43m)\u001b[49m\n\u001b[1;32m    247\u001b[0m     \u001b[38;5;28;01mreturn\u001b[39;00m \u001b[38;5;28mself\u001b[39m\u001b[38;5;241m.\u001b[39mannotate()\n",
      "File \u001b[0;32m~/opt/anaconda3/lib/python3.9/site-packages/statannotations/Annotator.py:320\u001b[0m, in \u001b[0;36mAnnotator.apply_test\u001b[0;34m(self, num_comparisons, **stats_params)\u001b[0m\n\u001b[1;32m    316\u001b[0m     stats_params \u001b[38;5;241m=\u001b[39m \u001b[38;5;28mdict\u001b[39m()\n\u001b[1;32m    318\u001b[0m \u001b[38;5;28mself\u001b[39m\u001b[38;5;241m.\u001b[39mperform_stat_test \u001b[38;5;241m=\u001b[39m \u001b[38;5;28;01mTrue\u001b[39;00m\n\u001b[0;32m--> 320\u001b[0m \u001b[38;5;28mself\u001b[39m\u001b[38;5;241m.\u001b[39mannotations \u001b[38;5;241m=\u001b[39m \u001b[38;5;28;43mself\u001b[39;49m\u001b[38;5;241;43m.\u001b[39;49m\u001b[43m_get_results\u001b[49m\u001b[43m(\u001b[49m\u001b[43mnum_comparisons\u001b[49m\u001b[38;5;241;43m=\u001b[39;49m\u001b[43mnum_comparisons\u001b[49m\u001b[43m,\u001b[49m\n\u001b[1;32m    321\u001b[0m \u001b[43m                                     \u001b[49m\u001b[38;5;241;43m*\u001b[39;49m\u001b[38;5;241;43m*\u001b[39;49m\u001b[43mstats_params\u001b[49m\u001b[43m)\u001b[49m\n\u001b[1;32m    322\u001b[0m \u001b[38;5;28mself\u001b[39m\u001b[38;5;241m.\u001b[39m_deactivate_configured_warning()\n\u001b[1;32m    324\u001b[0m \u001b[38;5;28;01mreturn\u001b[39;00m \u001b[38;5;28mself\u001b[39m\n",
      "File \u001b[0;32m~/opt/anaconda3/lib/python3.9/site-packages/statannotations/Annotator.py:477\u001b[0m, in \u001b[0;36mAnnotator._get_results\u001b[0;34m(self, num_comparisons, pvalues, **stats_params)\u001b[0m\n\u001b[1;32m    474\u001b[0m group2 \u001b[38;5;241m=\u001b[39m group_struct2[\u001b[38;5;124m'\u001b[39m\u001b[38;5;124mgroup\u001b[39m\u001b[38;5;124m'\u001b[39m]\n\u001b[1;32m    476\u001b[0m \u001b[38;5;28;01mif\u001b[39;00m \u001b[38;5;28mself\u001b[39m\u001b[38;5;241m.\u001b[39mperform_stat_test:\n\u001b[0;32m--> 477\u001b[0m     result \u001b[38;5;241m=\u001b[39m \u001b[38;5;28;43mself\u001b[39;49m\u001b[38;5;241;43m.\u001b[39;49m\u001b[43m_get_stat_result_from_test\u001b[49m\u001b[43m(\u001b[49m\n\u001b[1;32m    478\u001b[0m \u001b[43m        \u001b[49m\u001b[43mgroup_struct1\u001b[49m\u001b[43m,\u001b[49m\u001b[43m \u001b[49m\u001b[43mgroup_struct2\u001b[49m\u001b[43m,\u001b[49m\u001b[43m \u001b[49m\u001b[43mnum_comparisons\u001b[49m\u001b[43m,\u001b[49m\n\u001b[1;32m    479\u001b[0m \u001b[43m        \u001b[49m\u001b[38;5;241;43m*\u001b[39;49m\u001b[38;5;241;43m*\u001b[39;49m\u001b[43mstats_params\u001b[49m\u001b[43m)\u001b[49m\n\u001b[1;32m    480\u001b[0m \u001b[38;5;28;01melse\u001b[39;00m:\n\u001b[1;32m    481\u001b[0m     result \u001b[38;5;241m=\u001b[39m \u001b[38;5;28mself\u001b[39m\u001b[38;5;241m.\u001b[39m_get_custom_results(group_struct1, pvalues)\n",
      "File \u001b[0;32m~/opt/anaconda3/lib/python3.9/site-packages/statannotations/Annotator.py:615\u001b[0m, in \u001b[0;36mAnnotator._get_stat_result_from_test\u001b[0;34m(self, group_struct1, group_struct2, num_comparisons, **stats_params)\u001b[0m\n\u001b[1;32m    611\u001b[0m \u001b[38;5;28;01mdef\u001b[39;00m \u001b[38;5;21m_get_stat_result_from_test\u001b[39m(\u001b[38;5;28mself\u001b[39m, group_struct1, group_struct2,\n\u001b[1;32m    612\u001b[0m                                num_comparisons,\n\u001b[1;32m    613\u001b[0m                                \u001b[38;5;241m*\u001b[39m\u001b[38;5;241m*\u001b[39mstats_params) \u001b[38;5;241m-\u001b[39m\u001b[38;5;241m>\u001b[39m StatResult:\n\u001b[0;32m--> 615\u001b[0m     result \u001b[38;5;241m=\u001b[39m \u001b[43mapply_test\u001b[49m\u001b[43m(\u001b[49m\n\u001b[1;32m    616\u001b[0m \u001b[43m        \u001b[49m\u001b[43mgroup_struct1\u001b[49m\u001b[43m[\u001b[49m\u001b[38;5;124;43m'\u001b[39;49m\u001b[38;5;124;43mgroup_data\u001b[39;49m\u001b[38;5;124;43m'\u001b[39;49m\u001b[43m]\u001b[49m\u001b[43m,\u001b[49m\n\u001b[1;32m    617\u001b[0m \u001b[43m        \u001b[49m\u001b[43mgroup_struct2\u001b[49m\u001b[43m[\u001b[49m\u001b[38;5;124;43m'\u001b[39;49m\u001b[38;5;124;43mgroup_data\u001b[39;49m\u001b[38;5;124;43m'\u001b[39;49m\u001b[43m]\u001b[49m\u001b[43m,\u001b[49m\n\u001b[1;32m    618\u001b[0m \u001b[43m        \u001b[49m\u001b[38;5;28;43mself\u001b[39;49m\u001b[38;5;241;43m.\u001b[39;49m\u001b[43mtest\u001b[49m\u001b[43m,\u001b[49m\n\u001b[1;32m    619\u001b[0m \u001b[43m        \u001b[49m\u001b[43mcomparisons_correction\u001b[49m\u001b[38;5;241;43m=\u001b[39;49m\u001b[38;5;28;43mself\u001b[39;49m\u001b[38;5;241;43m.\u001b[39;49m\u001b[43mcomparisons_correction\u001b[49m\u001b[43m,\u001b[49m\n\u001b[1;32m    620\u001b[0m \u001b[43m        \u001b[49m\u001b[43mnum_comparisons\u001b[49m\u001b[38;5;241;43m=\u001b[39;49m\u001b[43mnum_comparisons\u001b[49m\u001b[43m,\u001b[49m\n\u001b[1;32m    621\u001b[0m \u001b[43m        \u001b[49m\u001b[43malpha\u001b[49m\u001b[38;5;241;43m=\u001b[39;49m\u001b[38;5;28;43mself\u001b[39;49m\u001b[38;5;241;43m.\u001b[39;49m\u001b[43malpha\u001b[49m\u001b[43m,\u001b[49m\n\u001b[1;32m    622\u001b[0m \u001b[43m        \u001b[49m\u001b[38;5;241;43m*\u001b[39;49m\u001b[38;5;241;43m*\u001b[39;49m\u001b[43mstats_params\u001b[49m\n\u001b[1;32m    623\u001b[0m \u001b[43m    \u001b[49m\u001b[43m)\u001b[49m\n\u001b[1;32m    625\u001b[0m     \u001b[38;5;28;01mreturn\u001b[39;00m result\n",
      "File \u001b[0;32m~/opt/anaconda3/lib/python3.9/site-packages/statannotations/stats/test.py:74\u001b[0m, in \u001b[0;36mapply_test\u001b[0;34m(group_data1, group_data2, test, comparisons_correction, num_comparisons, alpha, **stats_params)\u001b[0m\n\u001b[1;32m     71\u001b[0m     \u001b[38;5;28;01melse\u001b[39;00m:\n\u001b[1;32m     72\u001b[0m         get_stat_result \u001b[38;5;241m=\u001b[39m StatTest\u001b[38;5;241m.\u001b[39mfrom_library(test)\n\u001b[0;32m---> 74\u001b[0m     result \u001b[38;5;241m=\u001b[39m \u001b[43mget_stat_result\u001b[49m\u001b[43m(\u001b[49m\n\u001b[1;32m     75\u001b[0m \u001b[43m        \u001b[49m\u001b[43mgroup_data1\u001b[49m\u001b[43m,\u001b[49m\u001b[43m \u001b[49m\u001b[43mgroup_data2\u001b[49m\u001b[43m,\u001b[49m\u001b[43m \u001b[49m\u001b[43malpha\u001b[49m\u001b[38;5;241;43m=\u001b[39;49m\u001b[43malpha\u001b[49m\u001b[43m,\u001b[49m\u001b[43m \u001b[49m\u001b[38;5;241;43m*\u001b[39;49m\u001b[38;5;241;43m*\u001b[39;49m\u001b[43mstats_params\u001b[49m\u001b[43m)\u001b[49m\n\u001b[1;32m     77\u001b[0m \u001b[38;5;66;03m# Optionally, run multiple comparisons correction that can independently be\u001b[39;00m\n\u001b[1;32m     78\u001b[0m \u001b[38;5;66;03m# applied to each pval\u001b[39;00m\n\u001b[1;32m     79\u001b[0m \u001b[38;5;28;01mif\u001b[39;00m comparisons_correction \u001b[38;5;129;01mis\u001b[39;00m \u001b[38;5;129;01mnot\u001b[39;00m \u001b[38;5;28;01mNone\u001b[39;00m \u001b[38;5;129;01mand\u001b[39;00m comparisons_correction\u001b[38;5;241m.\u001b[39mtype \u001b[38;5;241m==\u001b[39m \u001b[38;5;241m0\u001b[39m:\n",
      "File \u001b[0;32m~/opt/anaconda3/lib/python3.9/site-packages/statannotations/stats/StatTest.py:77\u001b[0m, in \u001b[0;36mStatTest.__call__\u001b[0;34m(self, group_data1, group_data2, alpha, **stat_params)\u001b[0m\n\u001b[1;32m     74\u001b[0m \u001b[38;5;28;01mdef\u001b[39;00m \u001b[38;5;21m__call__\u001b[39m(\u001b[38;5;28mself\u001b[39m, group_data1, group_data2, alpha\u001b[38;5;241m=\u001b[39m\u001b[38;5;241m0.05\u001b[39m,\n\u001b[1;32m     75\u001b[0m              \u001b[38;5;241m*\u001b[39m\u001b[38;5;241m*\u001b[39mstat_params):\n\u001b[0;32m---> 77\u001b[0m     stat, pval \u001b[38;5;241m=\u001b[39m \u001b[38;5;28;43mself\u001b[39;49m\u001b[38;5;241;43m.\u001b[39;49m\u001b[43m_func\u001b[49m\u001b[43m(\u001b[49m\u001b[43mgroup_data1\u001b[49m\u001b[43m,\u001b[49m\u001b[43m \u001b[49m\u001b[43mgroup_data2\u001b[49m\u001b[43m,\u001b[49m\u001b[43m \u001b[49m\u001b[38;5;241;43m*\u001b[39;49m\u001b[38;5;28;43mself\u001b[39;49m\u001b[38;5;241;43m.\u001b[39;49m\u001b[43margs\u001b[49m\u001b[43m,\u001b[49m\n\u001b[1;32m     78\u001b[0m \u001b[43m                            \u001b[49m\u001b[38;5;241;43m*\u001b[39;49m\u001b[38;5;241;43m*\u001b[39;49m\u001b[43m{\u001b[49m\u001b[38;5;241;43m*\u001b[39;49m\u001b[38;5;241;43m*\u001b[39;49m\u001b[38;5;28;43mself\u001b[39;49m\u001b[38;5;241;43m.\u001b[39;49m\u001b[43mkwargs\u001b[49m\u001b[43m,\u001b[49m\u001b[43m \u001b[49m\u001b[38;5;241;43m*\u001b[39;49m\u001b[38;5;241;43m*\u001b[39;49m\u001b[43mstat_params\u001b[49m\u001b[43m}\u001b[49m\u001b[43m)\u001b[49m[:\u001b[38;5;241m2\u001b[39m]\n\u001b[1;32m     80\u001b[0m     \u001b[38;5;28;01mreturn\u001b[39;00m StatResult(\u001b[38;5;28mself\u001b[39m\u001b[38;5;241m.\u001b[39m_test_long_name, \u001b[38;5;28mself\u001b[39m\u001b[38;5;241m.\u001b[39m_test_short_name,\n\u001b[1;32m     81\u001b[0m                       \u001b[38;5;28mself\u001b[39m\u001b[38;5;241m.\u001b[39m_stat_name, stat, pval, alpha\u001b[38;5;241m=\u001b[39malpha)\n",
      "File \u001b[0;32m~/opt/anaconda3/lib/python3.9/site-packages/scipy/stats/_mannwhitneyu.py:391\u001b[0m, in \u001b[0;36mmannwhitneyu\u001b[0;34m(x, y, use_continuity, alternative, axis, method)\u001b[0m\n\u001b[1;32m    181\u001b[0m \u001b[38;5;28;01mdef\u001b[39;00m \u001b[38;5;21mmannwhitneyu\u001b[39m(x, y, use_continuity\u001b[38;5;241m=\u001b[39m\u001b[38;5;28;01mTrue\u001b[39;00m, alternative\u001b[38;5;241m=\u001b[39m\u001b[38;5;124m\"\u001b[39m\u001b[38;5;124mtwo-sided\u001b[39m\u001b[38;5;124m\"\u001b[39m,\n\u001b[1;32m    182\u001b[0m                  axis\u001b[38;5;241m=\u001b[39m\u001b[38;5;241m0\u001b[39m, method\u001b[38;5;241m=\u001b[39m\u001b[38;5;124m\"\u001b[39m\u001b[38;5;124mauto\u001b[39m\u001b[38;5;124m\"\u001b[39m):\n\u001b[1;32m    183\u001b[0m     \u001b[38;5;124mr\u001b[39m\u001b[38;5;124;03m'''Perform the Mann-Whitney U rank test on two independent samples.\u001b[39;00m\n\u001b[1;32m    184\u001b[0m \n\u001b[1;32m    185\u001b[0m \u001b[38;5;124;03m    The Mann-Whitney U test is a nonparametric test of the null hypothesis\u001b[39;00m\n\u001b[0;32m   (...)\u001b[0m\n\u001b[1;32m    387\u001b[0m \n\u001b[1;32m    388\u001b[0m \u001b[38;5;124;03m    '''\u001b[39;00m\n\u001b[1;32m    390\u001b[0m     x, y, use_continuity, alternative, axis_int, method \u001b[38;5;241m=\u001b[39m (\n\u001b[0;32m--> 391\u001b[0m         \u001b[43m_mwu_input_validation\u001b[49m\u001b[43m(\u001b[49m\u001b[43mx\u001b[49m\u001b[43m,\u001b[49m\u001b[43m \u001b[49m\u001b[43my\u001b[49m\u001b[43m,\u001b[49m\u001b[43m \u001b[49m\u001b[43muse_continuity\u001b[49m\u001b[43m,\u001b[49m\u001b[43m \u001b[49m\u001b[43malternative\u001b[49m\u001b[43m,\u001b[49m\u001b[43m \u001b[49m\u001b[43maxis\u001b[49m\u001b[43m,\u001b[49m\u001b[43m \u001b[49m\u001b[43mmethod\u001b[49m\u001b[43m)\u001b[49m)\n\u001b[1;32m    393\u001b[0m     x, y, xy \u001b[38;5;241m=\u001b[39m _broadcast_concatenate(x, y, axis)\n\u001b[1;32m    395\u001b[0m     n1, n2 \u001b[38;5;241m=\u001b[39m x\u001b[38;5;241m.\u001b[39mshape[\u001b[38;5;241m-\u001b[39m\u001b[38;5;241m1\u001b[39m], y\u001b[38;5;241m.\u001b[39mshape[\u001b[38;5;241m-\u001b[39m\u001b[38;5;241m1\u001b[39m]\n",
      "File \u001b[0;32m~/opt/anaconda3/lib/python3.9/site-packages/scipy/stats/_mannwhitneyu.py:135\u001b[0m, in \u001b[0;36m_mwu_input_validation\u001b[0;34m(x, y, use_continuity, alternative, axis, method)\u001b[0m\n\u001b[1;32m    133\u001b[0m     \u001b[38;5;28;01mraise\u001b[39;00m \u001b[38;5;167;01mValueError\u001b[39;00m(\u001b[38;5;124m'\u001b[39m\u001b[38;5;124m`x` and `y` must not contain NaNs.\u001b[39m\u001b[38;5;124m'\u001b[39m)\n\u001b[1;32m    134\u001b[0m \u001b[38;5;28;01mif\u001b[39;00m np\u001b[38;5;241m.\u001b[39msize(x) \u001b[38;5;241m==\u001b[39m \u001b[38;5;241m0\u001b[39m \u001b[38;5;129;01mor\u001b[39;00m np\u001b[38;5;241m.\u001b[39msize(y) \u001b[38;5;241m==\u001b[39m \u001b[38;5;241m0\u001b[39m:\n\u001b[0;32m--> 135\u001b[0m     \u001b[38;5;28;01mraise\u001b[39;00m \u001b[38;5;167;01mValueError\u001b[39;00m(\u001b[38;5;124m'\u001b[39m\u001b[38;5;124m`x` and `y` must be of nonzero size.\u001b[39m\u001b[38;5;124m'\u001b[39m)\n\u001b[1;32m    137\u001b[0m bools \u001b[38;5;241m=\u001b[39m {\u001b[38;5;28;01mTrue\u001b[39;00m, \u001b[38;5;28;01mFalse\u001b[39;00m}\n\u001b[1;32m    138\u001b[0m \u001b[38;5;28;01mif\u001b[39;00m use_continuity \u001b[38;5;129;01mnot\u001b[39;00m \u001b[38;5;129;01min\u001b[39;00m bools:\n",
      "\u001b[0;31mValueError\u001b[0m: `x` and `y` must be of nonzero size."
     ]
    },
    {
     "data": {
      "image/png": "[encoded data removed]",
      "text/plain": [
       "<Figure size 1080x1080 with 1 Axes>"
      ]
     },
     "metadata": {
      "needs_background": "light"
     },
     "output_type": "display_data"
    }
   ],
   "source": [
    "print(kDel['tissue_type'].unique())\n",
    "print(lDel['tissue_type'].unique())\n",
    "graphSVTissue(kDel, lDel, kicsTissueList)"
   ]
  },
  {
   "cell_type": "markdown",
   "id": "89cd1cfe",
   "metadata": {},
   "source": [
    "## DUP"
   ]
  },
  {
   "cell_type": "code",
   "execution_count": null,
   "id": "f81d840d",
   "metadata": {},
   "outputs": [],
   "source": [
    "print(kicsTissueList)\n",
    "graphSVTissue(kDup, lDup, kicsTissueList)\n"
   ]
  },
  {
   "cell_type": "markdown",
   "id": "56cd8bf9",
   "metadata": {},
   "source": [
    "## INV"
   ]
  },
  {
   "cell_type": "code",
   "execution_count": null,
   "id": "8bfca32a",
   "metadata": {},
   "outputs": [],
   "source": [
    "graphSVTissue(kInv, lInv, kicsTissueList)"
   ]
  },
  {
   "cell_type": "code",
   "execution_count": null,
   "id": "001c81bc",
   "metadata": {},
   "outputs": [],
   "source": [
    "\"\"\"\n",
    "rare variants first\n",
    "LFS vs Kics for Diagnosis type\n",
    "LFS vs unaffected\n",
    "\"\"\"\n",
    "\n"
   ]
  },
  {
   "cell_type": "code",
   "execution_count": null,
   "id": "9806d307",
   "metadata": {},
   "outputs": [],
   "source": []
  }
 ],
 "metadata": {
  "kernelspec": {
   "display_name": "Python 3 (ipykernel)",
   "language": "python",
   "name": "python3"
  },
  "language_info": {
   "codemirror_mode": {
    "name": "ipython",
    "version": 3
   },
   "file_extension": ".py",
   "mimetype": "text/x-python",
   "name": "python",
   "nbconvert_exporter": "python",
   "pygments_lexer": "ipython3",
   "version": "3.9.12"
  }
 },
 "nbformat": 4,
 "nbformat_minor": 5
}
