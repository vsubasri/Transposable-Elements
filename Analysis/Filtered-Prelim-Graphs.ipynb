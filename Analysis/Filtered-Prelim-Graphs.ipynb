{
 "cells": [
  {
   "cell_type": "code",
   "execution_count": null,
   "id": "ff664cb5",
   "metadata": {},
   "outputs": [],
   "source": [
    "'''\n",
    "load original df\n",
    "'''\n",
    "\n",
    "import pandas as pd\n",
    "import os\n",
    "import numpy as np\n",
    "from functions import *\n",
    "from scipy.stats import mannwhitneyu\n",
    "import seaborn as sns\n",
    "from statannotations.Annotator import Annotator\n",
    "from matplotlib import pyplot as plt\n",
    "\n",
    "import warnings\n",
    "warnings.filterwarnings('ignore') #supresses warnings for now\n",
    "#warnings.filterwarnings(action='once') #shows warnings once\n",
    "\n",
    "dataFilePath = os.path.join(os.getcwd(),'Data')\n",
    "\n",
    "kicsSVdf = pd.read_csv(os.path.join(dataFilePath,'kics_structural_variations.txt'), sep = '\\t', header = 0)\n",
    "#kicsTEdf = pd.read_csv(os.path.join(dataFilePath,'kics_transposable_elements.txt'), sep = '\\t', header = 0)\n",
    "lfsSVdf = pd.read_csv(os.path.join(dataFilePath,'lfs_structural_variations.txt'), sep = '\\t', header = 0)\n",
    "#lfsTEdf = pd.read_csv(os.path.join(dataFilePath,'lfs_transposable_elements.txt'), sep = '\\t', header = 0)\n",
    "kicsClinicdf = pd.read_csv(os.path.join(dataFilePath,'kics_clinical_main.tsv'), sep = '\\t', header = 0)\n",
    "lfsClinicdf = pd.read_csv(os.path.join(dataFilePath,'lfs_clinical_main.tsv'), sep = '\\t', header = 0)\n"
   ]
  },
  {
   "cell_type": "code",
   "execution_count": null,
   "id": "82781e2c",
   "metadata": {
    "scrolled": true
   },
   "outputs": [],
   "source": [
    "\"\"\"\n",
    "filter dfs\n",
    "\"\"\"\n",
    "\n",
    "sns.set(font_scale=1.5)\n",
    "\n",
    "kicsSVdf = maxGDAFFilter('GD_AF', kicsSVdf)\n",
    "lfsSVdf = maxGDAFFilter('GD_AF', lfsSVdf)"
   ]
  },
  {
   "cell_type": "code",
   "execution_count": null,
   "id": "7fb6fe00",
   "metadata": {},
   "outputs": [],
   "source": [
    "listValSearch = ['291775', '298313', '315666', '320118', '18_1907']\n",
    "# searched for kID of 63, 83, 156, 171, 219\n",
    "# kID 120 141 and 232 do not have any matches...\n",
    "#what would make this that much better is if it was a dict. Computationally less heavy?\n",
    "\n",
    "for i in listValSearch: \n",
    "    kicsSVdf.drop(kicsSVdf[kicsSVdf['sample_id'].str.contains(i)==True].index, inplace = True)\n"
   ]
  },
  {
   "cell_type": "code",
   "execution_count": null,
   "id": "c50019ac",
   "metadata": {},
   "outputs": [],
   "source": [
    "kicsSVF = kicsSVdf.loc[(kicsSVdf['AnnotSV type'] == 'full') & (kicsSVdf['GD_AF'] < 0.01)]\n",
    "lfsSVF = lfsSVdf.loc[(lfsSVdf['AnnotSV type'] == 'full') & (lfsSVdf['GD_AF'] < 0.01)]\n",
    "\n",
    "kicsSVF['SV chrom'] = kicsSVF['SV chrom'].astype(str)\n",
    "lfsSVF['SV chrom'] = lfsSVF['SV chrom'].astype(str)\n",
    "\n",
    "kicsSVnum = kicsSVF['sample_id'].count()\n",
    "lfsSVnum = lfsSVF['sample_id'].count()\n",
    "\n",
    "\n",
    "#to improve this, multi-index would be good, that way we can have less columns\n",
    "mergedSVdf = pd.DataFrame(data = {'kics':kicsSVF['SV type'], 'kChrom':kicsSVF['SV chrom'], \n",
    "                                  'kId':kicsSVF['sample_id'], 'lId':lfsSVF['sample_id'],\n",
    "                                  'lfs':lfsSVF['SV type'], 'lChrom':lfsSVF['SV chrom']})\n"
   ]
  },
  {
   "cell_type": "code",
   "execution_count": null,
   "id": "a18a5074",
   "metadata": {},
   "outputs": [],
   "source": [
    "mergedGDAF = pd.DataFrame(data = {'kics':kicsSVF['GD_AF'],\n",
    "                                'lfs':lfsSVF['GD_AF']})\n",
    "\n",
    "mergedGDAF.replace(to_replace = [-1], value = np.nan, inplace=True)\n",
    "mergedGDAF.replace(to_replace = ['-1'], value = np.nan, inplace=True)\n",
    "\n",
    "titles = ['kics','lfs']\n",
    "columns = titles\n",
    "\n",
    "print(mergedGDAF)\n",
    "boxplotPoints(titles, columns, mergedGDAF)\n"
   ]
  },
  {
   "cell_type": "code",
   "execution_count": null,
   "id": "9a584f21",
   "metadata": {},
   "outputs": [],
   "source": [
    "\"\"\"\n",
    "1. Graph for frequency of SV types\n",
    "2. Graphs for frequency of SV types specific to chromosomes\n",
    "\n",
    "Function to graph bar graphs\n",
    "\"\"\"\n",
    "    \n",
    "xLabels = ['DEL','DUP','INV']\n",
    "uniqueLabels = ['1','2','3','4','5','6','7','8','9','10',\n",
    "                '11','12','13','14','15','16','17','18','19','20','21','22','X','Y']\n",
    "\n",
    "deldf = mergedSVdf.loc[(mergedSVdf['kics'] == 'DEL') | (mergedSVdf['lfs']=='DEL')]\n",
    "dupdf = mergedSVdf.loc[(mergedSVdf['kics'] == 'DUP') | (mergedSVdf['lfs']=='DUP')]\n",
    "invdf = mergedSVdf.loc[(mergedSVdf['kics'] == 'INV') | (mergedSVdf['lfs']=='INV')]"
   ]
  },
  {
   "cell_type": "code",
   "execution_count": null,
   "id": "602a3ca8",
   "metadata": {},
   "outputs": [],
   "source": [
    "#Overall\n",
    "BarGraphNormalized('kics', 'lfs', mergedSVdf, 'kics', 'lfs', 'Groups', 'Frequency/NumSamples', \n",
    "                   kicsSVnum, lfsSVnum, xLabels)\n",
    "\n",
    "#Deletions \n",
    "BarGraphNormalized('kics', 'lfs', deldf, 'kChrom', 'lChrom', 'Chromosomes', 'Frequency/num', \n",
    "                   kicsSVnum, lfsSVnum, uniqueLabels)\n",
    "\n",
    "#Duplicates\n",
    "BarGraphNormalized('kics', 'lfs', dupdf, 'kChrom', 'lChrom', 'Chromosomes', 'Frequency/num', \n",
    "                   kicsSVnum, lfsSVnum, uniqueLabels)\n",
    "\n",
    "#Inversions\n",
    "BarGraphNormalized('kics', 'lfs', invdf, 'kChrom', 'lChrom', 'Chromosomes', 'Frequency', \n",
    "                   kicsSVnum, lfsSVnum, uniqueLabels)"
   ]
  },
  {
   "cell_type": "code",
   "execution_count": null,
   "id": "8b78dbc0",
   "metadata": {},
   "outputs": [],
   "source": [
    "\"\"\"\n",
    "Testing group by\n",
    "\"\"\"\n",
    "#probably a better way to do this\n",
    "\n",
    "kicsSVTypedf = pd.DataFrame(data = {'kics':kicsSVF['SV type'], \n",
    "                                  'kId':kicsSVF['sample_id']})\n",
    "lfsSVTypedf = pd.DataFrame(data = {'lId':lfsSVF['sample_id'],\n",
    "                                  'lfs':lfsSVF['SV type']})\n",
    "\n",
    "\n",
    "##kics\n",
    "ktemp = kicsSVTypedf.groupby(['kId']).value_counts()\n",
    "\n",
    "##lfs\n",
    "ltemp = lfsSVTypedf.groupby(['lId']).value_counts()\n",
    "\n",
    "#get unique identifiers\n",
    "\n",
    "uniqueK = kicsSVTypedf['kId'].unique()\n",
    "uniqueL = lfsSVTypedf['lId'].unique()\n",
    "\n",
    "#probably a better way, but itterate through the series and get the data "
   ]
  },
  {
   "cell_type": "markdown",
   "id": "1d6a2a40",
   "metadata": {},
   "source": [
    "# SV Type"
   ]
  },
  {
   "cell_type": "code",
   "execution_count": null,
   "id": "32e6b3e3",
   "metadata": {},
   "outputs": [],
   "source": [
    "kDelData = makeDataSet(uniqueK, ktemp, 'DEL')\n",
    "lDelData = makeDataSet(uniqueL, ltemp, 'DEL')\n",
    "tempDelDF = makeUnequalDF(kDelData, lDelData)\n",
    "\n",
    "kDupData = makeDataSet(uniqueK, ktemp, 'DUP')\n",
    "lDupData = makeDataSet(uniqueL, ltemp, 'DUP')\n",
    "tempDupDF = makeUnequalDF(kDupData, lDupData)\n",
    "\n",
    "kInvData = makeDataSet(uniqueK, ktemp, 'INV')\n",
    "lInvData = makeDataSet(uniqueL, ltemp, 'INV')\n",
    "tempInvDF = makeUnequalDF(kInvData, lInvData)"
   ]
  },
  {
   "cell_type": "markdown",
   "id": "6f0ef26d",
   "metadata": {},
   "source": [
    "## Del "
   ]
  },
  {
   "cell_type": "code",
   "execution_count": null,
   "id": "1ddd92a6",
   "metadata": {},
   "outputs": [],
   "source": [
    "boxplotPoints(titles, columns, tempDelDF, 10, 7)"
   ]
  },
  {
   "cell_type": "markdown",
   "id": "fe8b2256",
   "metadata": {},
   "source": [
    "## Dup "
   ]
  },
  {
   "cell_type": "code",
   "execution_count": null,
   "id": "b72e7761",
   "metadata": {},
   "outputs": [],
   "source": [
    "boxplotPoints(titles, columns, tempDupDF, 10, 7)"
   ]
  },
  {
   "cell_type": "markdown",
   "id": "6a57e568",
   "metadata": {},
   "source": [
    "## Inv "
   ]
  },
  {
   "cell_type": "code",
   "execution_count": null,
   "id": "42ba62e6",
   "metadata": {},
   "outputs": [],
   "source": [
    "boxplotPoints(titles, columns, tempInvDF, 10, 7)"
   ]
  },
  {
   "cell_type": "code",
   "execution_count": null,
   "id": "28142a6b",
   "metadata": {},
   "outputs": [],
   "source": [
    "\"\"\"\n",
    "Chromosome Specific\n",
    "Cleaned up\n",
    "\"\"\" \n",
    "\n",
    "\n",
    "kicsMore = pd.DataFrame(data = {'SV':kicsSVF['SV type'], 'chrom':kicsSVF['SV chrom'], \n",
    "                                  'id':kicsSVF['sample_id']})\n",
    "lfsMore = pd.DataFrame(data = {'id':lfsSVF['sample_id'], 'chrom':lfsSVF['SV chrom'],\n",
    "                                  'SV':lfsSVF['SV type']})\n",
    "\n",
    "numBPChrom = [249250621, 243199373, 198022430, 191154276, 180915260, \n",
    "              171115067, 159138663, 146364022, 141213431, 135534747,\n",
    "              135006516, 133851895, 115169878, 107349540, 102531392,\n",
    "              90354753, 81195210, 78077248, 59128983, 63025520,\n",
    "              48129895, 51304566, 155270560, 59373566]\n",
    "\n",
    "grouping = ['id', 'SV', 'chrom']\n",
    "\n",
    "\n",
    "\n",
    "#If you have time, you should make it so that the plot can have the points showing/scattered plot\n",
    "\n"
   ]
  },
  {
   "cell_type": "code",
   "execution_count": null,
   "id": "ca7149ec",
   "metadata": {},
   "outputs": [],
   "source": [
    "\"\"\"\n",
    "Normalised and Regular Graph\n",
    "\"\"\"\n",
    "#rename things later and put into function/i but this is the statistical test T-T\n",
    "newKdf, normKdf = formatDataFrame(kicsMore, grouping, numBPChrom, uniqueK, uniqueLabels, 'DEL')\n",
    "\n",
    "newLdf, normLdf = formatDataFrame(lfsMore, grouping, numBPChrom, uniqueL, uniqueLabels, 'DEL')\n",
    "createBoxplot(newKdf, normKdf, newLdf, normLdf)\n"
   ]
  },
  {
   "cell_type": "markdown",
   "id": "3cec9b50",
   "metadata": {},
   "source": [
    "## Duplication"
   ]
  },
  {
   "cell_type": "code",
   "execution_count": null,
   "id": "7651fb3a",
   "metadata": {},
   "outputs": [],
   "source": [
    "\"\"\"\n",
    "Dup\n",
    "\"\"\"\n",
    "newKdf, normKdf = formatDataFrame(kicsMore, grouping, numBPChrom, uniqueK, uniqueLabels, 'DUP')\n",
    "newLdf, normLdf = formatDataFrame(lfsMore, grouping, numBPChrom, uniqueL, uniqueLabels, 'DUP')\n",
    "\n",
    "createBoxplot(newKdf, normKdf, newLdf, normLdf)"
   ]
  },
  {
   "cell_type": "markdown",
   "id": "d710ab1b",
   "metadata": {},
   "source": [
    "### Inversion"
   ]
  },
  {
   "cell_type": "code",
   "execution_count": null,
   "id": "815fa427",
   "metadata": {},
   "outputs": [],
   "source": [
    "\"\"\"\n",
    "INV\n",
    "\"\"\"\n",
    "\n",
    "newKdf, normKdf = formatDataFrame(kicsMore, grouping, numBPChrom, uniqueK, uniqueLabels, 'INV')\n",
    "newLdf, normLdf = formatDataFrame(lfsMore, grouping, numBPChrom, uniqueL, uniqueLabels, 'INV')\n",
    "\n",
    "createBoxplot(newKdf, normKdf, newLdf, normLdf)"
   ]
  },
  {
   "cell_type": "code",
   "execution_count": null,
   "id": "d0d0054c",
   "metadata": {},
   "outputs": [],
   "source": [
    "\"\"\" \n",
    "filter the df for CDS_length\n",
    "\"\"\"\n",
    "\n",
    "kicsSVR = kicsSVdf.loc[(kicsSVdf['AnnotSV type'] == 'split')& (kicsSVdf['GD_AF'] < 0.01) & (kicsSVdf['GD_AF'] >=0)] \n",
    "lfsSVR = lfsSVdf.loc[(lfsSVdf['AnnotSV type'] == 'split') & (lfsSVdf['GD_AF'] < 0.01) & (lfsSVdf['GD_AF'] >=0)]\n",
    "\n",
    "\n",
    "mergedCDSdf = pd.DataFrame(data = {'kics':kicsSVR['CDS length'], 'lfs':lfsSVR['CDS length']})\n",
    "boxplotPoints(titles, columns, mergedCDSdf, sizeV = 10)\n",
    "#print(mergedCDSdf.head(50)) #they look the same"
   ]
  }
 ],
 "metadata": {
  "kernelspec": {
   "display_name": "Python 3 (ipykernel)",
   "language": "python",
   "name": "python3"
  },
  "language_info": {
   "codemirror_mode": {
    "name": "ipython",
    "version": 3
   },
   "file_extension": ".py",
   "mimetype": "text/x-python",
   "name": "python",
   "nbconvert_exporter": "python",
   "pygments_lexer": "ipython3",
   "version": "3.9.12"
  }
 },
 "nbformat": 4,
 "nbformat_minor": 5
}
