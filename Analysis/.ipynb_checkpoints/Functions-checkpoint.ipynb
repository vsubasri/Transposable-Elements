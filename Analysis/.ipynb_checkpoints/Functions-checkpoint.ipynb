{
 "cells": [
  {
   "cell_type": "code",
   "execution_count": 7,
   "id": "8ac51279",
   "metadata": {},
   "outputs": [],
   "source": [
    "\"\"\"\n",
    "boxplot with points \n",
    "\"\"\"\n",
    "import pandas as pd\n",
    "\n",
    "def boxplotPoints(title:list, column:list, df: pd.DataFrame , sizeH=20.50, sizeV=17.50, col='red', trans=0.25):\n",
    "    plt.rcParams[\"figure.figsize\"] = [sizeH, sizeV]\n",
    "    plt.rcParams[\"figure.autolayout\"] = True\n",
    "    data = pd.DataFrame({\n",
    "        t: df[c] for t,c in zip(title, column)})\n",
    "    data.boxplot()\n",
    "    for i, d in enumerate(data):\n",
    "       y = data[d]\n",
    "       x = np.random.normal(i + 1, 0.04, len(y))\n",
    "       plt.scatter(x, y, color = col, alpha = trans)\n",
    "    plt.show()"
   ]
  },
  {
   "cell_type": "code",
   "execution_count": 9,
   "id": "3805b5a7",
   "metadata": {},
   "outputs": [],
   "source": [
    "\"\"\"\n",
    "\n",
    "Finding the max in the GDAF column and replacing it\n",
    "\n",
    "\"\"\"\n",
    "def maxGDAFFilter(colName: str, df: pd.DataFrame):\n",
    "    temp = df[colName].str.contains(pat=',')\n",
    "    Index = list(np.where(temp == True)[0])\n",
    "    temp = df[colName].iloc[Index]\n",
    "    tempIndex = temp.index\n",
    "\n",
    "    for i in tempIndex:\n",
    "        tempList = temp[i].split(',')\n",
    "        tempList = [float(a) for a in tempList]\n",
    "        maxTemp = max(tempList)\n",
    "        df[colName][i] = maxTemp\n",
    "\n",
    "    df[colName] = df[colName].astype('float64')"
   ]
  },
  {
   "cell_type": "code",
   "execution_count": null,
   "id": "b5aaed0d",
   "metadata": {},
   "outputs": [],
   "source": []
  }
 ],
 "metadata": {
  "kernelspec": {
   "display_name": "Python 3 (ipykernel)",
   "language": "python",
   "name": "python3"
  },
  "language_info": {
   "codemirror_mode": {
    "name": "ipython",
    "version": 3
   },
   "file_extension": ".py",
   "mimetype": "text/x-python",
   "name": "python",
   "nbconvert_exporter": "python",
   "pygments_lexer": "ipython3",
   "version": "3.9.12"
  }
 },
 "nbformat": 4,
 "nbformat_minor": 5
}
