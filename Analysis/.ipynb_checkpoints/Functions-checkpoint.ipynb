{
 "cells": [
  {
   "cell_type": "code",
   "execution_count": 7,
   "id": "9da2e770",
   "metadata": {},
   "outputs": [],
   "source": [
    "\"\"\"\n",
    "boxplot with points \n",
    "\"\"\"\n",
    "import pandas as pd\n",
    "\n",
    "def boxplotPoints(title:list, column:list, df: pd.DataFrame , sizeH=20.50, sizeV=17.50, col='red', trans=0.25):\n",
    "    plt.rcParams[\"figure.figsize\"] = [sizeH, sizeV]\n",
    "    plt.rcParams[\"figure.autolayout\"] = True\n",
    "    data = pd.DataFrame({\n",
    "        t: df[c] for t,c in zip(title, column)})\n",
    "    data.boxplot()\n",
    "    for i, d in enumerate(data):\n",
    "       y = data[d]\n",
    "       x = np.random.normal(i + 1, 0.04, len(y))\n",
    "       plt.scatter(x, y, color = col, alpha = trans)\n",
    "    plt.show()"
   ]
  },
  {
   "cell_type": "code",
   "execution_count": 9,
   "id": "7ec422e1",
   "metadata": {},
   "outputs": [],
   "source": [
    "\"\"\"\n",
    "\n",
    "Finding the max in the GDAF column and replacing it\n",
    "\n",
    "\"\"\"\n",
    "def maxGDAFFilter(colName: str, df: pd.DataFrame):\n",
    "    temp = df[colName].str.contains(pat=',')\n",
    "    Index = list(np.where(temp == True)[0])\n",
    "    temp = df[colName].iloc[Index]\n",
    "    tempIndex = temp.index\n",
    "\n",
    "    for i in tempIndex:\n",
    "        tempList = temp[i].split(',')\n",
    "        tempList = [float(a) for a in tempList]\n",
    "        maxTemp = max(tempList)\n",
    "        df[colName][i] = maxTemp\n",
    "\n",
    "    df[colName] = df[colName].astype('float64')"
   ]
  },
  {
   "cell_type": "code",
   "execution_count": 20,
   "id": "7f07e9c8",
   "metadata": {},
   "outputs": [],
   "source": [
    "\"\"\"\n",
    "\n",
    "Making Bar Graphs\n",
    "\n",
    "\"\"\"\n",
    "\n",
    "def BarGraphNormalized(label1: str, label2:str, df: pd.DataFrame, col1: str, col2: str,\n",
    "                        xTitle: str, yTitle: str, divisor1: float, divisor2: float,\n",
    "                        uniqueLabels: list):\n",
    "    #'kics', 'lfs', invdf, 'kchrom', 'lchrom', 'Chromosomes','Frequency','Graph2-INV',kicsSVnum, lfsSVnum\n",
    "\n",
    "    title = label1 + \" \" + label2\n",
    "    count1 = df[col1].value_counts()\n",
    "    count2 = df[col2].value_counts()\n",
    "    \n",
    "    x_axis = np.arrange(len(uniqueLabels))\n",
    "        \n",
    "    for i in uniqueLabels:\n",
    "        if (not(i in count1)):\n",
    "            add = pd.Series([0], index=[i])\n",
    "            count1 = count1.append(add)\n",
    "        if (not(i in count2)):\n",
    "            add = pd.Series([0], index=[i])\n",
    "            count2 = count2.append(add)\n",
    "    \n",
    "    plt.bar(x_axis - 0.2, [count1[a] for a in uniqueLabels]/divisor1, 0.4, label = label1)\n",
    "    plt.bar(x_axis + 0.2, [count2[a] for a in uniqueLabels]/divisor2, 0.4, label = label2)\n",
    "\n",
    "    plt.xticks(x_axis, uniqueLabels)\n",
    "    plt.xlabel(xTitle)\n",
    "    plt.ylabel(yTitle)\n",
    "    plt.title(title)\n",
    "    plt.legend()\n",
    "    plt.show()\n"
   ]
  },
  {
   "cell_type": "code",
   "execution_count": null,
   "id": "bc04e9a4",
   "metadata": {},
   "outputs": [],
   "source": []
  }
 ],
 "metadata": {
  "kernelspec": {
   "display_name": "Python 3 (ipykernel)",
   "language": "python",
   "name": "python3"
  },
  "language_info": {
   "codemirror_mode": {
    "name": "ipython",
    "version": 3
   },
   "file_extension": ".py",
   "mimetype": "text/x-python",
   "name": "python",
   "nbconvert_exporter": "python",
   "pygments_lexer": "ipython3",
   "version": "3.9.12"
  }
 },
 "nbformat": 4,
 "nbformat_minor": 5
}
