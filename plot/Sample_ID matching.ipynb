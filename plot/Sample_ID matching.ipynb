{
 "cells": [
  {
   "cell_type": "code",
   "execution_count": 32,
   "id": "e300e261",
   "metadata": {},
   "outputs": [],
   "source": [
    "import pandas as pd\n",
    "import os\n",
    "import numpy as np\n",
    "import re\n",
    "import warnings\n",
    "import math\n",
    "warnings.filterwarnings('ignore') #supresses warnings for now\n",
    "#warnings.filterwarnings(action='once') #shows warnings once\n",
    "\n",
    "dataFilePath = os.path.join(os.getcwd(),'Data')\n",
    "\n",
    "kicsSVdf = pd.read_csv(os.path.join(dataFilePath,'kics_structural_variations.txt'), sep = '\\t', header = 0)\n",
    "#kicsTEdf = pd.read_csv(os.path.join(dataFilePath,'kics_transposable_elements.txt'), sep = '\\t', header = 0)\n",
    "lfsSVdf = pd.read_csv(os.path.join(dataFilePath,'lfs_structural_variations.txt'), sep = '\\t', header = 0)\n",
    "#lfsTEdf = pd.read_csv(os.path.join(dataFilePath,'lfs_transposable_elements.txt'), sep = '\\t', header = 0)\n",
    "#kicsClinicdf = pd.read_csv(os.path.join(dataFilePath,'kics_clinical_edited.csv'), encoding='latin-1')\n",
    "lfsClinicdf = pd.read_csv(os.path.join(dataFilePath,'lfs_clinical_main.tsv'), sep = '\\t', header = 0)\n"
   ]
  },
  {
   "cell_type": "code",
   "execution_count": 33,
   "id": "c39c4dd8",
   "metadata": {},
   "outputs": [],
   "source": [
    "kicsClinicdf = pd.read_csv(os.path.join(dataFilePath,'kics_clinical_edited.csv'), encoding='latin-1')\n",
    "#print(kicsClinicdf.head(30))"
   ]
  },
  {
   "cell_type": "code",
   "execution_count": 34,
   "id": "ec99ba9b",
   "metadata": {},
   "outputs": [],
   "source": [
    "kicsSVdf = kicsSVdf.loc[(kicsSVdf['AnnotSV type'] == 'full')]\n",
    "lfsSVdf = lfsSVdf.loc[(lfsSVdf['AnnotSV type'] == 'full')]"
   ]
  },
  {
   "cell_type": "code",
   "execution_count": 35,
   "id": "9cc73ab2",
   "metadata": {},
   "outputs": [],
   "source": [
    "\"\"\"\n",
    "\n",
    "filter dfs\n",
    "\n",
    "\"\"\"\n",
    "def maxGDAFFilter(colName: str, df: pd.DataFrame)->pd.DataFrame:\n",
    "    temp = df[colName].str.contains(pat=',')\n",
    "    Index = list(np.where(temp == True)[0])\n",
    "    temp = df[colName].iloc[Index]\n",
    "    tempIndex = temp.index\n",
    "\n",
    "    for i in tempIndex:\n",
    "        tempList = temp[i].split(',')\n",
    "        tempList = [float(a) for a in tempList]\n",
    "        maxTemp = max(tempList)\n",
    "        df[colName][i] = maxTemp\n",
    "\n",
    "    df[colName] = df[colName].astype('float64')\n",
    "    \n",
    "    return df\n",
    "    \n",
    "kicsSVdf = maxGDAFFilter('GD_AF', kicsSVdf)\n",
    "lfsSVdf = maxGDAFFilter('GD_AF', lfsSVdf)"
   ]
  },
  {
   "cell_type": "code",
   "execution_count": 36,
   "id": "3bf0c43d",
   "metadata": {},
   "outputs": [],
   "source": [
    "listValSearch = ['291775', '298313', '315666', '320118', '18_1907']\n",
    "# searched for kID of 63, 83, 156, 171, 219\n",
    "# kID 120 141 and 232 do not have any matches...\n",
    "#what would make this that much better is if it was a dict. Computationally less heavy?\n",
    "\n",
    "for i in listValSearch: \n",
    "    kicsSVdf.drop(kicsSVdf[kicsSVdf['sample_id'].str.contains(i)==True].index, inplace = True)\n",
    "    \n",
    "kicsSVdf['SV chrom'] = kicsSVdf['SV chrom'].astype(str)\n",
    "lfsSVdf['SV chrom'] = lfsSVdf['SV chrom'].astype(str)\n",
    "\n",
    "kicsSVdf['sample_id'] = kicsSVdf['sample_id'].astype(str)\n",
    "lfsSVdf['sample_id'] = lfsSVdf['sample_id'].astype(str)\n",
    "\n",
    "kicsSVdf['sample_id'] = kicsSVdf['sample_id'].str.replace(\" \", \"\")\n",
    "lfsSVdf['sample_id'] = lfsSVdf['sample_id'].str.replace(\" \", \"\")\n",
    "\n",
    "listValSearch = ['63', '83', '156', '171', '219', '120', '141', '232']\n",
    "\n",
    "kicsClinicdf['KiCS ID'] = kicsClinicdf['KiCS ID'].astype(str)\n",
    "kicsClinicdf['KiCS ID'] = kicsClinicdf['KiCS ID'].str.replace(\" \", \"\")\n",
    "\n",
    "for i in listValSearch:\n",
    "    kicsClinicdf.drop(kicsClinicdf[kicsClinicdf['KiCS ID']==i].index, inplace = True)\n",
    "    \n",
    "#kicsClinicdf.drop(kicsClinicdf.loc[kicsClinicdf['tissue_type']=='?'].index, inplace=True)\n",
    "#kicsClinicdf.drop(kicsClinicdf.loc[pd.isna(kicsClinicdf['lfs_cancer_type_diagnosis'])].index, inplace=True)"
   ]
  },
  {
   "cell_type": "code",
   "execution_count": 37,
   "id": "45b01336",
   "metadata": {},
   "outputs": [],
   "source": [
    "# \"\"\"\n",
    "# Filter the ? out of of tissue type\n",
    "# filter NAN from diagnosis\n",
    "\n",
    "# \"\"\"\n",
    "\n",
    "# print(kicsClinicdf['lfs_cancer_type_diagnosis'].unique())\n",
    "# list1temp = kicsClinicdf['lfs_cancer_type_diagnosis'].unique()\n",
    "# #print(type(list1[1]), list1[1])\n",
    "\n",
    "# kicsClinicdf.drop(kicsClinicdf.loc[kicsClinicdf['tissue_type']=='?'].index, inplace=True)\n",
    "# kicsClinicdf.drop(kicsClinicdf.loc[kicsClinicdf['lfs_cancer_type_diagnosis']==list1temp[0]].index, inplace=True)\n",
    "# print(kicsClinicdf['lfs_cancer_type_diagnosis'].unique())\n",
    "# #print(kicsClinicdf['tissue_type'].value_counts())\n",
    "\n"
   ]
  },
  {
   "cell_type": "code",
   "execution_count": 38,
   "id": "96435b43",
   "metadata": {},
   "outputs": [],
   "source": [
    "def kIdAbbv(clinicDf, svDf, clinicCol, svCol):\n",
    "    \n",
    "    clinicDf.drop(clinicDf[clinicDf[clinicCol]=='Not applicable'].index, inplace = True)\n",
    "    \n",
    "    svDf[svCol] = svDf[svCol].astype(str)\n",
    "    clinicDf[clinicCol] = clinicDf[clinicCol].astype(str)\n",
    "    svDf[svCol] =  svDf[svCol].str.replace(\" \", \"\")\n",
    "    clinicDf[clinicCol] = clinicDf[clinicCol].str.replace(\" \", \"\")\n",
    "    \n",
    "    list1 = svDf[svCol].unique()\n",
    "    list2 = clinicDf[clinicCol].unique()\n",
    "    \n",
    "    svDict = dict()\n",
    "    clinicDict = dict()\n",
    "    \n",
    "    for i in range (len(list1)):\n",
    "        tempList = re.findall('\\d{3,}', list1[i])\n",
    "\n",
    "        #if empty, take the second one\n",
    "        if not tempList:\n",
    "            tempList = re.findall('\\d+', list1[i])\n",
    "            svDict[list1[i]] = tempList[1]\n",
    "\n",
    "        #if not empty \n",
    "        else:\n",
    "            svDict[list1[i]] = tempList[0]\n",
    "\n",
    "\n",
    "    for i in range (len(list2)):    \n",
    "        tempList = re.findall('\\d{3,}', list2[i])\n",
    "    \n",
    "        #if empty, take the second one\n",
    "        if not tempList:\n",
    "            tempList = re.findall('\\d+', list2[i])\n",
    "            clinicDict[list2[i]] = tempList[1]\n",
    "\n",
    "        #if not empty \n",
    "        else:\n",
    "            clinicDict[list2[i]] = tempList[0]\n",
    "    \n",
    "\n",
    "    clinicDf['abbv_id'] = clinicDf[clinicCol].map(clinicDict)\n",
    "    svDf['abbv_id'] = svDf[svCol].map(svDict)\n",
    "    \n",
    "    print(len(svDf[svCol].unique()))\n",
    "    \n",
    "    df = pd.merge(svDf[[svCol,'SV type','abbv_id']], \n",
    "                     clinicDf[[clinicCol, 'tumour_class','tissue_type','lfs_cancer_type_diagnosis', 'abbv_id']],\n",
    "                     left_on = 'abbv_id', \n",
    "                     right_on = 'abbv_id', \n",
    "                     how='inner')\n",
    "\n",
    "    return df"
   ]
  },
  {
   "cell_type": "code",
   "execution_count": 39,
   "id": "46c02915",
   "metadata": {},
   "outputs": [
    {
     "name": "stdout",
     "output_type": "stream",
     "text": [
      "191\n",
      "140\n"
     ]
    }
   ],
   "source": [
    "bigKDf = kIdAbbv(kicsClinicdf, kicsSVdf, 'CCP germline', 'sample_id')\n",
    "print(len(bigKDf['abbv_id'].unique()))\n",
    "\n",
    "#prints out how many we had before the id matching and how many we have left after the id matching"
   ]
  },
  {
   "cell_type": "code",
   "execution_count": 8,
   "id": "195a66e6",
   "metadata": {},
   "outputs": [
    {
     "name": "stdout",
     "output_type": "stream",
     "text": [
      "        sample_id SV type abbv_id     CCP germline       tumour_class  \\\n",
      "0         18_5255     DUP    5255  18-5255-A-02-00       SOLID TUMORS   \n",
      "1         18_5255     DUP    5255  18-5255-A-02-00       SOLID TUMORS   \n",
      "2         18_5255     DUP    5255  18-5255-A-02-00       SOLID TUMORS   \n",
      "3         18_5255     DUP    5255  18-5255-A-02-00       SOLID TUMORS   \n",
      "4         18_5255     DUP    5255  18-5255-A-02-00       SOLID TUMORS   \n",
      "...           ...     ...     ...              ...                ...   \n",
      "5018938    292600     DEL  292600           292600  LEUKEMIA/LYMPHOMA   \n",
      "5018939    292600     DUP  292600           292600  LEUKEMIA/LYMPHOMA   \n",
      "5018940    292600     DUP  292600           292600  LEUKEMIA/LYMPHOMA   \n",
      "5018941    292600     DEL  292600           292600  LEUKEMIA/LYMPHOMA   \n",
      "5018942    292600     DEL  292600           292600  LEUKEMIA/LYMPHOMA   \n",
      "\n",
      "        tissue_type lfs_cancer_type_diagnosis  \n",
      "0                GI                       NaN  \n",
      "1                GI                       NaN  \n",
      "2                GI                       NaN  \n",
      "3                GI                       NaN  \n",
      "4                GI                       NaN  \n",
      "...             ...                       ...  \n",
      "5018938       Blood                     B-ALL  \n",
      "5018939       Blood                     B-ALL  \n",
      "5018940       Blood                     B-ALL  \n",
      "5018941       Blood                     B-ALL  \n",
      "5018942       Blood                     B-ALL  \n",
      "\n",
      "[5018943 rows x 7 columns]\n"
     ]
    }
   ],
   "source": [
    "print(bigKDf)"
   ]
  },
  {
   "cell_type": "code",
   "execution_count": 9,
   "id": "9984d9ce",
   "metadata": {},
   "outputs": [
    {
     "name": "stdout",
     "output_type": "stream",
     "text": [
      "97\n"
     ]
    }
   ],
   "source": [
    "\"\"\"Filter the ? and the nan\"\"\"\n",
    "\n",
    "#print(bigKDf['tissue_type'].unique())\n",
    "bigKDf.drop(bigKDf.loc[bigKDf['tissue_type']=='?'].index, inplace=True)\n",
    "bigKDf.drop(bigKDf.loc[pd.isna(bigKDf['lfs_cancer_type_diagnosis'])].index, inplace=True)\n",
    "print(len(bigKDf['abbv_id'].unique()))\n",
    "#print(kicsClinicdf['tissue_type'].value_counts())"
   ]
  },
  {
   "cell_type": "code",
   "execution_count": null,
   "id": "00a25aef",
   "metadata": {},
   "outputs": [],
   "source": []
  },
  {
   "cell_type": "code",
   "execution_count": 10,
   "id": "dc28547e",
   "metadata": {},
   "outputs": [],
   "source": [
    "lfsSVdf['sample_id'] = lfsSVdf['sample_id'].astype(str)\n",
    "lfsClinicdf['sample'] = lfsClinicdf['sample'].astype(str)"
   ]
  },
  {
   "cell_type": "code",
   "execution_count": 11,
   "id": "f5403dba",
   "metadata": {},
   "outputs": [
    {
     "name": "stdout",
     "output_type": "stream",
     "text": [
      "65\n",
      "['4257' 'SJACT008_G' '808' '2085' '1087' '1092' '3805' '3136A' '4033'\n",
      " '2447' '353' '3806' '4854' '1478' '2262' '4028' '2957' '3688' '93' '1357'\n",
      " '2565' '4329' '4535_S1' '3298A' '2349' '2446' '3473' '5567' '3273' '3885'\n",
      " '3432' '1843' '3763' '3503' 'PD13489b' '2463' '2760A' '3643' 'SJACT001_G'\n",
      " '4227' '5537' '3367' 'SJACT002_G' '2815' '5536' '3634' '1476'\n",
      " 'SJACT005_G' '3425' '3365' '2413' 'SJACT007_G' '3356' '3361' '3687_2'\n",
      " '3332' '94' '1355' '2784' '2465' '3319' 'PD7195b' '3334' '352' '2765']\n",
      "460\n"
     ]
    }
   ],
   "source": [
    "print(len(lfsSVdf['sample_id'].unique())) #only 65 to begin with D:\n",
    "print(lfsSVdf['sample_id'].unique())\n",
    "\n",
    "print(len(lfsClinicdf['sample'].unique()))"
   ]
  },
  {
   "cell_type": "code",
   "execution_count": 12,
   "id": "eecde725",
   "metadata": {},
   "outputs": [
    {
     "name": "stdout",
     "output_type": "stream",
     "text": [
      "Index(['sample', 'meth_id', 'p53', 'tm_donor', 'tissue_type',\n",
      "       'cancer_diagnosis', 'active_cancer', 'gender', 'cancer_atdraw',\n",
      "       'cancer_atdraw_y5', 'cancer_atdraw_y1', 'firstcancer_atdraw',\n",
      "       'age_diff_closest_cancer', 'systemic_treatment_atdraw', 'ageofonset',\n",
      "       'agesamplecollection', 'cancer_num', 'cancer1_age_diff', 'cancer1',\n",
      "       'cancer1_ageofonset', 'cancer2', 'cancer2_ageofonset', 'cancer3',\n",
      "       'cancer3_ageofonset', 'cancer4', 'cancer4_ageofonset', 'cancer5',\n",
      "       'cancer5_ageofonset', 'cancer6', 'cancer6_ageofonset', 'cancer7',\n",
      "       'cancer7_ageofonset', 'cancer8', 'cancer8_ageofonset', 'protein',\n",
      "       'family', 'mdm2', 'gdna.exon.intron', 'gdna.transcript', 'gdna.start',\n",
      "       'gdna.end', 'gdna.genomic.notation', 'gdna.change', 'cdna.base.change',\n",
      "       'cdna.codon', 'cdna.transcript', 'cdna.codon.notation',\n",
      "       'protein.codon.change', 'protein.codon.num', 'Variant_Classification',\n",
      "       'Variant_Type', 'alleles', 'MRN', 'EXT#', 'WGS', 'Meth', 'LCD', 'DOD',\n",
      "       'DOB', 'Current Age', 'Age at Death', 'Censored Survival Age',\n",
      "       'Censored Survival', 'Ethnicity', 'Relationship', 'Collection Date',\n",
      "       'Hospital', 'Contact', 'Pedigree', 'Related Samples', 'Amount Leftover',\n",
      "       'Actionable_Drug', 'P_SNV_AD', 'P_SNV_AR', 'P_SNV_TS', 'P_SNV_Kinase',\n",
      "       'P_SNV_OtherCancerGene', 'P_SNV_nonCPG', 'VUS_SNV_AD', 'VUS_SNV_AR',\n",
      "       'VUS_SNV_TS', 'VUS_SNV_Kinase', 'VUS_SNV_OtherCancerGene',\n",
      "       'CancerOnly_P_SNV_nonCPG', 'CancerOnly_VUS_AD', 'CancerOnly_VUS_AR',\n",
      "       'CancerOnly_VUS_TS', 'CancerOnly_VUS_Kinase',\n",
      "       'CancerOnly_VUS_OtherCancerGene', 'CancerOnly_VUS_nonCPG', 'SV_nonCPG',\n",
      "       'SV_CPG', 'CancerOnly_Candidate_P_nonCPG', 'Protective_Candidates',\n",
      "       'MSK_Actionable_1', 'MSK_Actionable_2', 'MSK_Actionable_3',\n",
      "       'MSK_Actionable_4', 'MSK_Actionable_R1', 'MSK_Actionable_R2'],\n",
      "      dtype='object')\n",
      "Index(['AnnotSV ID', 'SV chrom', 'SV start', 'SV end', 'SV length', 'SV type',\n",
      "       'ID', 'REF', 'ALT', 'QUAL', 'FILTER', 'INFO', 'FORMAT', 'SAMPLE',\n",
      "       'SAMPLE_INFO', 'AnnotSV type', 'Gene name', 'NM', 'CDS length',\n",
      "       'tx length', 'location', 'intersectStart', 'intersectEnd',\n",
      "       'DGV_GAIN_IDs', 'DGV_GAIN_n_samples_with_SV',\n",
      "       'DGV_GAIN_n_samples_tested', 'DGV_GAIN_Frequency', 'DGV_LOSS_IDs',\n",
      "       'DGV_LOSS_n_samples_with_SV', 'DGV_LOSS_n_samples_tested',\n",
      "       'DGV_LOSS_Frequency', 'GD_ID', 'GD_AN', 'GD_N_HET', 'GD_N_HOMALT',\n",
      "       'GD_AF', 'GD_POPMAX_AF', 'GD_ID_others', 'DDD_SV',\n",
      "       'DDD_DUP_n_samples_with_SV', 'DDD_DUP_Frequency',\n",
      "       'DDD_DEL_n_samples_with_SV', 'DDD_DEL_Frequency', '1000g_event',\n",
      "       '1000g_AF', '1000g_max_AF', 'IMH_ID', 'IMH_AF', 'IMH_ID_others',\n",
      "       'promoters', 'dbVar_event', 'dbVar_variant', 'dbVar_status',\n",
      "       'TADcoordinates', 'ENCODEexperiments', 'Panel_Type', 'Panel_N',\n",
      "       'Panel_Status', 'GCcontent_left', 'GCcontent_right',\n",
      "       'Repeats_coord_left', 'Repeats_type_left', 'Repeats_coord_right',\n",
      "       'Repeats_type_right', 'ACMG', 'HI_CGscore', 'TriS_CGscore',\n",
      "       'DDD_status', 'DDD_mode', 'DDD_consequence', 'DDD_disease', 'DDD_pmids',\n",
      "       'HI_DDDpercent', 'synZ_ExAC', 'misZ_ExAC', 'pLI_ExAC', 'delZ_ExAC',\n",
      "       'dupZ_ExAC', 'cnvZ_ExAC', 'morbidGenes', 'morbidGenesCandidates',\n",
      "       'Mim Number', 'Phenotypes', 'Inheritance', 'AnnotSV ranking', 'CPG',\n",
      "       'sample_id'],\n",
      "      dtype='object')\n"
     ]
    },
    {
     "data": {
      "text/plain": [
       "'\\ndrop unaffected? and NA? \\n- Keeping unaffected and NA\\nWhich column do i use for id\\n- sample\\n'"
      ]
     },
     "execution_count": 12,
     "metadata": {},
     "output_type": "execute_result"
    }
   ],
   "source": [
    "print(lfsClinicdf.columns)\n",
    "\n",
    "print(lfsSVdf.columns)\n",
    "\n",
    "\"\"\"\n",
    "drop unaffected? and NA? \n",
    "- Keeping unaffected and NA\n",
    "Which column do i use for id\n",
    "- sample\n",
    "\"\"\"\n",
    "#print(set(lfsSVdf['sample_id']).difference(set(lfsClinicdf['sample'])))"
   ]
  },
  {
   "cell_type": "code",
   "execution_count": 13,
   "id": "af144e5c",
   "metadata": {},
   "outputs": [
    {
     "name": "stdout",
     "output_type": "stream",
     "text": [
      "        sample_id SV chrom     GD_AF sample tissue_type cancer_diagnosis  \\\n",
      "0            4257        1 -1.000000   4257      Breast           Breast   \n",
      "1            4257        1  0.000047   4257      Breast           Breast   \n",
      "2            4257        1 -1.000000   4257      Breast           Breast   \n",
      "3            4257        1 -1.000000   4257      Breast           Breast   \n",
      "4            4257        1  0.000098   4257      Breast           Breast   \n",
      "...           ...      ...       ...    ...         ...              ...   \n",
      "1434954      2765        X  0.000094   2765     Adrenal              ACC   \n",
      "1434955      2765        X  0.000491   2765     Adrenal              ACC   \n",
      "1434956      2765        X  0.000491   2765     Adrenal              ACC   \n",
      "1434957      2765        X  0.000422   2765     Adrenal              ACC   \n",
      "1434958      2765        Y -1.000000   2765     Adrenal              ACC   \n",
      "\n",
      "        active_cancer gender  \n",
      "0              Breast      F  \n",
      "1              Breast      F  \n",
      "2              Breast      F  \n",
      "3              Breast      F  \n",
      "4              Breast      F  \n",
      "...               ...    ...  \n",
      "1434954           NaN      M  \n",
      "1434955           NaN      M  \n",
      "1434956           NaN      M  \n",
      "1434957           NaN      M  \n",
      "1434958           NaN      M  \n",
      "\n",
      "[1434959 rows x 8 columns]\n",
      "65\n"
     ]
    }
   ],
   "source": [
    "\"\"\"\n",
    "Can directly map the two\n",
    "Apply on Filtered Prelim Graphs\n",
    "\"\"\"\n",
    "\n",
    "bigLDF = pd.merge(lfsSVdf[['sample_id','SV chrom','GD_AF']], \n",
    "                     lfsClinicdf[['sample','tissue_type', 'cancer_diagnosis', 'active_cancer', 'gender']],\n",
    "                     left_on = 'sample_id', \n",
    "                     right_on = 'sample', \n",
    "                     how='inner')\n",
    "print(bigLDF)\n",
    "print(len(bigLDF['sample_id'].unique()))\n"
   ]
  },
  {
   "cell_type": "code",
   "execution_count": null,
   "id": "5b8b0772",
   "metadata": {},
   "outputs": [],
   "source": []
  },
  {
   "cell_type": "code",
   "execution_count": null,
   "id": "a8312733",
   "metadata": {},
   "outputs": [],
   "source": []
  }
 ],
 "metadata": {
  "kernelspec": {
   "display_name": "Python 3 (ipykernel)",
   "language": "python",
   "name": "python3"
  },
  "language_info": {
   "codemirror_mode": {
    "name": "ipython",
    "version": 3
   },
   "file_extension": ".py",
   "mimetype": "text/x-python",
   "name": "python",
   "nbconvert_exporter": "python",
   "pygments_lexer": "ipython3",
   "version": "3.9.12"
  }
 },
 "nbformat": 4,
 "nbformat_minor": 5
}
